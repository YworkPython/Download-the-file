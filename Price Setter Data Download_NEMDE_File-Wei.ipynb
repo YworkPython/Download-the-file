{
 "cells": [
  {
   "cell_type": "code",
   "execution_count": 40,
   "id": "0d633cb4",
   "metadata": {},
   "outputs": [],
   "source": [
    "import os\n",
    "import re\n",
    "import requests\n",
    "from bs4 import BeautifulSoup\n",
    "from zipfile import ZipFile\n",
    "from io import BytesIO"
   ]
  },
  {
   "cell_type": "code",
   "execution_count": null,
   "id": "06cdb9b9-24e2-4cb2-9688-3c78419f24cb",
   "metadata": {},
   "outputs": [],
   "source": []
  },
  {
   "cell_type": "code",
   "execution_count": 41,
   "id": "7ffdf53d-35d6-44c4-952e-556040d080e7",
   "metadata": {},
   "outputs": [
    {
     "name": "stderr",
     "output_type": "stream",
     "text": [
      "C:\\ProgramData\\anaconda3\\Lib\\site-packages\\urllib3\\connectionpool.py:1097: InsecureRequestWarning: Unverified HTTPS request is being made to host 'nemweb.com.au'. Adding certificate verification is strongly advised. See: https://urllib3.readthedocs.io/en/latest/advanced-usage.html#tls-warnings\n",
      "  warnings.warn(\n"
     ]
    },
    {
     "name": "stdout",
     "output_type": "stream",
     "text": [
      "ZIP file downloaded and contents extracted to 'D:\\PRICESETTER'\n"
     ]
    }
   ],
   "source": [
    "zip_url = \"https://nemweb.com.au/Data_Archive/Wholesale_Electricity/NEMDE/2024/NEMDE_2024_10/NEMDE_Market_Data/NEMDE_Files/NemPriceSetter_20241001_xml.zip\"  # Replace with the actual URL\n",
    "\n",
    "\n",
    "        # Send a GET request to download the ZIP file content\n",
    "response = requests.get(zip_url,verify=False)\n",
    "response.raise_for_status()  # Raise an exception for bad status codes (4xx or 5xx)\n",
    "\n",
    "        # Use BytesIO to handle the downloaded content as a file-like object in memory\n",
    "zip_file_in_memory = BytesIO(response.content)\n",
    "\n",
    "        # Open the ZIP file\n",
    "with ZipFile(zip_file_in_memory, 'r') as zip_ref:\n",
    "            # Create a directory to extract the XML files to (optional)\n",
    "    extract_path = \"D:\\PRICESETTER\"\n",
    "            # os.makedirs(extract_path, exist_ok=True) # Uncomment if you want to create the directory\n",
    "\n",
    "            # Extract all files from the ZIP archive\n",
    "    zip_ref.extractall(extract_path)\n",
    "    print(f\"ZIP file downloaded and contents extracted to '{extract_path}'\")\n",
    "\n",
    "            # You can also iterate through the files in the ZIP and process XMLs individually\n",
    "            # for filename in zip_ref.namelist():\n",
    "            #     if filename.endswith(\".xml\"):\n",
    "            #         with zip_ref.open(filename) as xml_file:\n",
    "            #             xml_content = xml_file.read()\n",
    "            #             print(f\"Content of {filename}:\\n{xml_content.decode('utf-8')[:200]}...\") # Print first 200 chars\n",
    "            #             # Further process the XML content here (e.g., parse with ElementTree)\n",
    "\n"
   ]
  },
  {
   "cell_type": "code",
   "execution_count": 46,
   "id": "ff07fa7d-4390-48d5-95b8-d824723e24b1",
   "metadata": {},
   "outputs": [],
   "source": [
    "def downloading_price_setter_data(location,year, month):\n",
    "    \n",
    "    os.chdir(location)\n",
    "    # Step 1: Load the webpage\n",
    "    url ='https://nemweb.com.au/Data_Archive/Wholesale_Electricity/NEMDE/{}/NEMDE_{}_{}/NEMDE_Market_Data/NEMDE_Files/'.format(year,year,month)\n",
    "    response = requests.get(url,verify=False)\n",
    "    response.raise_for_status()\n",
    "    \n",
    "    # Step 2: Parse the page to extract download URLs\n",
    "    soup = BeautifulSoup(response.content, 'html.parser')\n",
    "    download_links = soup.find_all('a', href=True)\n",
    "    \n",
    "    #excel_urls =['https://nemweb.com.au/'.join(link['href'] for link in download_links if link['href'].endswith('xml.zip'))]\n",
    "    excel_urls = [ \"https://nemweb.com.au\" +link['href'] for link in download_links if link['href'].endswith('_xml.zip')]\n",
    "    #excel_urls = [ \"https://nemweb.com.au\" +link['href'] for link in download_links if re.findall('UNIT_SCADA',link['href'])]\n",
    "    \n",
    "    # Step 3: Download the Excel files\n",
    "    for zip_url in excel_urls:\n",
    "        #print(zip_url)\n",
    "        response = requests.get(zip_url,verify=False)\n",
    "        response.raise_for_status()\n",
    "        zip_file_in_memory = BytesIO(response.content)\n",
    "        with ZipFile(zip_file_in_memory, 'r') as zip_ref:\n",
    "            extract_path = location\n",
    "            zip_ref.extractall(extract_path)\n",
    "            print(f\"'{zip_url}' downloaded and contents extracted to '{extract_path}'\")\n",
    "            \n",
    "\n",
    "        '''\n",
    "        with ZipFile(BytesIO(excel_response.content)) as zip_file:\n",
    "            for zip_info in zip_file.infolist():\n",
    "                if zip_info.filename.endswith('.zip'):\n",
    "                    zip_file.extract(zip_info, path=r'D:\\PRICESETTER')\n",
    "                    extracted_file_path = zip_info.filename\n",
    "\n",
    "\n",
    "    '''\n"
   ]
  },
  {
   "cell_type": "code",
   "execution_count": 48,
   "id": "3c43e5cc-4d42-43d1-a503-786459ae883a",
   "metadata": {},
   "outputs": [
    {
     "name": "stderr",
     "output_type": "stream",
     "text": [
      "C:\\ProgramData\\anaconda3\\Lib\\site-packages\\urllib3\\connectionpool.py:1097: InsecureRequestWarning: Unverified HTTPS request is being made to host 'nemweb.com.au'. Adding certificate verification is strongly advised. See: https://urllib3.readthedocs.io/en/latest/advanced-usage.html#tls-warnings\n",
      "  warnings.warn(\n",
      "C:\\ProgramData\\anaconda3\\Lib\\site-packages\\urllib3\\connectionpool.py:1097: InsecureRequestWarning: Unverified HTTPS request is being made to host 'nemweb.com.au'. Adding certificate verification is strongly advised. See: https://urllib3.readthedocs.io/en/latest/advanced-usage.html#tls-warnings\n",
      "  warnings.warn(\n"
     ]
    },
    {
     "name": "stdout",
     "output_type": "stream",
     "text": [
      "https://nemweb.com.au/Data_Archive/Wholesale_Electricity/NEMDE/2024/NEMDE_2024_01/NEMDE_Market_Data/NEMDE_Files/NemPriceSetter_20240101_xml.zip\n",
      "'https://nemweb.com.au/Data_Archive/Wholesale_Electricity/NEMDE/2024/NEMDE_2024_01/NEMDE_Market_Data/NEMDE_Files/NemPriceSetter_20240101_xml.zip'e downloaded and contents extracted to 'D:\\PRICESETTER2'\n",
      "https://nemweb.com.au/Data_Archive/Wholesale_Electricity/NEMDE/2024/NEMDE_2024_01/NEMDE_Market_Data/NEMDE_Files/NemPriceSetter_20240102_xml.zip\n"
     ]
    },
    {
     "name": "stderr",
     "output_type": "stream",
     "text": [
      "C:\\ProgramData\\anaconda3\\Lib\\site-packages\\urllib3\\connectionpool.py:1097: InsecureRequestWarning: Unverified HTTPS request is being made to host 'nemweb.com.au'. Adding certificate verification is strongly advised. See: https://urllib3.readthedocs.io/en/latest/advanced-usage.html#tls-warnings\n",
      "  warnings.warn(\n"
     ]
    },
    {
     "name": "stdout",
     "output_type": "stream",
     "text": [
      "'https://nemweb.com.au/Data_Archive/Wholesale_Electricity/NEMDE/2024/NEMDE_2024_01/NEMDE_Market_Data/NEMDE_Files/NemPriceSetter_20240102_xml.zip'e downloaded and contents extracted to 'D:\\PRICESETTER2'\n",
      "https://nemweb.com.au/Data_Archive/Wholesale_Electricity/NEMDE/2024/NEMDE_2024_01/NEMDE_Market_Data/NEMDE_Files/NemPriceSetter_20240103_xml.zip\n"
     ]
    },
    {
     "name": "stderr",
     "output_type": "stream",
     "text": [
      "C:\\ProgramData\\anaconda3\\Lib\\site-packages\\urllib3\\connectionpool.py:1097: InsecureRequestWarning: Unverified HTTPS request is being made to host 'nemweb.com.au'. Adding certificate verification is strongly advised. See: https://urllib3.readthedocs.io/en/latest/advanced-usage.html#tls-warnings\n",
      "  warnings.warn(\n"
     ]
    },
    {
     "name": "stdout",
     "output_type": "stream",
     "text": [
      "'https://nemweb.com.au/Data_Archive/Wholesale_Electricity/NEMDE/2024/NEMDE_2024_01/NEMDE_Market_Data/NEMDE_Files/NemPriceSetter_20240103_xml.zip'e downloaded and contents extracted to 'D:\\PRICESETTER2'\n",
      "https://nemweb.com.au/Data_Archive/Wholesale_Electricity/NEMDE/2024/NEMDE_2024_01/NEMDE_Market_Data/NEMDE_Files/NemPriceSetter_20240104_xml.zip\n"
     ]
    },
    {
     "name": "stderr",
     "output_type": "stream",
     "text": [
      "C:\\ProgramData\\anaconda3\\Lib\\site-packages\\urllib3\\connectionpool.py:1097: InsecureRequestWarning: Unverified HTTPS request is being made to host 'nemweb.com.au'. Adding certificate verification is strongly advised. See: https://urllib3.readthedocs.io/en/latest/advanced-usage.html#tls-warnings\n",
      "  warnings.warn(\n"
     ]
    },
    {
     "name": "stdout",
     "output_type": "stream",
     "text": [
      "'https://nemweb.com.au/Data_Archive/Wholesale_Electricity/NEMDE/2024/NEMDE_2024_01/NEMDE_Market_Data/NEMDE_Files/NemPriceSetter_20240104_xml.zip'e downloaded and contents extracted to 'D:\\PRICESETTER2'\n",
      "https://nemweb.com.au/Data_Archive/Wholesale_Electricity/NEMDE/2024/NEMDE_2024_01/NEMDE_Market_Data/NEMDE_Files/NemPriceSetter_20240105_xml.zip\n"
     ]
    },
    {
     "name": "stderr",
     "output_type": "stream",
     "text": [
      "C:\\ProgramData\\anaconda3\\Lib\\site-packages\\urllib3\\connectionpool.py:1097: InsecureRequestWarning: Unverified HTTPS request is being made to host 'nemweb.com.au'. Adding certificate verification is strongly advised. See: https://urllib3.readthedocs.io/en/latest/advanced-usage.html#tls-warnings\n",
      "  warnings.warn(\n"
     ]
    },
    {
     "name": "stdout",
     "output_type": "stream",
     "text": [
      "'https://nemweb.com.au/Data_Archive/Wholesale_Electricity/NEMDE/2024/NEMDE_2024_01/NEMDE_Market_Data/NEMDE_Files/NemPriceSetter_20240105_xml.zip'e downloaded and contents extracted to 'D:\\PRICESETTER2'\n",
      "https://nemweb.com.au/Data_Archive/Wholesale_Electricity/NEMDE/2024/NEMDE_2024_01/NEMDE_Market_Data/NEMDE_Files/NemPriceSetter_20240106_xml.zip\n"
     ]
    },
    {
     "name": "stderr",
     "output_type": "stream",
     "text": [
      "C:\\ProgramData\\anaconda3\\Lib\\site-packages\\urllib3\\connectionpool.py:1097: InsecureRequestWarning: Unverified HTTPS request is being made to host 'nemweb.com.au'. Adding certificate verification is strongly advised. See: https://urllib3.readthedocs.io/en/latest/advanced-usage.html#tls-warnings\n",
      "  warnings.warn(\n"
     ]
    },
    {
     "name": "stdout",
     "output_type": "stream",
     "text": [
      "'https://nemweb.com.au/Data_Archive/Wholesale_Electricity/NEMDE/2024/NEMDE_2024_01/NEMDE_Market_Data/NEMDE_Files/NemPriceSetter_20240106_xml.zip'e downloaded and contents extracted to 'D:\\PRICESETTER2'\n",
      "https://nemweb.com.au/Data_Archive/Wholesale_Electricity/NEMDE/2024/NEMDE_2024_01/NEMDE_Market_Data/NEMDE_Files/NemPriceSetter_20240107_xml.zip\n"
     ]
    },
    {
     "name": "stderr",
     "output_type": "stream",
     "text": [
      "C:\\ProgramData\\anaconda3\\Lib\\site-packages\\urllib3\\connectionpool.py:1097: InsecureRequestWarning: Unverified HTTPS request is being made to host 'nemweb.com.au'. Adding certificate verification is strongly advised. See: https://urllib3.readthedocs.io/en/latest/advanced-usage.html#tls-warnings\n",
      "  warnings.warn(\n"
     ]
    },
    {
     "name": "stdout",
     "output_type": "stream",
     "text": [
      "'https://nemweb.com.au/Data_Archive/Wholesale_Electricity/NEMDE/2024/NEMDE_2024_01/NEMDE_Market_Data/NEMDE_Files/NemPriceSetter_20240107_xml.zip'e downloaded and contents extracted to 'D:\\PRICESETTER2'\n",
      "https://nemweb.com.au/Data_Archive/Wholesale_Electricity/NEMDE/2024/NEMDE_2024_01/NEMDE_Market_Data/NEMDE_Files/NemPriceSetter_20240108_xml.zip\n"
     ]
    },
    {
     "name": "stderr",
     "output_type": "stream",
     "text": [
      "C:\\ProgramData\\anaconda3\\Lib\\site-packages\\urllib3\\connectionpool.py:1097: InsecureRequestWarning: Unverified HTTPS request is being made to host 'nemweb.com.au'. Adding certificate verification is strongly advised. See: https://urllib3.readthedocs.io/en/latest/advanced-usage.html#tls-warnings\n",
      "  warnings.warn(\n"
     ]
    },
    {
     "name": "stdout",
     "output_type": "stream",
     "text": [
      "'https://nemweb.com.au/Data_Archive/Wholesale_Electricity/NEMDE/2024/NEMDE_2024_01/NEMDE_Market_Data/NEMDE_Files/NemPriceSetter_20240108_xml.zip'e downloaded and contents extracted to 'D:\\PRICESETTER2'\n",
      "https://nemweb.com.au/Data_Archive/Wholesale_Electricity/NEMDE/2024/NEMDE_2024_01/NEMDE_Market_Data/NEMDE_Files/NemPriceSetter_20240109_xml.zip\n"
     ]
    },
    {
     "name": "stderr",
     "output_type": "stream",
     "text": [
      "C:\\ProgramData\\anaconda3\\Lib\\site-packages\\urllib3\\connectionpool.py:1097: InsecureRequestWarning: Unverified HTTPS request is being made to host 'nemweb.com.au'. Adding certificate verification is strongly advised. See: https://urllib3.readthedocs.io/en/latest/advanced-usage.html#tls-warnings\n",
      "  warnings.warn(\n"
     ]
    },
    {
     "name": "stdout",
     "output_type": "stream",
     "text": [
      "'https://nemweb.com.au/Data_Archive/Wholesale_Electricity/NEMDE/2024/NEMDE_2024_01/NEMDE_Market_Data/NEMDE_Files/NemPriceSetter_20240109_xml.zip'e downloaded and contents extracted to 'D:\\PRICESETTER2'\n",
      "https://nemweb.com.au/Data_Archive/Wholesale_Electricity/NEMDE/2024/NEMDE_2024_01/NEMDE_Market_Data/NEMDE_Files/NemPriceSetter_20240110_xml.zip\n"
     ]
    },
    {
     "name": "stderr",
     "output_type": "stream",
     "text": [
      "C:\\ProgramData\\anaconda3\\Lib\\site-packages\\urllib3\\connectionpool.py:1097: InsecureRequestWarning: Unverified HTTPS request is being made to host 'nemweb.com.au'. Adding certificate verification is strongly advised. See: https://urllib3.readthedocs.io/en/latest/advanced-usage.html#tls-warnings\n",
      "  warnings.warn(\n"
     ]
    },
    {
     "name": "stdout",
     "output_type": "stream",
     "text": [
      "'https://nemweb.com.au/Data_Archive/Wholesale_Electricity/NEMDE/2024/NEMDE_2024_01/NEMDE_Market_Data/NEMDE_Files/NemPriceSetter_20240110_xml.zip'e downloaded and contents extracted to 'D:\\PRICESETTER2'\n",
      "https://nemweb.com.au/Data_Archive/Wholesale_Electricity/NEMDE/2024/NEMDE_2024_01/NEMDE_Market_Data/NEMDE_Files/NemPriceSetter_20240111_xml.zip\n"
     ]
    },
    {
     "name": "stderr",
     "output_type": "stream",
     "text": [
      "C:\\ProgramData\\anaconda3\\Lib\\site-packages\\urllib3\\connectionpool.py:1097: InsecureRequestWarning: Unverified HTTPS request is being made to host 'nemweb.com.au'. Adding certificate verification is strongly advised. See: https://urllib3.readthedocs.io/en/latest/advanced-usage.html#tls-warnings\n",
      "  warnings.warn(\n"
     ]
    },
    {
     "name": "stdout",
     "output_type": "stream",
     "text": [
      "'https://nemweb.com.au/Data_Archive/Wholesale_Electricity/NEMDE/2024/NEMDE_2024_01/NEMDE_Market_Data/NEMDE_Files/NemPriceSetter_20240111_xml.zip'e downloaded and contents extracted to 'D:\\PRICESETTER2'\n",
      "https://nemweb.com.au/Data_Archive/Wholesale_Electricity/NEMDE/2024/NEMDE_2024_01/NEMDE_Market_Data/NEMDE_Files/NemPriceSetter_20240112_xml.zip\n"
     ]
    },
    {
     "name": "stderr",
     "output_type": "stream",
     "text": [
      "C:\\ProgramData\\anaconda3\\Lib\\site-packages\\urllib3\\connectionpool.py:1097: InsecureRequestWarning: Unverified HTTPS request is being made to host 'nemweb.com.au'. Adding certificate verification is strongly advised. See: https://urllib3.readthedocs.io/en/latest/advanced-usage.html#tls-warnings\n",
      "  warnings.warn(\n"
     ]
    },
    {
     "name": "stdout",
     "output_type": "stream",
     "text": [
      "'https://nemweb.com.au/Data_Archive/Wholesale_Electricity/NEMDE/2024/NEMDE_2024_01/NEMDE_Market_Data/NEMDE_Files/NemPriceSetter_20240112_xml.zip'e downloaded and contents extracted to 'D:\\PRICESETTER2'\n",
      "https://nemweb.com.au/Data_Archive/Wholesale_Electricity/NEMDE/2024/NEMDE_2024_01/NEMDE_Market_Data/NEMDE_Files/NemPriceSetter_20240113_xml.zip\n"
     ]
    },
    {
     "name": "stderr",
     "output_type": "stream",
     "text": [
      "C:\\ProgramData\\anaconda3\\Lib\\site-packages\\urllib3\\connectionpool.py:1097: InsecureRequestWarning: Unverified HTTPS request is being made to host 'nemweb.com.au'. Adding certificate verification is strongly advised. See: https://urllib3.readthedocs.io/en/latest/advanced-usage.html#tls-warnings\n",
      "  warnings.warn(\n"
     ]
    },
    {
     "name": "stdout",
     "output_type": "stream",
     "text": [
      "'https://nemweb.com.au/Data_Archive/Wholesale_Electricity/NEMDE/2024/NEMDE_2024_01/NEMDE_Market_Data/NEMDE_Files/NemPriceSetter_20240113_xml.zip'e downloaded and contents extracted to 'D:\\PRICESETTER2'\n",
      "https://nemweb.com.au/Data_Archive/Wholesale_Electricity/NEMDE/2024/NEMDE_2024_01/NEMDE_Market_Data/NEMDE_Files/NemPriceSetter_20240114_xml.zip\n"
     ]
    },
    {
     "name": "stderr",
     "output_type": "stream",
     "text": [
      "C:\\ProgramData\\anaconda3\\Lib\\site-packages\\urllib3\\connectionpool.py:1097: InsecureRequestWarning: Unverified HTTPS request is being made to host 'nemweb.com.au'. Adding certificate verification is strongly advised. See: https://urllib3.readthedocs.io/en/latest/advanced-usage.html#tls-warnings\n",
      "  warnings.warn(\n"
     ]
    },
    {
     "name": "stdout",
     "output_type": "stream",
     "text": [
      "'https://nemweb.com.au/Data_Archive/Wholesale_Electricity/NEMDE/2024/NEMDE_2024_01/NEMDE_Market_Data/NEMDE_Files/NemPriceSetter_20240114_xml.zip'e downloaded and contents extracted to 'D:\\PRICESETTER2'\n",
      "https://nemweb.com.au/Data_Archive/Wholesale_Electricity/NEMDE/2024/NEMDE_2024_01/NEMDE_Market_Data/NEMDE_Files/NemPriceSetter_20240115_xml.zip\n"
     ]
    },
    {
     "name": "stderr",
     "output_type": "stream",
     "text": [
      "C:\\ProgramData\\anaconda3\\Lib\\site-packages\\urllib3\\connectionpool.py:1097: InsecureRequestWarning: Unverified HTTPS request is being made to host 'nemweb.com.au'. Adding certificate verification is strongly advised. See: https://urllib3.readthedocs.io/en/latest/advanced-usage.html#tls-warnings\n",
      "  warnings.warn(\n"
     ]
    },
    {
     "name": "stdout",
     "output_type": "stream",
     "text": [
      "'https://nemweb.com.au/Data_Archive/Wholesale_Electricity/NEMDE/2024/NEMDE_2024_01/NEMDE_Market_Data/NEMDE_Files/NemPriceSetter_20240115_xml.zip'e downloaded and contents extracted to 'D:\\PRICESETTER2'\n",
      "https://nemweb.com.au/Data_Archive/Wholesale_Electricity/NEMDE/2024/NEMDE_2024_01/NEMDE_Market_Data/NEMDE_Files/NemPriceSetter_20240116_xml.zip\n"
     ]
    },
    {
     "name": "stderr",
     "output_type": "stream",
     "text": [
      "C:\\ProgramData\\anaconda3\\Lib\\site-packages\\urllib3\\connectionpool.py:1097: InsecureRequestWarning: Unverified HTTPS request is being made to host 'nemweb.com.au'. Adding certificate verification is strongly advised. See: https://urllib3.readthedocs.io/en/latest/advanced-usage.html#tls-warnings\n",
      "  warnings.warn(\n"
     ]
    },
    {
     "name": "stdout",
     "output_type": "stream",
     "text": [
      "'https://nemweb.com.au/Data_Archive/Wholesale_Electricity/NEMDE/2024/NEMDE_2024_01/NEMDE_Market_Data/NEMDE_Files/NemPriceSetter_20240116_xml.zip'e downloaded and contents extracted to 'D:\\PRICESETTER2'\n",
      "https://nemweb.com.au/Data_Archive/Wholesale_Electricity/NEMDE/2024/NEMDE_2024_01/NEMDE_Market_Data/NEMDE_Files/NemPriceSetter_20240117_xml.zip\n"
     ]
    },
    {
     "name": "stderr",
     "output_type": "stream",
     "text": [
      "C:\\ProgramData\\anaconda3\\Lib\\site-packages\\urllib3\\connectionpool.py:1097: InsecureRequestWarning: Unverified HTTPS request is being made to host 'nemweb.com.au'. Adding certificate verification is strongly advised. See: https://urllib3.readthedocs.io/en/latest/advanced-usage.html#tls-warnings\n",
      "  warnings.warn(\n"
     ]
    },
    {
     "name": "stdout",
     "output_type": "stream",
     "text": [
      "'https://nemweb.com.au/Data_Archive/Wholesale_Electricity/NEMDE/2024/NEMDE_2024_01/NEMDE_Market_Data/NEMDE_Files/NemPriceSetter_20240117_xml.zip'e downloaded and contents extracted to 'D:\\PRICESETTER2'\n",
      "https://nemweb.com.au/Data_Archive/Wholesale_Electricity/NEMDE/2024/NEMDE_2024_01/NEMDE_Market_Data/NEMDE_Files/NemPriceSetter_20240118_xml.zip\n"
     ]
    },
    {
     "name": "stderr",
     "output_type": "stream",
     "text": [
      "C:\\ProgramData\\anaconda3\\Lib\\site-packages\\urllib3\\connectionpool.py:1097: InsecureRequestWarning: Unverified HTTPS request is being made to host 'nemweb.com.au'. Adding certificate verification is strongly advised. See: https://urllib3.readthedocs.io/en/latest/advanced-usage.html#tls-warnings\n",
      "  warnings.warn(\n"
     ]
    },
    {
     "name": "stdout",
     "output_type": "stream",
     "text": [
      "'https://nemweb.com.au/Data_Archive/Wholesale_Electricity/NEMDE/2024/NEMDE_2024_01/NEMDE_Market_Data/NEMDE_Files/NemPriceSetter_20240118_xml.zip'e downloaded and contents extracted to 'D:\\PRICESETTER2'\n",
      "https://nemweb.com.au/Data_Archive/Wholesale_Electricity/NEMDE/2024/NEMDE_2024_01/NEMDE_Market_Data/NEMDE_Files/NemPriceSetter_20240119_xml.zip\n"
     ]
    },
    {
     "name": "stderr",
     "output_type": "stream",
     "text": [
      "C:\\ProgramData\\anaconda3\\Lib\\site-packages\\urllib3\\connectionpool.py:1097: InsecureRequestWarning: Unverified HTTPS request is being made to host 'nemweb.com.au'. Adding certificate verification is strongly advised. See: https://urllib3.readthedocs.io/en/latest/advanced-usage.html#tls-warnings\n",
      "  warnings.warn(\n"
     ]
    },
    {
     "name": "stdout",
     "output_type": "stream",
     "text": [
      "'https://nemweb.com.au/Data_Archive/Wholesale_Electricity/NEMDE/2024/NEMDE_2024_01/NEMDE_Market_Data/NEMDE_Files/NemPriceSetter_20240119_xml.zip'e downloaded and contents extracted to 'D:\\PRICESETTER2'\n",
      "https://nemweb.com.au/Data_Archive/Wholesale_Electricity/NEMDE/2024/NEMDE_2024_01/NEMDE_Market_Data/NEMDE_Files/NemPriceSetter_20240120_xml.zip\n"
     ]
    },
    {
     "name": "stderr",
     "output_type": "stream",
     "text": [
      "C:\\ProgramData\\anaconda3\\Lib\\site-packages\\urllib3\\connectionpool.py:1097: InsecureRequestWarning: Unverified HTTPS request is being made to host 'nemweb.com.au'. Adding certificate verification is strongly advised. See: https://urllib3.readthedocs.io/en/latest/advanced-usage.html#tls-warnings\n",
      "  warnings.warn(\n"
     ]
    },
    {
     "name": "stdout",
     "output_type": "stream",
     "text": [
      "'https://nemweb.com.au/Data_Archive/Wholesale_Electricity/NEMDE/2024/NEMDE_2024_01/NEMDE_Market_Data/NEMDE_Files/NemPriceSetter_20240120_xml.zip'e downloaded and contents extracted to 'D:\\PRICESETTER2'\n",
      "https://nemweb.com.au/Data_Archive/Wholesale_Electricity/NEMDE/2024/NEMDE_2024_01/NEMDE_Market_Data/NEMDE_Files/NemPriceSetter_20240121_xml.zip\n"
     ]
    },
    {
     "name": "stderr",
     "output_type": "stream",
     "text": [
      "C:\\ProgramData\\anaconda3\\Lib\\site-packages\\urllib3\\connectionpool.py:1097: InsecureRequestWarning: Unverified HTTPS request is being made to host 'nemweb.com.au'. Adding certificate verification is strongly advised. See: https://urllib3.readthedocs.io/en/latest/advanced-usage.html#tls-warnings\n",
      "  warnings.warn(\n"
     ]
    },
    {
     "name": "stdout",
     "output_type": "stream",
     "text": [
      "'https://nemweb.com.au/Data_Archive/Wholesale_Electricity/NEMDE/2024/NEMDE_2024_01/NEMDE_Market_Data/NEMDE_Files/NemPriceSetter_20240121_xml.zip'e downloaded and contents extracted to 'D:\\PRICESETTER2'\n",
      "https://nemweb.com.au/Data_Archive/Wholesale_Electricity/NEMDE/2024/NEMDE_2024_01/NEMDE_Market_Data/NEMDE_Files/NemPriceSetter_20240122_xml.zip\n"
     ]
    },
    {
     "name": "stderr",
     "output_type": "stream",
     "text": [
      "C:\\ProgramData\\anaconda3\\Lib\\site-packages\\urllib3\\connectionpool.py:1097: InsecureRequestWarning: Unverified HTTPS request is being made to host 'nemweb.com.au'. Adding certificate verification is strongly advised. See: https://urllib3.readthedocs.io/en/latest/advanced-usage.html#tls-warnings\n",
      "  warnings.warn(\n"
     ]
    },
    {
     "name": "stdout",
     "output_type": "stream",
     "text": [
      "'https://nemweb.com.au/Data_Archive/Wholesale_Electricity/NEMDE/2024/NEMDE_2024_01/NEMDE_Market_Data/NEMDE_Files/NemPriceSetter_20240122_xml.zip'e downloaded and contents extracted to 'D:\\PRICESETTER2'\n",
      "https://nemweb.com.au/Data_Archive/Wholesale_Electricity/NEMDE/2024/NEMDE_2024_01/NEMDE_Market_Data/NEMDE_Files/NemPriceSetter_20240123_xml.zip\n"
     ]
    },
    {
     "name": "stderr",
     "output_type": "stream",
     "text": [
      "C:\\ProgramData\\anaconda3\\Lib\\site-packages\\urllib3\\connectionpool.py:1097: InsecureRequestWarning: Unverified HTTPS request is being made to host 'nemweb.com.au'. Adding certificate verification is strongly advised. See: https://urllib3.readthedocs.io/en/latest/advanced-usage.html#tls-warnings\n",
      "  warnings.warn(\n"
     ]
    },
    {
     "name": "stdout",
     "output_type": "stream",
     "text": [
      "'https://nemweb.com.au/Data_Archive/Wholesale_Electricity/NEMDE/2024/NEMDE_2024_01/NEMDE_Market_Data/NEMDE_Files/NemPriceSetter_20240123_xml.zip'e downloaded and contents extracted to 'D:\\PRICESETTER2'\n",
      "https://nemweb.com.au/Data_Archive/Wholesale_Electricity/NEMDE/2024/NEMDE_2024_01/NEMDE_Market_Data/NEMDE_Files/NemPriceSetter_20240124_xml.zip\n"
     ]
    },
    {
     "name": "stderr",
     "output_type": "stream",
     "text": [
      "C:\\ProgramData\\anaconda3\\Lib\\site-packages\\urllib3\\connectionpool.py:1097: InsecureRequestWarning: Unverified HTTPS request is being made to host 'nemweb.com.au'. Adding certificate verification is strongly advised. See: https://urllib3.readthedocs.io/en/latest/advanced-usage.html#tls-warnings\n",
      "  warnings.warn(\n"
     ]
    },
    {
     "name": "stdout",
     "output_type": "stream",
     "text": [
      "'https://nemweb.com.au/Data_Archive/Wholesale_Electricity/NEMDE/2024/NEMDE_2024_01/NEMDE_Market_Data/NEMDE_Files/NemPriceSetter_20240124_xml.zip'e downloaded and contents extracted to 'D:\\PRICESETTER2'\n",
      "https://nemweb.com.au/Data_Archive/Wholesale_Electricity/NEMDE/2024/NEMDE_2024_01/NEMDE_Market_Data/NEMDE_Files/NemPriceSetter_20240125_xml.zip\n"
     ]
    },
    {
     "name": "stderr",
     "output_type": "stream",
     "text": [
      "C:\\ProgramData\\anaconda3\\Lib\\site-packages\\urllib3\\connectionpool.py:1097: InsecureRequestWarning: Unverified HTTPS request is being made to host 'nemweb.com.au'. Adding certificate verification is strongly advised. See: https://urllib3.readthedocs.io/en/latest/advanced-usage.html#tls-warnings\n",
      "  warnings.warn(\n"
     ]
    },
    {
     "name": "stdout",
     "output_type": "stream",
     "text": [
      "'https://nemweb.com.au/Data_Archive/Wholesale_Electricity/NEMDE/2024/NEMDE_2024_01/NEMDE_Market_Data/NEMDE_Files/NemPriceSetter_20240125_xml.zip'e downloaded and contents extracted to 'D:\\PRICESETTER2'\n",
      "https://nemweb.com.au/Data_Archive/Wholesale_Electricity/NEMDE/2024/NEMDE_2024_01/NEMDE_Market_Data/NEMDE_Files/NemPriceSetter_20240126_xml.zip\n"
     ]
    },
    {
     "name": "stderr",
     "output_type": "stream",
     "text": [
      "C:\\ProgramData\\anaconda3\\Lib\\site-packages\\urllib3\\connectionpool.py:1097: InsecureRequestWarning: Unverified HTTPS request is being made to host 'nemweb.com.au'. Adding certificate verification is strongly advised. See: https://urllib3.readthedocs.io/en/latest/advanced-usage.html#tls-warnings\n",
      "  warnings.warn(\n"
     ]
    },
    {
     "name": "stdout",
     "output_type": "stream",
     "text": [
      "'https://nemweb.com.au/Data_Archive/Wholesale_Electricity/NEMDE/2024/NEMDE_2024_01/NEMDE_Market_Data/NEMDE_Files/NemPriceSetter_20240126_xml.zip'e downloaded and contents extracted to 'D:\\PRICESETTER2'\n",
      "https://nemweb.com.au/Data_Archive/Wholesale_Electricity/NEMDE/2024/NEMDE_2024_01/NEMDE_Market_Data/NEMDE_Files/NemPriceSetter_20240127_xml.zip\n"
     ]
    },
    {
     "name": "stderr",
     "output_type": "stream",
     "text": [
      "C:\\ProgramData\\anaconda3\\Lib\\site-packages\\urllib3\\connectionpool.py:1097: InsecureRequestWarning: Unverified HTTPS request is being made to host 'nemweb.com.au'. Adding certificate verification is strongly advised. See: https://urllib3.readthedocs.io/en/latest/advanced-usage.html#tls-warnings\n",
      "  warnings.warn(\n"
     ]
    },
    {
     "name": "stdout",
     "output_type": "stream",
     "text": [
      "'https://nemweb.com.au/Data_Archive/Wholesale_Electricity/NEMDE/2024/NEMDE_2024_01/NEMDE_Market_Data/NEMDE_Files/NemPriceSetter_20240127_xml.zip'e downloaded and contents extracted to 'D:\\PRICESETTER2'\n",
      "https://nemweb.com.au/Data_Archive/Wholesale_Electricity/NEMDE/2024/NEMDE_2024_01/NEMDE_Market_Data/NEMDE_Files/NemPriceSetter_20240128_xml.zip\n"
     ]
    },
    {
     "name": "stderr",
     "output_type": "stream",
     "text": [
      "C:\\ProgramData\\anaconda3\\Lib\\site-packages\\urllib3\\connectionpool.py:1097: InsecureRequestWarning: Unverified HTTPS request is being made to host 'nemweb.com.au'. Adding certificate verification is strongly advised. See: https://urllib3.readthedocs.io/en/latest/advanced-usage.html#tls-warnings\n",
      "  warnings.warn(\n"
     ]
    },
    {
     "name": "stdout",
     "output_type": "stream",
     "text": [
      "'https://nemweb.com.au/Data_Archive/Wholesale_Electricity/NEMDE/2024/NEMDE_2024_01/NEMDE_Market_Data/NEMDE_Files/NemPriceSetter_20240128_xml.zip'e downloaded and contents extracted to 'D:\\PRICESETTER2'\n",
      "https://nemweb.com.au/Data_Archive/Wholesale_Electricity/NEMDE/2024/NEMDE_2024_01/NEMDE_Market_Data/NEMDE_Files/NemPriceSetter_20240129_xml.zip\n"
     ]
    },
    {
     "name": "stderr",
     "output_type": "stream",
     "text": [
      "C:\\ProgramData\\anaconda3\\Lib\\site-packages\\urllib3\\connectionpool.py:1097: InsecureRequestWarning: Unverified HTTPS request is being made to host 'nemweb.com.au'. Adding certificate verification is strongly advised. See: https://urllib3.readthedocs.io/en/latest/advanced-usage.html#tls-warnings\n",
      "  warnings.warn(\n"
     ]
    },
    {
     "name": "stdout",
     "output_type": "stream",
     "text": [
      "'https://nemweb.com.au/Data_Archive/Wholesale_Electricity/NEMDE/2024/NEMDE_2024_01/NEMDE_Market_Data/NEMDE_Files/NemPriceSetter_20240129_xml.zip'e downloaded and contents extracted to 'D:\\PRICESETTER2'\n",
      "https://nemweb.com.au/Data_Archive/Wholesale_Electricity/NEMDE/2024/NEMDE_2024_01/NEMDE_Market_Data/NEMDE_Files/NemPriceSetter_20240130_xml.zip\n"
     ]
    },
    {
     "name": "stderr",
     "output_type": "stream",
     "text": [
      "C:\\ProgramData\\anaconda3\\Lib\\site-packages\\urllib3\\connectionpool.py:1097: InsecureRequestWarning: Unverified HTTPS request is being made to host 'nemweb.com.au'. Adding certificate verification is strongly advised. See: https://urllib3.readthedocs.io/en/latest/advanced-usage.html#tls-warnings\n",
      "  warnings.warn(\n"
     ]
    },
    {
     "name": "stdout",
     "output_type": "stream",
     "text": [
      "'https://nemweb.com.au/Data_Archive/Wholesale_Electricity/NEMDE/2024/NEMDE_2024_01/NEMDE_Market_Data/NEMDE_Files/NemPriceSetter_20240130_xml.zip'e downloaded and contents extracted to 'D:\\PRICESETTER2'\n",
      "https://nemweb.com.au/Data_Archive/Wholesale_Electricity/NEMDE/2024/NEMDE_2024_01/NEMDE_Market_Data/NEMDE_Files/NemPriceSetter_20240131_xml.zip\n"
     ]
    },
    {
     "name": "stderr",
     "output_type": "stream",
     "text": [
      "C:\\ProgramData\\anaconda3\\Lib\\site-packages\\urllib3\\connectionpool.py:1097: InsecureRequestWarning: Unverified HTTPS request is being made to host 'nemweb.com.au'. Adding certificate verification is strongly advised. See: https://urllib3.readthedocs.io/en/latest/advanced-usage.html#tls-warnings\n",
      "  warnings.warn(\n"
     ]
    },
    {
     "name": "stdout",
     "output_type": "stream",
     "text": [
      "'https://nemweb.com.au/Data_Archive/Wholesale_Electricity/NEMDE/2024/NEMDE_2024_01/NEMDE_Market_Data/NEMDE_Files/NemPriceSetter_20240131_xml.zip'e downloaded and contents extracted to 'D:\\PRICESETTER2'\n"
     ]
    },
    {
     "name": "stderr",
     "output_type": "stream",
     "text": [
      "C:\\ProgramData\\anaconda3\\Lib\\site-packages\\urllib3\\connectionpool.py:1097: InsecureRequestWarning: Unverified HTTPS request is being made to host 'nemweb.com.au'. Adding certificate verification is strongly advised. See: https://urllib3.readthedocs.io/en/latest/advanced-usage.html#tls-warnings\n",
      "  warnings.warn(\n",
      "C:\\ProgramData\\anaconda3\\Lib\\site-packages\\urllib3\\connectionpool.py:1097: InsecureRequestWarning: Unverified HTTPS request is being made to host 'nemweb.com.au'. Adding certificate verification is strongly advised. See: https://urllib3.readthedocs.io/en/latest/advanced-usage.html#tls-warnings\n",
      "  warnings.warn(\n"
     ]
    },
    {
     "name": "stdout",
     "output_type": "stream",
     "text": [
      "https://nemweb.com.au/Data_Archive/Wholesale_Electricity/NEMDE/2024/NEMDE_2024_02/NEMDE_Market_Data/NEMDE_Files/NemPriceSetter_20240201_xml.zip\n",
      "'https://nemweb.com.au/Data_Archive/Wholesale_Electricity/NEMDE/2024/NEMDE_2024_02/NEMDE_Market_Data/NEMDE_Files/NemPriceSetter_20240201_xml.zip'e downloaded and contents extracted to 'D:\\PRICESETTER2'\n",
      "https://nemweb.com.au/Data_Archive/Wholesale_Electricity/NEMDE/2024/NEMDE_2024_02/NEMDE_Market_Data/NEMDE_Files/NemPriceSetter_20240202_xml.zip\n"
     ]
    },
    {
     "name": "stderr",
     "output_type": "stream",
     "text": [
      "C:\\ProgramData\\anaconda3\\Lib\\site-packages\\urllib3\\connectionpool.py:1097: InsecureRequestWarning: Unverified HTTPS request is being made to host 'nemweb.com.au'. Adding certificate verification is strongly advised. See: https://urllib3.readthedocs.io/en/latest/advanced-usage.html#tls-warnings\n",
      "  warnings.warn(\n"
     ]
    },
    {
     "name": "stdout",
     "output_type": "stream",
     "text": [
      "'https://nemweb.com.au/Data_Archive/Wholesale_Electricity/NEMDE/2024/NEMDE_2024_02/NEMDE_Market_Data/NEMDE_Files/NemPriceSetter_20240202_xml.zip'e downloaded and contents extracted to 'D:\\PRICESETTER2'\n",
      "https://nemweb.com.au/Data_Archive/Wholesale_Electricity/NEMDE/2024/NEMDE_2024_02/NEMDE_Market_Data/NEMDE_Files/NemPriceSetter_20240203_xml.zip\n"
     ]
    },
    {
     "name": "stderr",
     "output_type": "stream",
     "text": [
      "C:\\ProgramData\\anaconda3\\Lib\\site-packages\\urllib3\\connectionpool.py:1097: InsecureRequestWarning: Unverified HTTPS request is being made to host 'nemweb.com.au'. Adding certificate verification is strongly advised. See: https://urllib3.readthedocs.io/en/latest/advanced-usage.html#tls-warnings\n",
      "  warnings.warn(\n"
     ]
    },
    {
     "name": "stdout",
     "output_type": "stream",
     "text": [
      "'https://nemweb.com.au/Data_Archive/Wholesale_Electricity/NEMDE/2024/NEMDE_2024_02/NEMDE_Market_Data/NEMDE_Files/NemPriceSetter_20240203_xml.zip'e downloaded and contents extracted to 'D:\\PRICESETTER2'\n",
      "https://nemweb.com.au/Data_Archive/Wholesale_Electricity/NEMDE/2024/NEMDE_2024_02/NEMDE_Market_Data/NEMDE_Files/NemPriceSetter_20240204_xml.zip\n"
     ]
    },
    {
     "name": "stderr",
     "output_type": "stream",
     "text": [
      "C:\\ProgramData\\anaconda3\\Lib\\site-packages\\urllib3\\connectionpool.py:1097: InsecureRequestWarning: Unverified HTTPS request is being made to host 'nemweb.com.au'. Adding certificate verification is strongly advised. See: https://urllib3.readthedocs.io/en/latest/advanced-usage.html#tls-warnings\n",
      "  warnings.warn(\n"
     ]
    },
    {
     "name": "stdout",
     "output_type": "stream",
     "text": [
      "'https://nemweb.com.au/Data_Archive/Wholesale_Electricity/NEMDE/2024/NEMDE_2024_02/NEMDE_Market_Data/NEMDE_Files/NemPriceSetter_20240204_xml.zip'e downloaded and contents extracted to 'D:\\PRICESETTER2'\n",
      "https://nemweb.com.au/Data_Archive/Wholesale_Electricity/NEMDE/2024/NEMDE_2024_02/NEMDE_Market_Data/NEMDE_Files/NemPriceSetter_20240205_xml.zip\n"
     ]
    },
    {
     "name": "stderr",
     "output_type": "stream",
     "text": [
      "C:\\ProgramData\\anaconda3\\Lib\\site-packages\\urllib3\\connectionpool.py:1097: InsecureRequestWarning: Unverified HTTPS request is being made to host 'nemweb.com.au'. Adding certificate verification is strongly advised. See: https://urllib3.readthedocs.io/en/latest/advanced-usage.html#tls-warnings\n",
      "  warnings.warn(\n"
     ]
    },
    {
     "name": "stdout",
     "output_type": "stream",
     "text": [
      "'https://nemweb.com.au/Data_Archive/Wholesale_Electricity/NEMDE/2024/NEMDE_2024_02/NEMDE_Market_Data/NEMDE_Files/NemPriceSetter_20240205_xml.zip'e downloaded and contents extracted to 'D:\\PRICESETTER2'\n",
      "https://nemweb.com.au/Data_Archive/Wholesale_Electricity/NEMDE/2024/NEMDE_2024_02/NEMDE_Market_Data/NEMDE_Files/NemPriceSetter_20240206_xml.zip\n"
     ]
    },
    {
     "name": "stderr",
     "output_type": "stream",
     "text": [
      "C:\\ProgramData\\anaconda3\\Lib\\site-packages\\urllib3\\connectionpool.py:1097: InsecureRequestWarning: Unverified HTTPS request is being made to host 'nemweb.com.au'. Adding certificate verification is strongly advised. See: https://urllib3.readthedocs.io/en/latest/advanced-usage.html#tls-warnings\n",
      "  warnings.warn(\n"
     ]
    },
    {
     "name": "stdout",
     "output_type": "stream",
     "text": [
      "'https://nemweb.com.au/Data_Archive/Wholesale_Electricity/NEMDE/2024/NEMDE_2024_02/NEMDE_Market_Data/NEMDE_Files/NemPriceSetter_20240206_xml.zip'e downloaded and contents extracted to 'D:\\PRICESETTER2'\n",
      "https://nemweb.com.au/Data_Archive/Wholesale_Electricity/NEMDE/2024/NEMDE_2024_02/NEMDE_Market_Data/NEMDE_Files/NemPriceSetter_20240207_xml.zip\n"
     ]
    },
    {
     "name": "stderr",
     "output_type": "stream",
     "text": [
      "C:\\ProgramData\\anaconda3\\Lib\\site-packages\\urllib3\\connectionpool.py:1097: InsecureRequestWarning: Unverified HTTPS request is being made to host 'nemweb.com.au'. Adding certificate verification is strongly advised. See: https://urllib3.readthedocs.io/en/latest/advanced-usage.html#tls-warnings\n",
      "  warnings.warn(\n"
     ]
    },
    {
     "name": "stdout",
     "output_type": "stream",
     "text": [
      "'https://nemweb.com.au/Data_Archive/Wholesale_Electricity/NEMDE/2024/NEMDE_2024_02/NEMDE_Market_Data/NEMDE_Files/NemPriceSetter_20240207_xml.zip'e downloaded and contents extracted to 'D:\\PRICESETTER2'\n",
      "https://nemweb.com.au/Data_Archive/Wholesale_Electricity/NEMDE/2024/NEMDE_2024_02/NEMDE_Market_Data/NEMDE_Files/NemPriceSetter_20240208_xml.zip\n"
     ]
    },
    {
     "name": "stderr",
     "output_type": "stream",
     "text": [
      "C:\\ProgramData\\anaconda3\\Lib\\site-packages\\urllib3\\connectionpool.py:1097: InsecureRequestWarning: Unverified HTTPS request is being made to host 'nemweb.com.au'. Adding certificate verification is strongly advised. See: https://urllib3.readthedocs.io/en/latest/advanced-usage.html#tls-warnings\n",
      "  warnings.warn(\n"
     ]
    },
    {
     "name": "stdout",
     "output_type": "stream",
     "text": [
      "'https://nemweb.com.au/Data_Archive/Wholesale_Electricity/NEMDE/2024/NEMDE_2024_02/NEMDE_Market_Data/NEMDE_Files/NemPriceSetter_20240208_xml.zip'e downloaded and contents extracted to 'D:\\PRICESETTER2'\n",
      "https://nemweb.com.au/Data_Archive/Wholesale_Electricity/NEMDE/2024/NEMDE_2024_02/NEMDE_Market_Data/NEMDE_Files/NemPriceSetter_20240209_xml.zip\n"
     ]
    },
    {
     "name": "stderr",
     "output_type": "stream",
     "text": [
      "C:\\ProgramData\\anaconda3\\Lib\\site-packages\\urllib3\\connectionpool.py:1097: InsecureRequestWarning: Unverified HTTPS request is being made to host 'nemweb.com.au'. Adding certificate verification is strongly advised. See: https://urllib3.readthedocs.io/en/latest/advanced-usage.html#tls-warnings\n",
      "  warnings.warn(\n"
     ]
    },
    {
     "name": "stdout",
     "output_type": "stream",
     "text": [
      "'https://nemweb.com.au/Data_Archive/Wholesale_Electricity/NEMDE/2024/NEMDE_2024_02/NEMDE_Market_Data/NEMDE_Files/NemPriceSetter_20240209_xml.zip'e downloaded and contents extracted to 'D:\\PRICESETTER2'\n",
      "https://nemweb.com.au/Data_Archive/Wholesale_Electricity/NEMDE/2024/NEMDE_2024_02/NEMDE_Market_Data/NEMDE_Files/NemPriceSetter_20240210_xml.zip\n"
     ]
    },
    {
     "name": "stderr",
     "output_type": "stream",
     "text": [
      "C:\\ProgramData\\anaconda3\\Lib\\site-packages\\urllib3\\connectionpool.py:1097: InsecureRequestWarning: Unverified HTTPS request is being made to host 'nemweb.com.au'. Adding certificate verification is strongly advised. See: https://urllib3.readthedocs.io/en/latest/advanced-usage.html#tls-warnings\n",
      "  warnings.warn(\n"
     ]
    },
    {
     "name": "stdout",
     "output_type": "stream",
     "text": [
      "'https://nemweb.com.au/Data_Archive/Wholesale_Electricity/NEMDE/2024/NEMDE_2024_02/NEMDE_Market_Data/NEMDE_Files/NemPriceSetter_20240210_xml.zip'e downloaded and contents extracted to 'D:\\PRICESETTER2'\n",
      "https://nemweb.com.au/Data_Archive/Wholesale_Electricity/NEMDE/2024/NEMDE_2024_02/NEMDE_Market_Data/NEMDE_Files/NemPriceSetter_20240211_xml.zip\n"
     ]
    },
    {
     "name": "stderr",
     "output_type": "stream",
     "text": [
      "C:\\ProgramData\\anaconda3\\Lib\\site-packages\\urllib3\\connectionpool.py:1097: InsecureRequestWarning: Unverified HTTPS request is being made to host 'nemweb.com.au'. Adding certificate verification is strongly advised. See: https://urllib3.readthedocs.io/en/latest/advanced-usage.html#tls-warnings\n",
      "  warnings.warn(\n"
     ]
    },
    {
     "name": "stdout",
     "output_type": "stream",
     "text": [
      "'https://nemweb.com.au/Data_Archive/Wholesale_Electricity/NEMDE/2024/NEMDE_2024_02/NEMDE_Market_Data/NEMDE_Files/NemPriceSetter_20240211_xml.zip'e downloaded and contents extracted to 'D:\\PRICESETTER2'\n",
      "https://nemweb.com.au/Data_Archive/Wholesale_Electricity/NEMDE/2024/NEMDE_2024_02/NEMDE_Market_Data/NEMDE_Files/NemPriceSetter_20240212_xml.zip\n"
     ]
    },
    {
     "name": "stderr",
     "output_type": "stream",
     "text": [
      "C:\\ProgramData\\anaconda3\\Lib\\site-packages\\urllib3\\connectionpool.py:1097: InsecureRequestWarning: Unverified HTTPS request is being made to host 'nemweb.com.au'. Adding certificate verification is strongly advised. See: https://urllib3.readthedocs.io/en/latest/advanced-usage.html#tls-warnings\n",
      "  warnings.warn(\n"
     ]
    },
    {
     "name": "stdout",
     "output_type": "stream",
     "text": [
      "'https://nemweb.com.au/Data_Archive/Wholesale_Electricity/NEMDE/2024/NEMDE_2024_02/NEMDE_Market_Data/NEMDE_Files/NemPriceSetter_20240212_xml.zip'e downloaded and contents extracted to 'D:\\PRICESETTER2'\n",
      "https://nemweb.com.au/Data_Archive/Wholesale_Electricity/NEMDE/2024/NEMDE_2024_02/NEMDE_Market_Data/NEMDE_Files/NemPriceSetter_20240213_xml.zip\n"
     ]
    },
    {
     "name": "stderr",
     "output_type": "stream",
     "text": [
      "C:\\ProgramData\\anaconda3\\Lib\\site-packages\\urllib3\\connectionpool.py:1097: InsecureRequestWarning: Unverified HTTPS request is being made to host 'nemweb.com.au'. Adding certificate verification is strongly advised. See: https://urllib3.readthedocs.io/en/latest/advanced-usage.html#tls-warnings\n",
      "  warnings.warn(\n"
     ]
    },
    {
     "name": "stdout",
     "output_type": "stream",
     "text": [
      "'https://nemweb.com.au/Data_Archive/Wholesale_Electricity/NEMDE/2024/NEMDE_2024_02/NEMDE_Market_Data/NEMDE_Files/NemPriceSetter_20240213_xml.zip'e downloaded and contents extracted to 'D:\\PRICESETTER2'\n",
      "https://nemweb.com.au/Data_Archive/Wholesale_Electricity/NEMDE/2024/NEMDE_2024_02/NEMDE_Market_Data/NEMDE_Files/NemPriceSetter_20240214_xml.zip\n"
     ]
    },
    {
     "name": "stderr",
     "output_type": "stream",
     "text": [
      "C:\\ProgramData\\anaconda3\\Lib\\site-packages\\urllib3\\connectionpool.py:1097: InsecureRequestWarning: Unverified HTTPS request is being made to host 'nemweb.com.au'. Adding certificate verification is strongly advised. See: https://urllib3.readthedocs.io/en/latest/advanced-usage.html#tls-warnings\n",
      "  warnings.warn(\n"
     ]
    },
    {
     "name": "stdout",
     "output_type": "stream",
     "text": [
      "'https://nemweb.com.au/Data_Archive/Wholesale_Electricity/NEMDE/2024/NEMDE_2024_02/NEMDE_Market_Data/NEMDE_Files/NemPriceSetter_20240214_xml.zip'e downloaded and contents extracted to 'D:\\PRICESETTER2'\n",
      "https://nemweb.com.au/Data_Archive/Wholesale_Electricity/NEMDE/2024/NEMDE_2024_02/NEMDE_Market_Data/NEMDE_Files/NemPriceSetter_20240215_xml.zip\n"
     ]
    },
    {
     "name": "stderr",
     "output_type": "stream",
     "text": [
      "C:\\ProgramData\\anaconda3\\Lib\\site-packages\\urllib3\\connectionpool.py:1097: InsecureRequestWarning: Unverified HTTPS request is being made to host 'nemweb.com.au'. Adding certificate verification is strongly advised. See: https://urllib3.readthedocs.io/en/latest/advanced-usage.html#tls-warnings\n",
      "  warnings.warn(\n"
     ]
    },
    {
     "name": "stdout",
     "output_type": "stream",
     "text": [
      "'https://nemweb.com.au/Data_Archive/Wholesale_Electricity/NEMDE/2024/NEMDE_2024_02/NEMDE_Market_Data/NEMDE_Files/NemPriceSetter_20240215_xml.zip'e downloaded and contents extracted to 'D:\\PRICESETTER2'\n",
      "https://nemweb.com.au/Data_Archive/Wholesale_Electricity/NEMDE/2024/NEMDE_2024_02/NEMDE_Market_Data/NEMDE_Files/NemPriceSetter_20240216_xml.zip\n"
     ]
    },
    {
     "name": "stderr",
     "output_type": "stream",
     "text": [
      "C:\\ProgramData\\anaconda3\\Lib\\site-packages\\urllib3\\connectionpool.py:1097: InsecureRequestWarning: Unverified HTTPS request is being made to host 'nemweb.com.au'. Adding certificate verification is strongly advised. See: https://urllib3.readthedocs.io/en/latest/advanced-usage.html#tls-warnings\n",
      "  warnings.warn(\n"
     ]
    },
    {
     "name": "stdout",
     "output_type": "stream",
     "text": [
      "'https://nemweb.com.au/Data_Archive/Wholesale_Electricity/NEMDE/2024/NEMDE_2024_02/NEMDE_Market_Data/NEMDE_Files/NemPriceSetter_20240216_xml.zip'e downloaded and contents extracted to 'D:\\PRICESETTER2'\n",
      "https://nemweb.com.au/Data_Archive/Wholesale_Electricity/NEMDE/2024/NEMDE_2024_02/NEMDE_Market_Data/NEMDE_Files/NemPriceSetter_20240217_xml.zip\n"
     ]
    },
    {
     "name": "stderr",
     "output_type": "stream",
     "text": [
      "C:\\ProgramData\\anaconda3\\Lib\\site-packages\\urllib3\\connectionpool.py:1097: InsecureRequestWarning: Unverified HTTPS request is being made to host 'nemweb.com.au'. Adding certificate verification is strongly advised. See: https://urllib3.readthedocs.io/en/latest/advanced-usage.html#tls-warnings\n",
      "  warnings.warn(\n"
     ]
    },
    {
     "name": "stdout",
     "output_type": "stream",
     "text": [
      "'https://nemweb.com.au/Data_Archive/Wholesale_Electricity/NEMDE/2024/NEMDE_2024_02/NEMDE_Market_Data/NEMDE_Files/NemPriceSetter_20240217_xml.zip'e downloaded and contents extracted to 'D:\\PRICESETTER2'\n",
      "https://nemweb.com.au/Data_Archive/Wholesale_Electricity/NEMDE/2024/NEMDE_2024_02/NEMDE_Market_Data/NEMDE_Files/NemPriceSetter_20240218_xml.zip\n"
     ]
    },
    {
     "name": "stderr",
     "output_type": "stream",
     "text": [
      "C:\\ProgramData\\anaconda3\\Lib\\site-packages\\urllib3\\connectionpool.py:1097: InsecureRequestWarning: Unverified HTTPS request is being made to host 'nemweb.com.au'. Adding certificate verification is strongly advised. See: https://urllib3.readthedocs.io/en/latest/advanced-usage.html#tls-warnings\n",
      "  warnings.warn(\n"
     ]
    },
    {
     "name": "stdout",
     "output_type": "stream",
     "text": [
      "'https://nemweb.com.au/Data_Archive/Wholesale_Electricity/NEMDE/2024/NEMDE_2024_02/NEMDE_Market_Data/NEMDE_Files/NemPriceSetter_20240218_xml.zip'e downloaded and contents extracted to 'D:\\PRICESETTER2'\n",
      "https://nemweb.com.au/Data_Archive/Wholesale_Electricity/NEMDE/2024/NEMDE_2024_02/NEMDE_Market_Data/NEMDE_Files/NemPriceSetter_20240219_xml.zip\n"
     ]
    },
    {
     "name": "stderr",
     "output_type": "stream",
     "text": [
      "C:\\ProgramData\\anaconda3\\Lib\\site-packages\\urllib3\\connectionpool.py:1097: InsecureRequestWarning: Unverified HTTPS request is being made to host 'nemweb.com.au'. Adding certificate verification is strongly advised. See: https://urllib3.readthedocs.io/en/latest/advanced-usage.html#tls-warnings\n",
      "  warnings.warn(\n"
     ]
    },
    {
     "name": "stdout",
     "output_type": "stream",
     "text": [
      "'https://nemweb.com.au/Data_Archive/Wholesale_Electricity/NEMDE/2024/NEMDE_2024_02/NEMDE_Market_Data/NEMDE_Files/NemPriceSetter_20240219_xml.zip'e downloaded and contents extracted to 'D:\\PRICESETTER2'\n",
      "https://nemweb.com.au/Data_Archive/Wholesale_Electricity/NEMDE/2024/NEMDE_2024_02/NEMDE_Market_Data/NEMDE_Files/NemPriceSetter_20240220_xml.zip\n"
     ]
    },
    {
     "name": "stderr",
     "output_type": "stream",
     "text": [
      "C:\\ProgramData\\anaconda3\\Lib\\site-packages\\urllib3\\connectionpool.py:1097: InsecureRequestWarning: Unverified HTTPS request is being made to host 'nemweb.com.au'. Adding certificate verification is strongly advised. See: https://urllib3.readthedocs.io/en/latest/advanced-usage.html#tls-warnings\n",
      "  warnings.warn(\n"
     ]
    },
    {
     "name": "stdout",
     "output_type": "stream",
     "text": [
      "'https://nemweb.com.au/Data_Archive/Wholesale_Electricity/NEMDE/2024/NEMDE_2024_02/NEMDE_Market_Data/NEMDE_Files/NemPriceSetter_20240220_xml.zip'e downloaded and contents extracted to 'D:\\PRICESETTER2'\n",
      "https://nemweb.com.au/Data_Archive/Wholesale_Electricity/NEMDE/2024/NEMDE_2024_02/NEMDE_Market_Data/NEMDE_Files/NemPriceSetter_20240221_xml.zip\n"
     ]
    },
    {
     "name": "stderr",
     "output_type": "stream",
     "text": [
      "C:\\ProgramData\\anaconda3\\Lib\\site-packages\\urllib3\\connectionpool.py:1097: InsecureRequestWarning: Unverified HTTPS request is being made to host 'nemweb.com.au'. Adding certificate verification is strongly advised. See: https://urllib3.readthedocs.io/en/latest/advanced-usage.html#tls-warnings\n",
      "  warnings.warn(\n"
     ]
    },
    {
     "name": "stdout",
     "output_type": "stream",
     "text": [
      "'https://nemweb.com.au/Data_Archive/Wholesale_Electricity/NEMDE/2024/NEMDE_2024_02/NEMDE_Market_Data/NEMDE_Files/NemPriceSetter_20240221_xml.zip'e downloaded and contents extracted to 'D:\\PRICESETTER2'\n",
      "https://nemweb.com.au/Data_Archive/Wholesale_Electricity/NEMDE/2024/NEMDE_2024_02/NEMDE_Market_Data/NEMDE_Files/NemPriceSetter_20240222_xml.zip\n"
     ]
    },
    {
     "name": "stderr",
     "output_type": "stream",
     "text": [
      "C:\\ProgramData\\anaconda3\\Lib\\site-packages\\urllib3\\connectionpool.py:1097: InsecureRequestWarning: Unverified HTTPS request is being made to host 'nemweb.com.au'. Adding certificate verification is strongly advised. See: https://urllib3.readthedocs.io/en/latest/advanced-usage.html#tls-warnings\n",
      "  warnings.warn(\n"
     ]
    },
    {
     "name": "stdout",
     "output_type": "stream",
     "text": [
      "'https://nemweb.com.au/Data_Archive/Wholesale_Electricity/NEMDE/2024/NEMDE_2024_02/NEMDE_Market_Data/NEMDE_Files/NemPriceSetter_20240222_xml.zip'e downloaded and contents extracted to 'D:\\PRICESETTER2'\n",
      "https://nemweb.com.au/Data_Archive/Wholesale_Electricity/NEMDE/2024/NEMDE_2024_02/NEMDE_Market_Data/NEMDE_Files/NemPriceSetter_20240223_xml.zip\n"
     ]
    },
    {
     "name": "stderr",
     "output_type": "stream",
     "text": [
      "C:\\ProgramData\\anaconda3\\Lib\\site-packages\\urllib3\\connectionpool.py:1097: InsecureRequestWarning: Unverified HTTPS request is being made to host 'nemweb.com.au'. Adding certificate verification is strongly advised. See: https://urllib3.readthedocs.io/en/latest/advanced-usage.html#tls-warnings\n",
      "  warnings.warn(\n"
     ]
    },
    {
     "name": "stdout",
     "output_type": "stream",
     "text": [
      "'https://nemweb.com.au/Data_Archive/Wholesale_Electricity/NEMDE/2024/NEMDE_2024_02/NEMDE_Market_Data/NEMDE_Files/NemPriceSetter_20240223_xml.zip'e downloaded and contents extracted to 'D:\\PRICESETTER2'\n",
      "https://nemweb.com.au/Data_Archive/Wholesale_Electricity/NEMDE/2024/NEMDE_2024_02/NEMDE_Market_Data/NEMDE_Files/NemPriceSetter_20240224_xml.zip\n"
     ]
    },
    {
     "name": "stderr",
     "output_type": "stream",
     "text": [
      "C:\\ProgramData\\anaconda3\\Lib\\site-packages\\urllib3\\connectionpool.py:1097: InsecureRequestWarning: Unverified HTTPS request is being made to host 'nemweb.com.au'. Adding certificate verification is strongly advised. See: https://urllib3.readthedocs.io/en/latest/advanced-usage.html#tls-warnings\n",
      "  warnings.warn(\n"
     ]
    },
    {
     "name": "stdout",
     "output_type": "stream",
     "text": [
      "'https://nemweb.com.au/Data_Archive/Wholesale_Electricity/NEMDE/2024/NEMDE_2024_02/NEMDE_Market_Data/NEMDE_Files/NemPriceSetter_20240224_xml.zip'e downloaded and contents extracted to 'D:\\PRICESETTER2'\n",
      "https://nemweb.com.au/Data_Archive/Wholesale_Electricity/NEMDE/2024/NEMDE_2024_02/NEMDE_Market_Data/NEMDE_Files/NemPriceSetter_20240225_xml.zip\n"
     ]
    },
    {
     "name": "stderr",
     "output_type": "stream",
     "text": [
      "C:\\ProgramData\\anaconda3\\Lib\\site-packages\\urllib3\\connectionpool.py:1097: InsecureRequestWarning: Unverified HTTPS request is being made to host 'nemweb.com.au'. Adding certificate verification is strongly advised. See: https://urllib3.readthedocs.io/en/latest/advanced-usage.html#tls-warnings\n",
      "  warnings.warn(\n"
     ]
    },
    {
     "name": "stdout",
     "output_type": "stream",
     "text": [
      "'https://nemweb.com.au/Data_Archive/Wholesale_Electricity/NEMDE/2024/NEMDE_2024_02/NEMDE_Market_Data/NEMDE_Files/NemPriceSetter_20240225_xml.zip'e downloaded and contents extracted to 'D:\\PRICESETTER2'\n",
      "https://nemweb.com.au/Data_Archive/Wholesale_Electricity/NEMDE/2024/NEMDE_2024_02/NEMDE_Market_Data/NEMDE_Files/NemPriceSetter_20240226_xml.zip\n"
     ]
    },
    {
     "name": "stderr",
     "output_type": "stream",
     "text": [
      "C:\\ProgramData\\anaconda3\\Lib\\site-packages\\urllib3\\connectionpool.py:1097: InsecureRequestWarning: Unverified HTTPS request is being made to host 'nemweb.com.au'. Adding certificate verification is strongly advised. See: https://urllib3.readthedocs.io/en/latest/advanced-usage.html#tls-warnings\n",
      "  warnings.warn(\n"
     ]
    },
    {
     "name": "stdout",
     "output_type": "stream",
     "text": [
      "'https://nemweb.com.au/Data_Archive/Wholesale_Electricity/NEMDE/2024/NEMDE_2024_02/NEMDE_Market_Data/NEMDE_Files/NemPriceSetter_20240226_xml.zip'e downloaded and contents extracted to 'D:\\PRICESETTER2'\n",
      "https://nemweb.com.au/Data_Archive/Wholesale_Electricity/NEMDE/2024/NEMDE_2024_02/NEMDE_Market_Data/NEMDE_Files/NemPriceSetter_20240227_xml.zip\n"
     ]
    },
    {
     "name": "stderr",
     "output_type": "stream",
     "text": [
      "C:\\ProgramData\\anaconda3\\Lib\\site-packages\\urllib3\\connectionpool.py:1097: InsecureRequestWarning: Unverified HTTPS request is being made to host 'nemweb.com.au'. Adding certificate verification is strongly advised. See: https://urllib3.readthedocs.io/en/latest/advanced-usage.html#tls-warnings\n",
      "  warnings.warn(\n"
     ]
    },
    {
     "name": "stdout",
     "output_type": "stream",
     "text": [
      "'https://nemweb.com.au/Data_Archive/Wholesale_Electricity/NEMDE/2024/NEMDE_2024_02/NEMDE_Market_Data/NEMDE_Files/NemPriceSetter_20240227_xml.zip'e downloaded and contents extracted to 'D:\\PRICESETTER2'\n",
      "https://nemweb.com.au/Data_Archive/Wholesale_Electricity/NEMDE/2024/NEMDE_2024_02/NEMDE_Market_Data/NEMDE_Files/NemPriceSetter_20240228_xml.zip\n"
     ]
    },
    {
     "name": "stderr",
     "output_type": "stream",
     "text": [
      "C:\\ProgramData\\anaconda3\\Lib\\site-packages\\urllib3\\connectionpool.py:1097: InsecureRequestWarning: Unverified HTTPS request is being made to host 'nemweb.com.au'. Adding certificate verification is strongly advised. See: https://urllib3.readthedocs.io/en/latest/advanced-usage.html#tls-warnings\n",
      "  warnings.warn(\n"
     ]
    },
    {
     "name": "stdout",
     "output_type": "stream",
     "text": [
      "'https://nemweb.com.au/Data_Archive/Wholesale_Electricity/NEMDE/2024/NEMDE_2024_02/NEMDE_Market_Data/NEMDE_Files/NemPriceSetter_20240228_xml.zip'e downloaded and contents extracted to 'D:\\PRICESETTER2'\n",
      "https://nemweb.com.au/Data_Archive/Wholesale_Electricity/NEMDE/2024/NEMDE_2024_02/NEMDE_Market_Data/NEMDE_Files/NemPriceSetter_20240229_xml.zip\n"
     ]
    },
    {
     "name": "stderr",
     "output_type": "stream",
     "text": [
      "C:\\ProgramData\\anaconda3\\Lib\\site-packages\\urllib3\\connectionpool.py:1097: InsecureRequestWarning: Unverified HTTPS request is being made to host 'nemweb.com.au'. Adding certificate verification is strongly advised. See: https://urllib3.readthedocs.io/en/latest/advanced-usage.html#tls-warnings\n",
      "  warnings.warn(\n"
     ]
    },
    {
     "name": "stdout",
     "output_type": "stream",
     "text": [
      "'https://nemweb.com.au/Data_Archive/Wholesale_Electricity/NEMDE/2024/NEMDE_2024_02/NEMDE_Market_Data/NEMDE_Files/NemPriceSetter_20240229_xml.zip'e downloaded and contents extracted to 'D:\\PRICESETTER2'\n",
      "https://nemweb.com.au/Data_Archive/Wholesale_Electricity/NEMDE/2024/NEMDE_2024_03/NEMDE_Market_Data/NEMDE_Files/NemPriceSetter_20240301_xml.zip\n"
     ]
    },
    {
     "name": "stderr",
     "output_type": "stream",
     "text": [
      "C:\\ProgramData\\anaconda3\\Lib\\site-packages\\urllib3\\connectionpool.py:1097: InsecureRequestWarning: Unverified HTTPS request is being made to host 'nemweb.com.au'. Adding certificate verification is strongly advised. See: https://urllib3.readthedocs.io/en/latest/advanced-usage.html#tls-warnings\n",
      "  warnings.warn(\n",
      "C:\\ProgramData\\anaconda3\\Lib\\site-packages\\urllib3\\connectionpool.py:1097: InsecureRequestWarning: Unverified HTTPS request is being made to host 'nemweb.com.au'. Adding certificate verification is strongly advised. See: https://urllib3.readthedocs.io/en/latest/advanced-usage.html#tls-warnings\n",
      "  warnings.warn(\n"
     ]
    },
    {
     "name": "stdout",
     "output_type": "stream",
     "text": [
      "'https://nemweb.com.au/Data_Archive/Wholesale_Electricity/NEMDE/2024/NEMDE_2024_03/NEMDE_Market_Data/NEMDE_Files/NemPriceSetter_20240301_xml.zip'e downloaded and contents extracted to 'D:\\PRICESETTER2'\n",
      "https://nemweb.com.au/Data_Archive/Wholesale_Electricity/NEMDE/2024/NEMDE_2024_03/NEMDE_Market_Data/NEMDE_Files/NemPriceSetter_20240302_xml.zip\n"
     ]
    },
    {
     "name": "stderr",
     "output_type": "stream",
     "text": [
      "C:\\ProgramData\\anaconda3\\Lib\\site-packages\\urllib3\\connectionpool.py:1097: InsecureRequestWarning: Unverified HTTPS request is being made to host 'nemweb.com.au'. Adding certificate verification is strongly advised. See: https://urllib3.readthedocs.io/en/latest/advanced-usage.html#tls-warnings\n",
      "  warnings.warn(\n"
     ]
    },
    {
     "name": "stdout",
     "output_type": "stream",
     "text": [
      "'https://nemweb.com.au/Data_Archive/Wholesale_Electricity/NEMDE/2024/NEMDE_2024_03/NEMDE_Market_Data/NEMDE_Files/NemPriceSetter_20240302_xml.zip'e downloaded and contents extracted to 'D:\\PRICESETTER2'\n",
      "https://nemweb.com.au/Data_Archive/Wholesale_Electricity/NEMDE/2024/NEMDE_2024_03/NEMDE_Market_Data/NEMDE_Files/NemPriceSetter_20240303_xml.zip\n"
     ]
    },
    {
     "name": "stderr",
     "output_type": "stream",
     "text": [
      "C:\\ProgramData\\anaconda3\\Lib\\site-packages\\urllib3\\connectionpool.py:1097: InsecureRequestWarning: Unverified HTTPS request is being made to host 'nemweb.com.au'. Adding certificate verification is strongly advised. See: https://urllib3.readthedocs.io/en/latest/advanced-usage.html#tls-warnings\n",
      "  warnings.warn(\n"
     ]
    },
    {
     "name": "stdout",
     "output_type": "stream",
     "text": [
      "'https://nemweb.com.au/Data_Archive/Wholesale_Electricity/NEMDE/2024/NEMDE_2024_03/NEMDE_Market_Data/NEMDE_Files/NemPriceSetter_20240303_xml.zip'e downloaded and contents extracted to 'D:\\PRICESETTER2'\n",
      "https://nemweb.com.au/Data_Archive/Wholesale_Electricity/NEMDE/2024/NEMDE_2024_03/NEMDE_Market_Data/NEMDE_Files/NemPriceSetter_20240304_xml.zip\n"
     ]
    },
    {
     "name": "stderr",
     "output_type": "stream",
     "text": [
      "C:\\ProgramData\\anaconda3\\Lib\\site-packages\\urllib3\\connectionpool.py:1097: InsecureRequestWarning: Unverified HTTPS request is being made to host 'nemweb.com.au'. Adding certificate verification is strongly advised. See: https://urllib3.readthedocs.io/en/latest/advanced-usage.html#tls-warnings\n",
      "  warnings.warn(\n"
     ]
    },
    {
     "name": "stdout",
     "output_type": "stream",
     "text": [
      "'https://nemweb.com.au/Data_Archive/Wholesale_Electricity/NEMDE/2024/NEMDE_2024_03/NEMDE_Market_Data/NEMDE_Files/NemPriceSetter_20240304_xml.zip'e downloaded and contents extracted to 'D:\\PRICESETTER2'\n",
      "https://nemweb.com.au/Data_Archive/Wholesale_Electricity/NEMDE/2024/NEMDE_2024_03/NEMDE_Market_Data/NEMDE_Files/NemPriceSetter_20240305_xml.zip\n"
     ]
    },
    {
     "name": "stderr",
     "output_type": "stream",
     "text": [
      "C:\\ProgramData\\anaconda3\\Lib\\site-packages\\urllib3\\connectionpool.py:1097: InsecureRequestWarning: Unverified HTTPS request is being made to host 'nemweb.com.au'. Adding certificate verification is strongly advised. See: https://urllib3.readthedocs.io/en/latest/advanced-usage.html#tls-warnings\n",
      "  warnings.warn(\n"
     ]
    },
    {
     "name": "stdout",
     "output_type": "stream",
     "text": [
      "'https://nemweb.com.au/Data_Archive/Wholesale_Electricity/NEMDE/2024/NEMDE_2024_03/NEMDE_Market_Data/NEMDE_Files/NemPriceSetter_20240305_xml.zip'e downloaded and contents extracted to 'D:\\PRICESETTER2'\n",
      "https://nemweb.com.au/Data_Archive/Wholesale_Electricity/NEMDE/2024/NEMDE_2024_03/NEMDE_Market_Data/NEMDE_Files/NemPriceSetter_20240306_xml.zip\n"
     ]
    },
    {
     "name": "stderr",
     "output_type": "stream",
     "text": [
      "C:\\ProgramData\\anaconda3\\Lib\\site-packages\\urllib3\\connectionpool.py:1097: InsecureRequestWarning: Unverified HTTPS request is being made to host 'nemweb.com.au'. Adding certificate verification is strongly advised. See: https://urllib3.readthedocs.io/en/latest/advanced-usage.html#tls-warnings\n",
      "  warnings.warn(\n"
     ]
    },
    {
     "name": "stdout",
     "output_type": "stream",
     "text": [
      "'https://nemweb.com.au/Data_Archive/Wholesale_Electricity/NEMDE/2024/NEMDE_2024_03/NEMDE_Market_Data/NEMDE_Files/NemPriceSetter_20240306_xml.zip'e downloaded and contents extracted to 'D:\\PRICESETTER2'\n",
      "https://nemweb.com.au/Data_Archive/Wholesale_Electricity/NEMDE/2024/NEMDE_2024_03/NEMDE_Market_Data/NEMDE_Files/NemPriceSetter_20240307_xml.zip\n"
     ]
    },
    {
     "name": "stderr",
     "output_type": "stream",
     "text": [
      "C:\\ProgramData\\anaconda3\\Lib\\site-packages\\urllib3\\connectionpool.py:1097: InsecureRequestWarning: Unverified HTTPS request is being made to host 'nemweb.com.au'. Adding certificate verification is strongly advised. See: https://urllib3.readthedocs.io/en/latest/advanced-usage.html#tls-warnings\n",
      "  warnings.warn(\n"
     ]
    },
    {
     "name": "stdout",
     "output_type": "stream",
     "text": [
      "'https://nemweb.com.au/Data_Archive/Wholesale_Electricity/NEMDE/2024/NEMDE_2024_03/NEMDE_Market_Data/NEMDE_Files/NemPriceSetter_20240307_xml.zip'e downloaded and contents extracted to 'D:\\PRICESETTER2'\n",
      "https://nemweb.com.au/Data_Archive/Wholesale_Electricity/NEMDE/2024/NEMDE_2024_03/NEMDE_Market_Data/NEMDE_Files/NemPriceSetter_20240308_xml.zip\n"
     ]
    },
    {
     "name": "stderr",
     "output_type": "stream",
     "text": [
      "C:\\ProgramData\\anaconda3\\Lib\\site-packages\\urllib3\\connectionpool.py:1097: InsecureRequestWarning: Unverified HTTPS request is being made to host 'nemweb.com.au'. Adding certificate verification is strongly advised. See: https://urllib3.readthedocs.io/en/latest/advanced-usage.html#tls-warnings\n",
      "  warnings.warn(\n"
     ]
    },
    {
     "name": "stdout",
     "output_type": "stream",
     "text": [
      "'https://nemweb.com.au/Data_Archive/Wholesale_Electricity/NEMDE/2024/NEMDE_2024_03/NEMDE_Market_Data/NEMDE_Files/NemPriceSetter_20240308_xml.zip'e downloaded and contents extracted to 'D:\\PRICESETTER2'\n",
      "https://nemweb.com.au/Data_Archive/Wholesale_Electricity/NEMDE/2024/NEMDE_2024_03/NEMDE_Market_Data/NEMDE_Files/NemPriceSetter_20240309_xml.zip\n"
     ]
    },
    {
     "name": "stderr",
     "output_type": "stream",
     "text": [
      "C:\\ProgramData\\anaconda3\\Lib\\site-packages\\urllib3\\connectionpool.py:1097: InsecureRequestWarning: Unverified HTTPS request is being made to host 'nemweb.com.au'. Adding certificate verification is strongly advised. See: https://urllib3.readthedocs.io/en/latest/advanced-usage.html#tls-warnings\n",
      "  warnings.warn(\n"
     ]
    },
    {
     "name": "stdout",
     "output_type": "stream",
     "text": [
      "'https://nemweb.com.au/Data_Archive/Wholesale_Electricity/NEMDE/2024/NEMDE_2024_03/NEMDE_Market_Data/NEMDE_Files/NemPriceSetter_20240309_xml.zip'e downloaded and contents extracted to 'D:\\PRICESETTER2'\n",
      "https://nemweb.com.au/Data_Archive/Wholesale_Electricity/NEMDE/2024/NEMDE_2024_03/NEMDE_Market_Data/NEMDE_Files/NemPriceSetter_20240310_xml.zip\n"
     ]
    },
    {
     "name": "stderr",
     "output_type": "stream",
     "text": [
      "C:\\ProgramData\\anaconda3\\Lib\\site-packages\\urllib3\\connectionpool.py:1097: InsecureRequestWarning: Unverified HTTPS request is being made to host 'nemweb.com.au'. Adding certificate verification is strongly advised. See: https://urllib3.readthedocs.io/en/latest/advanced-usage.html#tls-warnings\n",
      "  warnings.warn(\n"
     ]
    },
    {
     "name": "stdout",
     "output_type": "stream",
     "text": [
      "'https://nemweb.com.au/Data_Archive/Wholesale_Electricity/NEMDE/2024/NEMDE_2024_03/NEMDE_Market_Data/NEMDE_Files/NemPriceSetter_20240310_xml.zip'e downloaded and contents extracted to 'D:\\PRICESETTER2'\n",
      "https://nemweb.com.au/Data_Archive/Wholesale_Electricity/NEMDE/2024/NEMDE_2024_03/NEMDE_Market_Data/NEMDE_Files/NemPriceSetter_20240311_xml.zip\n"
     ]
    },
    {
     "name": "stderr",
     "output_type": "stream",
     "text": [
      "C:\\ProgramData\\anaconda3\\Lib\\site-packages\\urllib3\\connectionpool.py:1097: InsecureRequestWarning: Unverified HTTPS request is being made to host 'nemweb.com.au'. Adding certificate verification is strongly advised. See: https://urllib3.readthedocs.io/en/latest/advanced-usage.html#tls-warnings\n",
      "  warnings.warn(\n"
     ]
    },
    {
     "name": "stdout",
     "output_type": "stream",
     "text": [
      "'https://nemweb.com.au/Data_Archive/Wholesale_Electricity/NEMDE/2024/NEMDE_2024_03/NEMDE_Market_Data/NEMDE_Files/NemPriceSetter_20240311_xml.zip'e downloaded and contents extracted to 'D:\\PRICESETTER2'\n",
      "https://nemweb.com.au/Data_Archive/Wholesale_Electricity/NEMDE/2024/NEMDE_2024_03/NEMDE_Market_Data/NEMDE_Files/NemPriceSetter_20240312_xml.zip\n"
     ]
    },
    {
     "name": "stderr",
     "output_type": "stream",
     "text": [
      "C:\\ProgramData\\anaconda3\\Lib\\site-packages\\urllib3\\connectionpool.py:1097: InsecureRequestWarning: Unverified HTTPS request is being made to host 'nemweb.com.au'. Adding certificate verification is strongly advised. See: https://urllib3.readthedocs.io/en/latest/advanced-usage.html#tls-warnings\n",
      "  warnings.warn(\n"
     ]
    },
    {
     "name": "stdout",
     "output_type": "stream",
     "text": [
      "'https://nemweb.com.au/Data_Archive/Wholesale_Electricity/NEMDE/2024/NEMDE_2024_03/NEMDE_Market_Data/NEMDE_Files/NemPriceSetter_20240312_xml.zip'e downloaded and contents extracted to 'D:\\PRICESETTER2'\n",
      "https://nemweb.com.au/Data_Archive/Wholesale_Electricity/NEMDE/2024/NEMDE_2024_03/NEMDE_Market_Data/NEMDE_Files/NemPriceSetter_20240313_xml.zip\n"
     ]
    },
    {
     "name": "stderr",
     "output_type": "stream",
     "text": [
      "C:\\ProgramData\\anaconda3\\Lib\\site-packages\\urllib3\\connectionpool.py:1097: InsecureRequestWarning: Unverified HTTPS request is being made to host 'nemweb.com.au'. Adding certificate verification is strongly advised. See: https://urllib3.readthedocs.io/en/latest/advanced-usage.html#tls-warnings\n",
      "  warnings.warn(\n"
     ]
    },
    {
     "name": "stdout",
     "output_type": "stream",
     "text": [
      "'https://nemweb.com.au/Data_Archive/Wholesale_Electricity/NEMDE/2024/NEMDE_2024_03/NEMDE_Market_Data/NEMDE_Files/NemPriceSetter_20240313_xml.zip'e downloaded and contents extracted to 'D:\\PRICESETTER2'\n",
      "https://nemweb.com.au/Data_Archive/Wholesale_Electricity/NEMDE/2024/NEMDE_2024_03/NEMDE_Market_Data/NEMDE_Files/NemPriceSetter_20240314_xml.zip\n"
     ]
    },
    {
     "name": "stderr",
     "output_type": "stream",
     "text": [
      "C:\\ProgramData\\anaconda3\\Lib\\site-packages\\urllib3\\connectionpool.py:1097: InsecureRequestWarning: Unverified HTTPS request is being made to host 'nemweb.com.au'. Adding certificate verification is strongly advised. See: https://urllib3.readthedocs.io/en/latest/advanced-usage.html#tls-warnings\n",
      "  warnings.warn(\n"
     ]
    },
    {
     "name": "stdout",
     "output_type": "stream",
     "text": [
      "'https://nemweb.com.au/Data_Archive/Wholesale_Electricity/NEMDE/2024/NEMDE_2024_03/NEMDE_Market_Data/NEMDE_Files/NemPriceSetter_20240314_xml.zip'e downloaded and contents extracted to 'D:\\PRICESETTER2'\n",
      "https://nemweb.com.au/Data_Archive/Wholesale_Electricity/NEMDE/2024/NEMDE_2024_03/NEMDE_Market_Data/NEMDE_Files/NemPriceSetter_20240315_xml.zip\n"
     ]
    },
    {
     "name": "stderr",
     "output_type": "stream",
     "text": [
      "C:\\ProgramData\\anaconda3\\Lib\\site-packages\\urllib3\\connectionpool.py:1097: InsecureRequestWarning: Unverified HTTPS request is being made to host 'nemweb.com.au'. Adding certificate verification is strongly advised. See: https://urllib3.readthedocs.io/en/latest/advanced-usage.html#tls-warnings\n",
      "  warnings.warn(\n"
     ]
    },
    {
     "name": "stdout",
     "output_type": "stream",
     "text": [
      "'https://nemweb.com.au/Data_Archive/Wholesale_Electricity/NEMDE/2024/NEMDE_2024_03/NEMDE_Market_Data/NEMDE_Files/NemPriceSetter_20240315_xml.zip'e downloaded and contents extracted to 'D:\\PRICESETTER2'\n",
      "https://nemweb.com.au/Data_Archive/Wholesale_Electricity/NEMDE/2024/NEMDE_2024_03/NEMDE_Market_Data/NEMDE_Files/NemPriceSetter_20240316_xml.zip\n"
     ]
    },
    {
     "name": "stderr",
     "output_type": "stream",
     "text": [
      "C:\\ProgramData\\anaconda3\\Lib\\site-packages\\urllib3\\connectionpool.py:1097: InsecureRequestWarning: Unverified HTTPS request is being made to host 'nemweb.com.au'. Adding certificate verification is strongly advised. See: https://urllib3.readthedocs.io/en/latest/advanced-usage.html#tls-warnings\n",
      "  warnings.warn(\n"
     ]
    },
    {
     "name": "stdout",
     "output_type": "stream",
     "text": [
      "'https://nemweb.com.au/Data_Archive/Wholesale_Electricity/NEMDE/2024/NEMDE_2024_03/NEMDE_Market_Data/NEMDE_Files/NemPriceSetter_20240316_xml.zip'e downloaded and contents extracted to 'D:\\PRICESETTER2'\n",
      "https://nemweb.com.au/Data_Archive/Wholesale_Electricity/NEMDE/2024/NEMDE_2024_03/NEMDE_Market_Data/NEMDE_Files/NemPriceSetter_20240317_xml.zip\n"
     ]
    },
    {
     "name": "stderr",
     "output_type": "stream",
     "text": [
      "C:\\ProgramData\\anaconda3\\Lib\\site-packages\\urllib3\\connectionpool.py:1097: InsecureRequestWarning: Unverified HTTPS request is being made to host 'nemweb.com.au'. Adding certificate verification is strongly advised. See: https://urllib3.readthedocs.io/en/latest/advanced-usage.html#tls-warnings\n",
      "  warnings.warn(\n"
     ]
    },
    {
     "name": "stdout",
     "output_type": "stream",
     "text": [
      "'https://nemweb.com.au/Data_Archive/Wholesale_Electricity/NEMDE/2024/NEMDE_2024_03/NEMDE_Market_Data/NEMDE_Files/NemPriceSetter_20240317_xml.zip'e downloaded and contents extracted to 'D:\\PRICESETTER2'\n",
      "https://nemweb.com.au/Data_Archive/Wholesale_Electricity/NEMDE/2024/NEMDE_2024_03/NEMDE_Market_Data/NEMDE_Files/NemPriceSetter_20240318_xml.zip\n"
     ]
    },
    {
     "name": "stderr",
     "output_type": "stream",
     "text": [
      "C:\\ProgramData\\anaconda3\\Lib\\site-packages\\urllib3\\connectionpool.py:1097: InsecureRequestWarning: Unverified HTTPS request is being made to host 'nemweb.com.au'. Adding certificate verification is strongly advised. See: https://urllib3.readthedocs.io/en/latest/advanced-usage.html#tls-warnings\n",
      "  warnings.warn(\n"
     ]
    },
    {
     "name": "stdout",
     "output_type": "stream",
     "text": [
      "'https://nemweb.com.au/Data_Archive/Wholesale_Electricity/NEMDE/2024/NEMDE_2024_03/NEMDE_Market_Data/NEMDE_Files/NemPriceSetter_20240318_xml.zip'e downloaded and contents extracted to 'D:\\PRICESETTER2'\n",
      "https://nemweb.com.au/Data_Archive/Wholesale_Electricity/NEMDE/2024/NEMDE_2024_03/NEMDE_Market_Data/NEMDE_Files/NemPriceSetter_20240319_xml.zip\n"
     ]
    },
    {
     "name": "stderr",
     "output_type": "stream",
     "text": [
      "C:\\ProgramData\\anaconda3\\Lib\\site-packages\\urllib3\\connectionpool.py:1097: InsecureRequestWarning: Unverified HTTPS request is being made to host 'nemweb.com.au'. Adding certificate verification is strongly advised. See: https://urllib3.readthedocs.io/en/latest/advanced-usage.html#tls-warnings\n",
      "  warnings.warn(\n"
     ]
    },
    {
     "name": "stdout",
     "output_type": "stream",
     "text": [
      "'https://nemweb.com.au/Data_Archive/Wholesale_Electricity/NEMDE/2024/NEMDE_2024_03/NEMDE_Market_Data/NEMDE_Files/NemPriceSetter_20240319_xml.zip'e downloaded and contents extracted to 'D:\\PRICESETTER2'\n",
      "https://nemweb.com.au/Data_Archive/Wholesale_Electricity/NEMDE/2024/NEMDE_2024_03/NEMDE_Market_Data/NEMDE_Files/NemPriceSetter_20240320_xml.zip\n"
     ]
    },
    {
     "name": "stderr",
     "output_type": "stream",
     "text": [
      "C:\\ProgramData\\anaconda3\\Lib\\site-packages\\urllib3\\connectionpool.py:1097: InsecureRequestWarning: Unverified HTTPS request is being made to host 'nemweb.com.au'. Adding certificate verification is strongly advised. See: https://urllib3.readthedocs.io/en/latest/advanced-usage.html#tls-warnings\n",
      "  warnings.warn(\n"
     ]
    },
    {
     "name": "stdout",
     "output_type": "stream",
     "text": [
      "'https://nemweb.com.au/Data_Archive/Wholesale_Electricity/NEMDE/2024/NEMDE_2024_03/NEMDE_Market_Data/NEMDE_Files/NemPriceSetter_20240320_xml.zip'e downloaded and contents extracted to 'D:\\PRICESETTER2'\n",
      "https://nemweb.com.au/Data_Archive/Wholesale_Electricity/NEMDE/2024/NEMDE_2024_03/NEMDE_Market_Data/NEMDE_Files/NemPriceSetter_20240321_xml.zip\n"
     ]
    },
    {
     "name": "stderr",
     "output_type": "stream",
     "text": [
      "C:\\ProgramData\\anaconda3\\Lib\\site-packages\\urllib3\\connectionpool.py:1097: InsecureRequestWarning: Unverified HTTPS request is being made to host 'nemweb.com.au'. Adding certificate verification is strongly advised. See: https://urllib3.readthedocs.io/en/latest/advanced-usage.html#tls-warnings\n",
      "  warnings.warn(\n"
     ]
    },
    {
     "name": "stdout",
     "output_type": "stream",
     "text": [
      "'https://nemweb.com.au/Data_Archive/Wholesale_Electricity/NEMDE/2024/NEMDE_2024_03/NEMDE_Market_Data/NEMDE_Files/NemPriceSetter_20240321_xml.zip'e downloaded and contents extracted to 'D:\\PRICESETTER2'\n",
      "https://nemweb.com.au/Data_Archive/Wholesale_Electricity/NEMDE/2024/NEMDE_2024_03/NEMDE_Market_Data/NEMDE_Files/NemPriceSetter_20240322_xml.zip\n"
     ]
    },
    {
     "name": "stderr",
     "output_type": "stream",
     "text": [
      "C:\\ProgramData\\anaconda3\\Lib\\site-packages\\urllib3\\connectionpool.py:1097: InsecureRequestWarning: Unverified HTTPS request is being made to host 'nemweb.com.au'. Adding certificate verification is strongly advised. See: https://urllib3.readthedocs.io/en/latest/advanced-usage.html#tls-warnings\n",
      "  warnings.warn(\n"
     ]
    },
    {
     "name": "stdout",
     "output_type": "stream",
     "text": [
      "'https://nemweb.com.au/Data_Archive/Wholesale_Electricity/NEMDE/2024/NEMDE_2024_03/NEMDE_Market_Data/NEMDE_Files/NemPriceSetter_20240322_xml.zip'e downloaded and contents extracted to 'D:\\PRICESETTER2'\n",
      "https://nemweb.com.au/Data_Archive/Wholesale_Electricity/NEMDE/2024/NEMDE_2024_03/NEMDE_Market_Data/NEMDE_Files/NemPriceSetter_20240323_xml.zip\n"
     ]
    },
    {
     "name": "stderr",
     "output_type": "stream",
     "text": [
      "C:\\ProgramData\\anaconda3\\Lib\\site-packages\\urllib3\\connectionpool.py:1097: InsecureRequestWarning: Unverified HTTPS request is being made to host 'nemweb.com.au'. Adding certificate verification is strongly advised. See: https://urllib3.readthedocs.io/en/latest/advanced-usage.html#tls-warnings\n",
      "  warnings.warn(\n"
     ]
    },
    {
     "name": "stdout",
     "output_type": "stream",
     "text": [
      "'https://nemweb.com.au/Data_Archive/Wholesale_Electricity/NEMDE/2024/NEMDE_2024_03/NEMDE_Market_Data/NEMDE_Files/NemPriceSetter_20240323_xml.zip'e downloaded and contents extracted to 'D:\\PRICESETTER2'\n",
      "https://nemweb.com.au/Data_Archive/Wholesale_Electricity/NEMDE/2024/NEMDE_2024_03/NEMDE_Market_Data/NEMDE_Files/NemPriceSetter_20240324_xml.zip\n"
     ]
    },
    {
     "name": "stderr",
     "output_type": "stream",
     "text": [
      "C:\\ProgramData\\anaconda3\\Lib\\site-packages\\urllib3\\connectionpool.py:1097: InsecureRequestWarning: Unverified HTTPS request is being made to host 'nemweb.com.au'. Adding certificate verification is strongly advised. See: https://urllib3.readthedocs.io/en/latest/advanced-usage.html#tls-warnings\n",
      "  warnings.warn(\n"
     ]
    },
    {
     "name": "stdout",
     "output_type": "stream",
     "text": [
      "'https://nemweb.com.au/Data_Archive/Wholesale_Electricity/NEMDE/2024/NEMDE_2024_03/NEMDE_Market_Data/NEMDE_Files/NemPriceSetter_20240324_xml.zip'e downloaded and contents extracted to 'D:\\PRICESETTER2'\n",
      "https://nemweb.com.au/Data_Archive/Wholesale_Electricity/NEMDE/2024/NEMDE_2024_03/NEMDE_Market_Data/NEMDE_Files/NemPriceSetter_20240325_xml.zip\n"
     ]
    },
    {
     "name": "stderr",
     "output_type": "stream",
     "text": [
      "C:\\ProgramData\\anaconda3\\Lib\\site-packages\\urllib3\\connectionpool.py:1097: InsecureRequestWarning: Unverified HTTPS request is being made to host 'nemweb.com.au'. Adding certificate verification is strongly advised. See: https://urllib3.readthedocs.io/en/latest/advanced-usage.html#tls-warnings\n",
      "  warnings.warn(\n"
     ]
    },
    {
     "name": "stdout",
     "output_type": "stream",
     "text": [
      "'https://nemweb.com.au/Data_Archive/Wholesale_Electricity/NEMDE/2024/NEMDE_2024_03/NEMDE_Market_Data/NEMDE_Files/NemPriceSetter_20240325_xml.zip'e downloaded and contents extracted to 'D:\\PRICESETTER2'\n",
      "https://nemweb.com.au/Data_Archive/Wholesale_Electricity/NEMDE/2024/NEMDE_2024_03/NEMDE_Market_Data/NEMDE_Files/NemPriceSetter_20240326_xml.zip\n"
     ]
    },
    {
     "name": "stderr",
     "output_type": "stream",
     "text": [
      "C:\\ProgramData\\anaconda3\\Lib\\site-packages\\urllib3\\connectionpool.py:1097: InsecureRequestWarning: Unverified HTTPS request is being made to host 'nemweb.com.au'. Adding certificate verification is strongly advised. See: https://urllib3.readthedocs.io/en/latest/advanced-usage.html#tls-warnings\n",
      "  warnings.warn(\n"
     ]
    },
    {
     "name": "stdout",
     "output_type": "stream",
     "text": [
      "'https://nemweb.com.au/Data_Archive/Wholesale_Electricity/NEMDE/2024/NEMDE_2024_03/NEMDE_Market_Data/NEMDE_Files/NemPriceSetter_20240326_xml.zip'e downloaded and contents extracted to 'D:\\PRICESETTER2'\n",
      "https://nemweb.com.au/Data_Archive/Wholesale_Electricity/NEMDE/2024/NEMDE_2024_03/NEMDE_Market_Data/NEMDE_Files/NemPriceSetter_20240327_xml.zip\n"
     ]
    },
    {
     "name": "stderr",
     "output_type": "stream",
     "text": [
      "C:\\ProgramData\\anaconda3\\Lib\\site-packages\\urllib3\\connectionpool.py:1097: InsecureRequestWarning: Unverified HTTPS request is being made to host 'nemweb.com.au'. Adding certificate verification is strongly advised. See: https://urllib3.readthedocs.io/en/latest/advanced-usage.html#tls-warnings\n",
      "  warnings.warn(\n"
     ]
    },
    {
     "ename": "ConnectionError",
     "evalue": "('Connection aborted.', RemoteDisconnected('Remote end closed connection without response'))",
     "output_type": "error",
     "traceback": [
      "\u001b[1;31m---------------------------------------------------------------------------\u001b[0m",
      "\u001b[1;31mRemoteDisconnected\u001b[0m                        Traceback (most recent call last)",
      "File \u001b[1;32mC:\\ProgramData\\anaconda3\\Lib\\site-packages\\urllib3\\connectionpool.py:787\u001b[0m, in \u001b[0;36mHTTPConnectionPool.urlopen\u001b[1;34m(self, method, url, body, headers, retries, redirect, assert_same_host, timeout, pool_timeout, release_conn, chunked, body_pos, preload_content, decode_content, **response_kw)\u001b[0m\n\u001b[0;32m    786\u001b[0m \u001b[38;5;66;03m# Make the request on the HTTPConnection object\u001b[39;00m\n\u001b[1;32m--> 787\u001b[0m response \u001b[38;5;241m=\u001b[39m \u001b[38;5;28mself\u001b[39m\u001b[38;5;241m.\u001b[39m_make_request(\n\u001b[0;32m    788\u001b[0m     conn,\n\u001b[0;32m    789\u001b[0m     method,\n\u001b[0;32m    790\u001b[0m     url,\n\u001b[0;32m    791\u001b[0m     timeout\u001b[38;5;241m=\u001b[39mtimeout_obj,\n\u001b[0;32m    792\u001b[0m     body\u001b[38;5;241m=\u001b[39mbody,\n\u001b[0;32m    793\u001b[0m     headers\u001b[38;5;241m=\u001b[39mheaders,\n\u001b[0;32m    794\u001b[0m     chunked\u001b[38;5;241m=\u001b[39mchunked,\n\u001b[0;32m    795\u001b[0m     retries\u001b[38;5;241m=\u001b[39mretries,\n\u001b[0;32m    796\u001b[0m     response_conn\u001b[38;5;241m=\u001b[39mresponse_conn,\n\u001b[0;32m    797\u001b[0m     preload_content\u001b[38;5;241m=\u001b[39mpreload_content,\n\u001b[0;32m    798\u001b[0m     decode_content\u001b[38;5;241m=\u001b[39mdecode_content,\n\u001b[0;32m    799\u001b[0m     \u001b[38;5;241m*\u001b[39m\u001b[38;5;241m*\u001b[39mresponse_kw,\n\u001b[0;32m    800\u001b[0m )\n\u001b[0;32m    802\u001b[0m \u001b[38;5;66;03m# Everything went great!\u001b[39;00m\n",
      "File \u001b[1;32mC:\\ProgramData\\anaconda3\\Lib\\site-packages\\urllib3\\connectionpool.py:534\u001b[0m, in \u001b[0;36mHTTPConnectionPool._make_request\u001b[1;34m(self, conn, method, url, body, headers, retries, timeout, chunked, response_conn, preload_content, decode_content, enforce_content_length)\u001b[0m\n\u001b[0;32m    533\u001b[0m \u001b[38;5;28;01mtry\u001b[39;00m:\n\u001b[1;32m--> 534\u001b[0m     response \u001b[38;5;241m=\u001b[39m conn\u001b[38;5;241m.\u001b[39mgetresponse()\n\u001b[0;32m    535\u001b[0m \u001b[38;5;28;01mexcept\u001b[39;00m (BaseSSLError, \u001b[38;5;167;01mOSError\u001b[39;00m) \u001b[38;5;28;01mas\u001b[39;00m e:\n",
      "File \u001b[1;32mC:\\ProgramData\\anaconda3\\Lib\\site-packages\\urllib3\\connection.py:516\u001b[0m, in \u001b[0;36mHTTPConnection.getresponse\u001b[1;34m(self)\u001b[0m\n\u001b[0;32m    515\u001b[0m \u001b[38;5;66;03m# Get the response from http.client.HTTPConnection\u001b[39;00m\n\u001b[1;32m--> 516\u001b[0m httplib_response \u001b[38;5;241m=\u001b[39m \u001b[38;5;28msuper\u001b[39m()\u001b[38;5;241m.\u001b[39mgetresponse()\n\u001b[0;32m    518\u001b[0m \u001b[38;5;28;01mtry\u001b[39;00m:\n",
      "File \u001b[1;32mC:\\ProgramData\\anaconda3\\Lib\\http\\client.py:1430\u001b[0m, in \u001b[0;36mHTTPConnection.getresponse\u001b[1;34m(self)\u001b[0m\n\u001b[0;32m   1429\u001b[0m \u001b[38;5;28;01mtry\u001b[39;00m:\n\u001b[1;32m-> 1430\u001b[0m     response\u001b[38;5;241m.\u001b[39mbegin()\n\u001b[0;32m   1431\u001b[0m \u001b[38;5;28;01mexcept\u001b[39;00m \u001b[38;5;167;01mConnectionError\u001b[39;00m:\n",
      "File \u001b[1;32mC:\\ProgramData\\anaconda3\\Lib\\http\\client.py:331\u001b[0m, in \u001b[0;36mHTTPResponse.begin\u001b[1;34m(self)\u001b[0m\n\u001b[0;32m    330\u001b[0m \u001b[38;5;28;01mwhile\u001b[39;00m \u001b[38;5;28;01mTrue\u001b[39;00m:\n\u001b[1;32m--> 331\u001b[0m     version, status, reason \u001b[38;5;241m=\u001b[39m \u001b[38;5;28mself\u001b[39m\u001b[38;5;241m.\u001b[39m_read_status()\n\u001b[0;32m    332\u001b[0m     \u001b[38;5;28;01mif\u001b[39;00m status \u001b[38;5;241m!=\u001b[39m CONTINUE:\n",
      "File \u001b[1;32mC:\\ProgramData\\anaconda3\\Lib\\http\\client.py:300\u001b[0m, in \u001b[0;36mHTTPResponse._read_status\u001b[1;34m(self)\u001b[0m\n\u001b[0;32m    297\u001b[0m \u001b[38;5;28;01mif\u001b[39;00m \u001b[38;5;129;01mnot\u001b[39;00m line:\n\u001b[0;32m    298\u001b[0m     \u001b[38;5;66;03m# Presumably, the server closed the connection before\u001b[39;00m\n\u001b[0;32m    299\u001b[0m     \u001b[38;5;66;03m# sending a valid response.\u001b[39;00m\n\u001b[1;32m--> 300\u001b[0m     \u001b[38;5;28;01mraise\u001b[39;00m RemoteDisconnected(\u001b[38;5;124m\"\u001b[39m\u001b[38;5;124mRemote end closed connection without\u001b[39m\u001b[38;5;124m\"\u001b[39m\n\u001b[0;32m    301\u001b[0m                              \u001b[38;5;124m\"\u001b[39m\u001b[38;5;124m response\u001b[39m\u001b[38;5;124m\"\u001b[39m)\n\u001b[0;32m    302\u001b[0m \u001b[38;5;28;01mtry\u001b[39;00m:\n",
      "\u001b[1;31mRemoteDisconnected\u001b[0m: Remote end closed connection without response",
      "\nDuring handling of the above exception, another exception occurred:\n",
      "\u001b[1;31mProtocolError\u001b[0m                             Traceback (most recent call last)",
      "File \u001b[1;32mC:\\ProgramData\\anaconda3\\Lib\\site-packages\\requests\\adapters.py:667\u001b[0m, in \u001b[0;36mHTTPAdapter.send\u001b[1;34m(self, request, stream, timeout, verify, cert, proxies)\u001b[0m\n\u001b[0;32m    666\u001b[0m \u001b[38;5;28;01mtry\u001b[39;00m:\n\u001b[1;32m--> 667\u001b[0m     resp \u001b[38;5;241m=\u001b[39m conn\u001b[38;5;241m.\u001b[39murlopen(\n\u001b[0;32m    668\u001b[0m         method\u001b[38;5;241m=\u001b[39mrequest\u001b[38;5;241m.\u001b[39mmethod,\n\u001b[0;32m    669\u001b[0m         url\u001b[38;5;241m=\u001b[39murl,\n\u001b[0;32m    670\u001b[0m         body\u001b[38;5;241m=\u001b[39mrequest\u001b[38;5;241m.\u001b[39mbody,\n\u001b[0;32m    671\u001b[0m         headers\u001b[38;5;241m=\u001b[39mrequest\u001b[38;5;241m.\u001b[39mheaders,\n\u001b[0;32m    672\u001b[0m         redirect\u001b[38;5;241m=\u001b[39m\u001b[38;5;28;01mFalse\u001b[39;00m,\n\u001b[0;32m    673\u001b[0m         assert_same_host\u001b[38;5;241m=\u001b[39m\u001b[38;5;28;01mFalse\u001b[39;00m,\n\u001b[0;32m    674\u001b[0m         preload_content\u001b[38;5;241m=\u001b[39m\u001b[38;5;28;01mFalse\u001b[39;00m,\n\u001b[0;32m    675\u001b[0m         decode_content\u001b[38;5;241m=\u001b[39m\u001b[38;5;28;01mFalse\u001b[39;00m,\n\u001b[0;32m    676\u001b[0m         retries\u001b[38;5;241m=\u001b[39m\u001b[38;5;28mself\u001b[39m\u001b[38;5;241m.\u001b[39mmax_retries,\n\u001b[0;32m    677\u001b[0m         timeout\u001b[38;5;241m=\u001b[39mtimeout,\n\u001b[0;32m    678\u001b[0m         chunked\u001b[38;5;241m=\u001b[39mchunked,\n\u001b[0;32m    679\u001b[0m     )\n\u001b[0;32m    681\u001b[0m \u001b[38;5;28;01mexcept\u001b[39;00m (ProtocolError, \u001b[38;5;167;01mOSError\u001b[39;00m) \u001b[38;5;28;01mas\u001b[39;00m err:\n",
      "File \u001b[1;32mC:\\ProgramData\\anaconda3\\Lib\\site-packages\\urllib3\\connectionpool.py:841\u001b[0m, in \u001b[0;36mHTTPConnectionPool.urlopen\u001b[1;34m(self, method, url, body, headers, retries, redirect, assert_same_host, timeout, pool_timeout, release_conn, chunked, body_pos, preload_content, decode_content, **response_kw)\u001b[0m\n\u001b[0;32m    839\u001b[0m     new_e \u001b[38;5;241m=\u001b[39m ProtocolError(\u001b[38;5;124m\"\u001b[39m\u001b[38;5;124mConnection aborted.\u001b[39m\u001b[38;5;124m\"\u001b[39m, new_e)\n\u001b[1;32m--> 841\u001b[0m retries \u001b[38;5;241m=\u001b[39m retries\u001b[38;5;241m.\u001b[39mincrement(\n\u001b[0;32m    842\u001b[0m     method, url, error\u001b[38;5;241m=\u001b[39mnew_e, _pool\u001b[38;5;241m=\u001b[39m\u001b[38;5;28mself\u001b[39m, _stacktrace\u001b[38;5;241m=\u001b[39msys\u001b[38;5;241m.\u001b[39mexc_info()[\u001b[38;5;241m2\u001b[39m]\n\u001b[0;32m    843\u001b[0m )\n\u001b[0;32m    844\u001b[0m retries\u001b[38;5;241m.\u001b[39msleep()\n",
      "File \u001b[1;32mC:\\ProgramData\\anaconda3\\Lib\\site-packages\\urllib3\\util\\retry.py:474\u001b[0m, in \u001b[0;36mRetry.increment\u001b[1;34m(self, method, url, response, error, _pool, _stacktrace)\u001b[0m\n\u001b[0;32m    473\u001b[0m \u001b[38;5;28;01mif\u001b[39;00m read \u001b[38;5;129;01mis\u001b[39;00m \u001b[38;5;28;01mFalse\u001b[39;00m \u001b[38;5;129;01mor\u001b[39;00m method \u001b[38;5;129;01mis\u001b[39;00m \u001b[38;5;28;01mNone\u001b[39;00m \u001b[38;5;129;01mor\u001b[39;00m \u001b[38;5;129;01mnot\u001b[39;00m \u001b[38;5;28mself\u001b[39m\u001b[38;5;241m.\u001b[39m_is_method_retryable(method):\n\u001b[1;32m--> 474\u001b[0m     \u001b[38;5;28;01mraise\u001b[39;00m reraise(\u001b[38;5;28mtype\u001b[39m(error), error, _stacktrace)\n\u001b[0;32m    475\u001b[0m \u001b[38;5;28;01melif\u001b[39;00m read \u001b[38;5;129;01mis\u001b[39;00m \u001b[38;5;129;01mnot\u001b[39;00m \u001b[38;5;28;01mNone\u001b[39;00m:\n",
      "File \u001b[1;32mC:\\ProgramData\\anaconda3\\Lib\\site-packages\\urllib3\\util\\util.py:38\u001b[0m, in \u001b[0;36mreraise\u001b[1;34m(tp, value, tb)\u001b[0m\n\u001b[0;32m     37\u001b[0m \u001b[38;5;28;01mif\u001b[39;00m value\u001b[38;5;241m.\u001b[39m__traceback__ \u001b[38;5;129;01mis\u001b[39;00m \u001b[38;5;129;01mnot\u001b[39;00m tb:\n\u001b[1;32m---> 38\u001b[0m     \u001b[38;5;28;01mraise\u001b[39;00m value\u001b[38;5;241m.\u001b[39mwith_traceback(tb)\n\u001b[0;32m     39\u001b[0m \u001b[38;5;28;01mraise\u001b[39;00m value\n",
      "File \u001b[1;32mC:\\ProgramData\\anaconda3\\Lib\\site-packages\\urllib3\\connectionpool.py:787\u001b[0m, in \u001b[0;36mHTTPConnectionPool.urlopen\u001b[1;34m(self, method, url, body, headers, retries, redirect, assert_same_host, timeout, pool_timeout, release_conn, chunked, body_pos, preload_content, decode_content, **response_kw)\u001b[0m\n\u001b[0;32m    786\u001b[0m \u001b[38;5;66;03m# Make the request on the HTTPConnection object\u001b[39;00m\n\u001b[1;32m--> 787\u001b[0m response \u001b[38;5;241m=\u001b[39m \u001b[38;5;28mself\u001b[39m\u001b[38;5;241m.\u001b[39m_make_request(\n\u001b[0;32m    788\u001b[0m     conn,\n\u001b[0;32m    789\u001b[0m     method,\n\u001b[0;32m    790\u001b[0m     url,\n\u001b[0;32m    791\u001b[0m     timeout\u001b[38;5;241m=\u001b[39mtimeout_obj,\n\u001b[0;32m    792\u001b[0m     body\u001b[38;5;241m=\u001b[39mbody,\n\u001b[0;32m    793\u001b[0m     headers\u001b[38;5;241m=\u001b[39mheaders,\n\u001b[0;32m    794\u001b[0m     chunked\u001b[38;5;241m=\u001b[39mchunked,\n\u001b[0;32m    795\u001b[0m     retries\u001b[38;5;241m=\u001b[39mretries,\n\u001b[0;32m    796\u001b[0m     response_conn\u001b[38;5;241m=\u001b[39mresponse_conn,\n\u001b[0;32m    797\u001b[0m     preload_content\u001b[38;5;241m=\u001b[39mpreload_content,\n\u001b[0;32m    798\u001b[0m     decode_content\u001b[38;5;241m=\u001b[39mdecode_content,\n\u001b[0;32m    799\u001b[0m     \u001b[38;5;241m*\u001b[39m\u001b[38;5;241m*\u001b[39mresponse_kw,\n\u001b[0;32m    800\u001b[0m )\n\u001b[0;32m    802\u001b[0m \u001b[38;5;66;03m# Everything went great!\u001b[39;00m\n",
      "File \u001b[1;32mC:\\ProgramData\\anaconda3\\Lib\\site-packages\\urllib3\\connectionpool.py:534\u001b[0m, in \u001b[0;36mHTTPConnectionPool._make_request\u001b[1;34m(self, conn, method, url, body, headers, retries, timeout, chunked, response_conn, preload_content, decode_content, enforce_content_length)\u001b[0m\n\u001b[0;32m    533\u001b[0m \u001b[38;5;28;01mtry\u001b[39;00m:\n\u001b[1;32m--> 534\u001b[0m     response \u001b[38;5;241m=\u001b[39m conn\u001b[38;5;241m.\u001b[39mgetresponse()\n\u001b[0;32m    535\u001b[0m \u001b[38;5;28;01mexcept\u001b[39;00m (BaseSSLError, \u001b[38;5;167;01mOSError\u001b[39;00m) \u001b[38;5;28;01mas\u001b[39;00m e:\n",
      "File \u001b[1;32mC:\\ProgramData\\anaconda3\\Lib\\site-packages\\urllib3\\connection.py:516\u001b[0m, in \u001b[0;36mHTTPConnection.getresponse\u001b[1;34m(self)\u001b[0m\n\u001b[0;32m    515\u001b[0m \u001b[38;5;66;03m# Get the response from http.client.HTTPConnection\u001b[39;00m\n\u001b[1;32m--> 516\u001b[0m httplib_response \u001b[38;5;241m=\u001b[39m \u001b[38;5;28msuper\u001b[39m()\u001b[38;5;241m.\u001b[39mgetresponse()\n\u001b[0;32m    518\u001b[0m \u001b[38;5;28;01mtry\u001b[39;00m:\n",
      "File \u001b[1;32mC:\\ProgramData\\anaconda3\\Lib\\http\\client.py:1430\u001b[0m, in \u001b[0;36mHTTPConnection.getresponse\u001b[1;34m(self)\u001b[0m\n\u001b[0;32m   1429\u001b[0m \u001b[38;5;28;01mtry\u001b[39;00m:\n\u001b[1;32m-> 1430\u001b[0m     response\u001b[38;5;241m.\u001b[39mbegin()\n\u001b[0;32m   1431\u001b[0m \u001b[38;5;28;01mexcept\u001b[39;00m \u001b[38;5;167;01mConnectionError\u001b[39;00m:\n",
      "File \u001b[1;32mC:\\ProgramData\\anaconda3\\Lib\\http\\client.py:331\u001b[0m, in \u001b[0;36mHTTPResponse.begin\u001b[1;34m(self)\u001b[0m\n\u001b[0;32m    330\u001b[0m \u001b[38;5;28;01mwhile\u001b[39;00m \u001b[38;5;28;01mTrue\u001b[39;00m:\n\u001b[1;32m--> 331\u001b[0m     version, status, reason \u001b[38;5;241m=\u001b[39m \u001b[38;5;28mself\u001b[39m\u001b[38;5;241m.\u001b[39m_read_status()\n\u001b[0;32m    332\u001b[0m     \u001b[38;5;28;01mif\u001b[39;00m status \u001b[38;5;241m!=\u001b[39m CONTINUE:\n",
      "File \u001b[1;32mC:\\ProgramData\\anaconda3\\Lib\\http\\client.py:300\u001b[0m, in \u001b[0;36mHTTPResponse._read_status\u001b[1;34m(self)\u001b[0m\n\u001b[0;32m    297\u001b[0m \u001b[38;5;28;01mif\u001b[39;00m \u001b[38;5;129;01mnot\u001b[39;00m line:\n\u001b[0;32m    298\u001b[0m     \u001b[38;5;66;03m# Presumably, the server closed the connection before\u001b[39;00m\n\u001b[0;32m    299\u001b[0m     \u001b[38;5;66;03m# sending a valid response.\u001b[39;00m\n\u001b[1;32m--> 300\u001b[0m     \u001b[38;5;28;01mraise\u001b[39;00m RemoteDisconnected(\u001b[38;5;124m\"\u001b[39m\u001b[38;5;124mRemote end closed connection without\u001b[39m\u001b[38;5;124m\"\u001b[39m\n\u001b[0;32m    301\u001b[0m                              \u001b[38;5;124m\"\u001b[39m\u001b[38;5;124m response\u001b[39m\u001b[38;5;124m\"\u001b[39m)\n\u001b[0;32m    302\u001b[0m \u001b[38;5;28;01mtry\u001b[39;00m:\n",
      "\u001b[1;31mProtocolError\u001b[0m: ('Connection aborted.', RemoteDisconnected('Remote end closed connection without response'))",
      "\nDuring handling of the above exception, another exception occurred:\n",
      "\u001b[1;31mConnectionError\u001b[0m                           Traceback (most recent call last)",
      "Cell \u001b[1;32mIn[48], line 3\u001b[0m\n\u001b[0;32m      1\u001b[0m \u001b[38;5;66;03m#'11','12'\u001b[39;00m\n\u001b[0;32m      2\u001b[0m \u001b[38;5;28;01mfor\u001b[39;00m n \u001b[38;5;129;01min\u001b[39;00m [\u001b[38;5;124m'\u001b[39m\u001b[38;5;124m01\u001b[39m\u001b[38;5;124m'\u001b[39m,\u001b[38;5;124m'\u001b[39m\u001b[38;5;124m02\u001b[39m\u001b[38;5;124m'\u001b[39m,\u001b[38;5;124m'\u001b[39m\u001b[38;5;124m03\u001b[39m\u001b[38;5;124m'\u001b[39m,\u001b[38;5;124m'\u001b[39m\u001b[38;5;124m04\u001b[39m\u001b[38;5;124m'\u001b[39m,\u001b[38;5;124m'\u001b[39m\u001b[38;5;124m05\u001b[39m\u001b[38;5;124m'\u001b[39m,\u001b[38;5;124m'\u001b[39m\u001b[38;5;124m06\u001b[39m\u001b[38;5;124m'\u001b[39m,\u001b[38;5;124m'\u001b[39m\u001b[38;5;124m07\u001b[39m\u001b[38;5;124m'\u001b[39m,\u001b[38;5;124m'\u001b[39m\u001b[38;5;124m08\u001b[39m\u001b[38;5;124m'\u001b[39m,\u001b[38;5;124m'\u001b[39m\u001b[38;5;124m09\u001b[39m\u001b[38;5;124m'\u001b[39m,\u001b[38;5;124m'\u001b[39m\u001b[38;5;124m10\u001b[39m\u001b[38;5;124m'\u001b[39m]:\n\u001b[1;32m----> 3\u001b[0m     downloading_price_setter_data(\u001b[38;5;124m'\u001b[39m\u001b[38;5;124mD:\u001b[39m\u001b[38;5;124m\\\u001b[39m\u001b[38;5;124mPRICESETTER2\u001b[39m\u001b[38;5;124m'\u001b[39m,\u001b[38;5;241m2024\u001b[39m, n)\n",
      "Cell \u001b[1;32mIn[46], line 20\u001b[0m, in \u001b[0;36mdownloading_price_setter_data\u001b[1;34m(location, year, month)\u001b[0m\n\u001b[0;32m     18\u001b[0m \u001b[38;5;28;01mfor\u001b[39;00m zip_url \u001b[38;5;129;01min\u001b[39;00m excel_urls:\n\u001b[0;32m     19\u001b[0m     \u001b[38;5;28mprint\u001b[39m(zip_url)\n\u001b[1;32m---> 20\u001b[0m     response \u001b[38;5;241m=\u001b[39m requests\u001b[38;5;241m.\u001b[39mget(zip_url,verify\u001b[38;5;241m=\u001b[39m\u001b[38;5;28;01mFalse\u001b[39;00m)\n\u001b[0;32m     21\u001b[0m     response\u001b[38;5;241m.\u001b[39mraise_for_status()\n\u001b[0;32m     22\u001b[0m     zip_file_in_memory \u001b[38;5;241m=\u001b[39m BytesIO(response\u001b[38;5;241m.\u001b[39mcontent)\n",
      "File \u001b[1;32mC:\\ProgramData\\anaconda3\\Lib\\site-packages\\requests\\api.py:73\u001b[0m, in \u001b[0;36mget\u001b[1;34m(url, params, **kwargs)\u001b[0m\n\u001b[0;32m     62\u001b[0m \u001b[38;5;28;01mdef\u001b[39;00m\u001b[38;5;250m \u001b[39m\u001b[38;5;21mget\u001b[39m(url, params\u001b[38;5;241m=\u001b[39m\u001b[38;5;28;01mNone\u001b[39;00m, \u001b[38;5;241m*\u001b[39m\u001b[38;5;241m*\u001b[39mkwargs):\n\u001b[0;32m     63\u001b[0m \u001b[38;5;250m    \u001b[39m\u001b[38;5;124mr\u001b[39m\u001b[38;5;124;03m\"\"\"Sends a GET request.\u001b[39;00m\n\u001b[0;32m     64\u001b[0m \n\u001b[0;32m     65\u001b[0m \u001b[38;5;124;03m    :param url: URL for the new :class:`Request` object.\u001b[39;00m\n\u001b[1;32m   (...)\u001b[0m\n\u001b[0;32m     70\u001b[0m \u001b[38;5;124;03m    :rtype: requests.Response\u001b[39;00m\n\u001b[0;32m     71\u001b[0m \u001b[38;5;124;03m    \"\"\"\u001b[39;00m\n\u001b[1;32m---> 73\u001b[0m     \u001b[38;5;28;01mreturn\u001b[39;00m request(\u001b[38;5;124m\"\u001b[39m\u001b[38;5;124mget\u001b[39m\u001b[38;5;124m\"\u001b[39m, url, params\u001b[38;5;241m=\u001b[39mparams, \u001b[38;5;241m*\u001b[39m\u001b[38;5;241m*\u001b[39mkwargs)\n",
      "File \u001b[1;32mC:\\ProgramData\\anaconda3\\Lib\\site-packages\\requests\\api.py:59\u001b[0m, in \u001b[0;36mrequest\u001b[1;34m(method, url, **kwargs)\u001b[0m\n\u001b[0;32m     55\u001b[0m \u001b[38;5;66;03m# By using the 'with' statement we are sure the session is closed, thus we\u001b[39;00m\n\u001b[0;32m     56\u001b[0m \u001b[38;5;66;03m# avoid leaving sockets open which can trigger a ResourceWarning in some\u001b[39;00m\n\u001b[0;32m     57\u001b[0m \u001b[38;5;66;03m# cases, and look like a memory leak in others.\u001b[39;00m\n\u001b[0;32m     58\u001b[0m \u001b[38;5;28;01mwith\u001b[39;00m sessions\u001b[38;5;241m.\u001b[39mSession() \u001b[38;5;28;01mas\u001b[39;00m session:\n\u001b[1;32m---> 59\u001b[0m     \u001b[38;5;28;01mreturn\u001b[39;00m session\u001b[38;5;241m.\u001b[39mrequest(method\u001b[38;5;241m=\u001b[39mmethod, url\u001b[38;5;241m=\u001b[39murl, \u001b[38;5;241m*\u001b[39m\u001b[38;5;241m*\u001b[39mkwargs)\n",
      "File \u001b[1;32mC:\\ProgramData\\anaconda3\\Lib\\site-packages\\requests\\sessions.py:589\u001b[0m, in \u001b[0;36mSession.request\u001b[1;34m(self, method, url, params, data, headers, cookies, files, auth, timeout, allow_redirects, proxies, hooks, stream, verify, cert, json)\u001b[0m\n\u001b[0;32m    584\u001b[0m send_kwargs \u001b[38;5;241m=\u001b[39m {\n\u001b[0;32m    585\u001b[0m     \u001b[38;5;124m\"\u001b[39m\u001b[38;5;124mtimeout\u001b[39m\u001b[38;5;124m\"\u001b[39m: timeout,\n\u001b[0;32m    586\u001b[0m     \u001b[38;5;124m\"\u001b[39m\u001b[38;5;124mallow_redirects\u001b[39m\u001b[38;5;124m\"\u001b[39m: allow_redirects,\n\u001b[0;32m    587\u001b[0m }\n\u001b[0;32m    588\u001b[0m send_kwargs\u001b[38;5;241m.\u001b[39mupdate(settings)\n\u001b[1;32m--> 589\u001b[0m resp \u001b[38;5;241m=\u001b[39m \u001b[38;5;28mself\u001b[39m\u001b[38;5;241m.\u001b[39msend(prep, \u001b[38;5;241m*\u001b[39m\u001b[38;5;241m*\u001b[39msend_kwargs)\n\u001b[0;32m    591\u001b[0m \u001b[38;5;28;01mreturn\u001b[39;00m resp\n",
      "File \u001b[1;32mC:\\ProgramData\\anaconda3\\Lib\\site-packages\\requests\\sessions.py:703\u001b[0m, in \u001b[0;36mSession.send\u001b[1;34m(self, request, **kwargs)\u001b[0m\n\u001b[0;32m    700\u001b[0m start \u001b[38;5;241m=\u001b[39m preferred_clock()\n\u001b[0;32m    702\u001b[0m \u001b[38;5;66;03m# Send the request\u001b[39;00m\n\u001b[1;32m--> 703\u001b[0m r \u001b[38;5;241m=\u001b[39m adapter\u001b[38;5;241m.\u001b[39msend(request, \u001b[38;5;241m*\u001b[39m\u001b[38;5;241m*\u001b[39mkwargs)\n\u001b[0;32m    705\u001b[0m \u001b[38;5;66;03m# Total elapsed time of the request (approximately)\u001b[39;00m\n\u001b[0;32m    706\u001b[0m elapsed \u001b[38;5;241m=\u001b[39m preferred_clock() \u001b[38;5;241m-\u001b[39m start\n",
      "File \u001b[1;32mC:\\ProgramData\\anaconda3\\Lib\\site-packages\\requests\\adapters.py:682\u001b[0m, in \u001b[0;36mHTTPAdapter.send\u001b[1;34m(self, request, stream, timeout, verify, cert, proxies)\u001b[0m\n\u001b[0;32m    667\u001b[0m     resp \u001b[38;5;241m=\u001b[39m conn\u001b[38;5;241m.\u001b[39murlopen(\n\u001b[0;32m    668\u001b[0m         method\u001b[38;5;241m=\u001b[39mrequest\u001b[38;5;241m.\u001b[39mmethod,\n\u001b[0;32m    669\u001b[0m         url\u001b[38;5;241m=\u001b[39murl,\n\u001b[1;32m   (...)\u001b[0m\n\u001b[0;32m    678\u001b[0m         chunked\u001b[38;5;241m=\u001b[39mchunked,\n\u001b[0;32m    679\u001b[0m     )\n\u001b[0;32m    681\u001b[0m \u001b[38;5;28;01mexcept\u001b[39;00m (ProtocolError, \u001b[38;5;167;01mOSError\u001b[39;00m) \u001b[38;5;28;01mas\u001b[39;00m err:\n\u001b[1;32m--> 682\u001b[0m     \u001b[38;5;28;01mraise\u001b[39;00m \u001b[38;5;167;01mConnectionError\u001b[39;00m(err, request\u001b[38;5;241m=\u001b[39mrequest)\n\u001b[0;32m    684\u001b[0m \u001b[38;5;28;01mexcept\u001b[39;00m MaxRetryError \u001b[38;5;28;01mas\u001b[39;00m e:\n\u001b[0;32m    685\u001b[0m     \u001b[38;5;28;01mif\u001b[39;00m \u001b[38;5;28misinstance\u001b[39m(e\u001b[38;5;241m.\u001b[39mreason, ConnectTimeoutError):\n\u001b[0;32m    686\u001b[0m         \u001b[38;5;66;03m# TODO: Remove this in 3.0.0: see #2811\u001b[39;00m\n",
      "\u001b[1;31mConnectionError\u001b[0m: ('Connection aborted.', RemoteDisconnected('Remote end closed connection without response'))"
     ]
    }
   ],
   "source": [
    "#'11','12'\n",
    "for n in ['01','02','03','04','05','06','07','08','09','10']:\n",
    "    print(n)\n",
    "    downloading_price_setter_data('D:\\PRICESETTER2',2024, n)\n",
    "\n",
    "\n"
   ]
  },
  {
   "cell_type": "code",
   "execution_count": 47,
   "id": "7863a655",
   "metadata": {},
   "outputs": [
    {
     "name": "stderr",
     "output_type": "stream",
     "text": [
      "C:\\ProgramData\\anaconda3\\Lib\\site-packages\\urllib3\\connectionpool.py:1097: InsecureRequestWarning: Unverified HTTPS request is being made to host 'nemweb.com.au'. Adding certificate verification is strongly advised. See: https://urllib3.readthedocs.io/en/latest/advanced-usage.html#tls-warnings\n",
      "  warnings.warn(\n",
      "C:\\ProgramData\\anaconda3\\Lib\\site-packages\\urllib3\\connectionpool.py:1097: InsecureRequestWarning: Unverified HTTPS request is being made to host 'nemweb.com.au'. Adding certificate verification is strongly advised. See: https://urllib3.readthedocs.io/en/latest/advanced-usage.html#tls-warnings\n",
      "  warnings.warn(\n"
     ]
    },
    {
     "name": "stdout",
     "output_type": "stream",
     "text": [
      "https://nemweb.com.au/Data_Archive/Wholesale_Electricity/NEMDE/2024/NEMDE_2024_10/NEMDE_Market_Data/NEMDE_Files/NemPriceSetter_20241001_xml.zip\n",
      "'https://nemweb.com.au/Data_Archive/Wholesale_Electricity/NEMDE/2024/NEMDE_2024_10/NEMDE_Market_Data/NEMDE_Files/NemPriceSetter_20241001_xml.zip'e downloaded and contents extracted to 'D:\\PRICESETTER'\n",
      "https://nemweb.com.au/Data_Archive/Wholesale_Electricity/NEMDE/2024/NEMDE_2024_10/NEMDE_Market_Data/NEMDE_Files/NemPriceSetter_20241002_xml.zip\n"
     ]
    },
    {
     "name": "stderr",
     "output_type": "stream",
     "text": [
      "C:\\ProgramData\\anaconda3\\Lib\\site-packages\\urllib3\\connectionpool.py:1097: InsecureRequestWarning: Unverified HTTPS request is being made to host 'nemweb.com.au'. Adding certificate verification is strongly advised. See: https://urllib3.readthedocs.io/en/latest/advanced-usage.html#tls-warnings\n",
      "  warnings.warn(\n"
     ]
    },
    {
     "name": "stdout",
     "output_type": "stream",
     "text": [
      "'https://nemweb.com.au/Data_Archive/Wholesale_Electricity/NEMDE/2024/NEMDE_2024_10/NEMDE_Market_Data/NEMDE_Files/NemPriceSetter_20241002_xml.zip'e downloaded and contents extracted to 'D:\\PRICESETTER'\n",
      "https://nemweb.com.au/Data_Archive/Wholesale_Electricity/NEMDE/2024/NEMDE_2024_10/NEMDE_Market_Data/NEMDE_Files/NemPriceSetter_20241003_xml.zip\n"
     ]
    },
    {
     "name": "stderr",
     "output_type": "stream",
     "text": [
      "C:\\ProgramData\\anaconda3\\Lib\\site-packages\\urllib3\\connectionpool.py:1097: InsecureRequestWarning: Unverified HTTPS request is being made to host 'nemweb.com.au'. Adding certificate verification is strongly advised. See: https://urllib3.readthedocs.io/en/latest/advanced-usage.html#tls-warnings\n",
      "  warnings.warn(\n"
     ]
    },
    {
     "name": "stdout",
     "output_type": "stream",
     "text": [
      "'https://nemweb.com.au/Data_Archive/Wholesale_Electricity/NEMDE/2024/NEMDE_2024_10/NEMDE_Market_Data/NEMDE_Files/NemPriceSetter_20241003_xml.zip'e downloaded and contents extracted to 'D:\\PRICESETTER'\n",
      "https://nemweb.com.au/Data_Archive/Wholesale_Electricity/NEMDE/2024/NEMDE_2024_10/NEMDE_Market_Data/NEMDE_Files/NemPriceSetter_20241004_xml.zip\n"
     ]
    },
    {
     "name": "stderr",
     "output_type": "stream",
     "text": [
      "C:\\ProgramData\\anaconda3\\Lib\\site-packages\\urllib3\\connectionpool.py:1097: InsecureRequestWarning: Unverified HTTPS request is being made to host 'nemweb.com.au'. Adding certificate verification is strongly advised. See: https://urllib3.readthedocs.io/en/latest/advanced-usage.html#tls-warnings\n",
      "  warnings.warn(\n"
     ]
    },
    {
     "name": "stdout",
     "output_type": "stream",
     "text": [
      "'https://nemweb.com.au/Data_Archive/Wholesale_Electricity/NEMDE/2024/NEMDE_2024_10/NEMDE_Market_Data/NEMDE_Files/NemPriceSetter_20241004_xml.zip'e downloaded and contents extracted to 'D:\\PRICESETTER'\n",
      "https://nemweb.com.au/Data_Archive/Wholesale_Electricity/NEMDE/2024/NEMDE_2024_10/NEMDE_Market_Data/NEMDE_Files/NemPriceSetter_20241005_xml.zip\n"
     ]
    },
    {
     "name": "stderr",
     "output_type": "stream",
     "text": [
      "C:\\ProgramData\\anaconda3\\Lib\\site-packages\\urllib3\\connectionpool.py:1097: InsecureRequestWarning: Unverified HTTPS request is being made to host 'nemweb.com.au'. Adding certificate verification is strongly advised. See: https://urllib3.readthedocs.io/en/latest/advanced-usage.html#tls-warnings\n",
      "  warnings.warn(\n"
     ]
    },
    {
     "name": "stdout",
     "output_type": "stream",
     "text": [
      "'https://nemweb.com.au/Data_Archive/Wholesale_Electricity/NEMDE/2024/NEMDE_2024_10/NEMDE_Market_Data/NEMDE_Files/NemPriceSetter_20241005_xml.zip'e downloaded and contents extracted to 'D:\\PRICESETTER'\n",
      "https://nemweb.com.au/Data_Archive/Wholesale_Electricity/NEMDE/2024/NEMDE_2024_10/NEMDE_Market_Data/NEMDE_Files/NemPriceSetter_20241006_xml.zip\n"
     ]
    },
    {
     "name": "stderr",
     "output_type": "stream",
     "text": [
      "C:\\ProgramData\\anaconda3\\Lib\\site-packages\\urllib3\\connectionpool.py:1097: InsecureRequestWarning: Unverified HTTPS request is being made to host 'nemweb.com.au'. Adding certificate verification is strongly advised. See: https://urllib3.readthedocs.io/en/latest/advanced-usage.html#tls-warnings\n",
      "  warnings.warn(\n"
     ]
    },
    {
     "name": "stdout",
     "output_type": "stream",
     "text": [
      "'https://nemweb.com.au/Data_Archive/Wholesale_Electricity/NEMDE/2024/NEMDE_2024_10/NEMDE_Market_Data/NEMDE_Files/NemPriceSetter_20241006_xml.zip'e downloaded and contents extracted to 'D:\\PRICESETTER'\n",
      "https://nemweb.com.au/Data_Archive/Wholesale_Electricity/NEMDE/2024/NEMDE_2024_10/NEMDE_Market_Data/NEMDE_Files/NemPriceSetter_20241007_xml.zip\n"
     ]
    },
    {
     "name": "stderr",
     "output_type": "stream",
     "text": [
      "C:\\ProgramData\\anaconda3\\Lib\\site-packages\\urllib3\\connectionpool.py:1097: InsecureRequestWarning: Unverified HTTPS request is being made to host 'nemweb.com.au'. Adding certificate verification is strongly advised. See: https://urllib3.readthedocs.io/en/latest/advanced-usage.html#tls-warnings\n",
      "  warnings.warn(\n"
     ]
    },
    {
     "name": "stdout",
     "output_type": "stream",
     "text": [
      "'https://nemweb.com.au/Data_Archive/Wholesale_Electricity/NEMDE/2024/NEMDE_2024_10/NEMDE_Market_Data/NEMDE_Files/NemPriceSetter_20241007_xml.zip'e downloaded and contents extracted to 'D:\\PRICESETTER'\n",
      "https://nemweb.com.au/Data_Archive/Wholesale_Electricity/NEMDE/2024/NEMDE_2024_10/NEMDE_Market_Data/NEMDE_Files/NemPriceSetter_20241008_xml.zip\n"
     ]
    },
    {
     "name": "stderr",
     "output_type": "stream",
     "text": [
      "C:\\ProgramData\\anaconda3\\Lib\\site-packages\\urllib3\\connectionpool.py:1097: InsecureRequestWarning: Unverified HTTPS request is being made to host 'nemweb.com.au'. Adding certificate verification is strongly advised. See: https://urllib3.readthedocs.io/en/latest/advanced-usage.html#tls-warnings\n",
      "  warnings.warn(\n"
     ]
    },
    {
     "name": "stdout",
     "output_type": "stream",
     "text": [
      "'https://nemweb.com.au/Data_Archive/Wholesale_Electricity/NEMDE/2024/NEMDE_2024_10/NEMDE_Market_Data/NEMDE_Files/NemPriceSetter_20241008_xml.zip'e downloaded and contents extracted to 'D:\\PRICESETTER'\n",
      "https://nemweb.com.au/Data_Archive/Wholesale_Electricity/NEMDE/2024/NEMDE_2024_10/NEMDE_Market_Data/NEMDE_Files/NemPriceSetter_20241009_xml.zip\n"
     ]
    },
    {
     "name": "stderr",
     "output_type": "stream",
     "text": [
      "C:\\ProgramData\\anaconda3\\Lib\\site-packages\\urllib3\\connectionpool.py:1097: InsecureRequestWarning: Unverified HTTPS request is being made to host 'nemweb.com.au'. Adding certificate verification is strongly advised. See: https://urllib3.readthedocs.io/en/latest/advanced-usage.html#tls-warnings\n",
      "  warnings.warn(\n"
     ]
    },
    {
     "name": "stdout",
     "output_type": "stream",
     "text": [
      "'https://nemweb.com.au/Data_Archive/Wholesale_Electricity/NEMDE/2024/NEMDE_2024_10/NEMDE_Market_Data/NEMDE_Files/NemPriceSetter_20241009_xml.zip'e downloaded and contents extracted to 'D:\\PRICESETTER'\n",
      "https://nemweb.com.au/Data_Archive/Wholesale_Electricity/NEMDE/2024/NEMDE_2024_10/NEMDE_Market_Data/NEMDE_Files/NemPriceSetter_20241010_xml.zip\n"
     ]
    },
    {
     "name": "stderr",
     "output_type": "stream",
     "text": [
      "C:\\ProgramData\\anaconda3\\Lib\\site-packages\\urllib3\\connectionpool.py:1097: InsecureRequestWarning: Unverified HTTPS request is being made to host 'nemweb.com.au'. Adding certificate verification is strongly advised. See: https://urllib3.readthedocs.io/en/latest/advanced-usage.html#tls-warnings\n",
      "  warnings.warn(\n"
     ]
    },
    {
     "name": "stdout",
     "output_type": "stream",
     "text": [
      "'https://nemweb.com.au/Data_Archive/Wholesale_Electricity/NEMDE/2024/NEMDE_2024_10/NEMDE_Market_Data/NEMDE_Files/NemPriceSetter_20241010_xml.zip'e downloaded and contents extracted to 'D:\\PRICESETTER'\n",
      "https://nemweb.com.au/Data_Archive/Wholesale_Electricity/NEMDE/2024/NEMDE_2024_10/NEMDE_Market_Data/NEMDE_Files/NemPriceSetter_20241011_xml.zip\n"
     ]
    },
    {
     "name": "stderr",
     "output_type": "stream",
     "text": [
      "C:\\ProgramData\\anaconda3\\Lib\\site-packages\\urllib3\\connectionpool.py:1097: InsecureRequestWarning: Unverified HTTPS request is being made to host 'nemweb.com.au'. Adding certificate verification is strongly advised. See: https://urllib3.readthedocs.io/en/latest/advanced-usage.html#tls-warnings\n",
      "  warnings.warn(\n"
     ]
    },
    {
     "name": "stdout",
     "output_type": "stream",
     "text": [
      "'https://nemweb.com.au/Data_Archive/Wholesale_Electricity/NEMDE/2024/NEMDE_2024_10/NEMDE_Market_Data/NEMDE_Files/NemPriceSetter_20241011_xml.zip'e downloaded and contents extracted to 'D:\\PRICESETTER'\n",
      "https://nemweb.com.au/Data_Archive/Wholesale_Electricity/NEMDE/2024/NEMDE_2024_10/NEMDE_Market_Data/NEMDE_Files/NemPriceSetter_20241012_xml.zip\n"
     ]
    },
    {
     "name": "stderr",
     "output_type": "stream",
     "text": [
      "C:\\ProgramData\\anaconda3\\Lib\\site-packages\\urllib3\\connectionpool.py:1097: InsecureRequestWarning: Unverified HTTPS request is being made to host 'nemweb.com.au'. Adding certificate verification is strongly advised. See: https://urllib3.readthedocs.io/en/latest/advanced-usage.html#tls-warnings\n",
      "  warnings.warn(\n"
     ]
    },
    {
     "name": "stdout",
     "output_type": "stream",
     "text": [
      "'https://nemweb.com.au/Data_Archive/Wholesale_Electricity/NEMDE/2024/NEMDE_2024_10/NEMDE_Market_Data/NEMDE_Files/NemPriceSetter_20241012_xml.zip'e downloaded and contents extracted to 'D:\\PRICESETTER'\n",
      "https://nemweb.com.au/Data_Archive/Wholesale_Electricity/NEMDE/2024/NEMDE_2024_10/NEMDE_Market_Data/NEMDE_Files/NemPriceSetter_20241013_xml.zip\n"
     ]
    },
    {
     "name": "stderr",
     "output_type": "stream",
     "text": [
      "C:\\ProgramData\\anaconda3\\Lib\\site-packages\\urllib3\\connectionpool.py:1097: InsecureRequestWarning: Unverified HTTPS request is being made to host 'nemweb.com.au'. Adding certificate verification is strongly advised. See: https://urllib3.readthedocs.io/en/latest/advanced-usage.html#tls-warnings\n",
      "  warnings.warn(\n"
     ]
    },
    {
     "name": "stdout",
     "output_type": "stream",
     "text": [
      "'https://nemweb.com.au/Data_Archive/Wholesale_Electricity/NEMDE/2024/NEMDE_2024_10/NEMDE_Market_Data/NEMDE_Files/NemPriceSetter_20241013_xml.zip'e downloaded and contents extracted to 'D:\\PRICESETTER'\n",
      "https://nemweb.com.au/Data_Archive/Wholesale_Electricity/NEMDE/2024/NEMDE_2024_10/NEMDE_Market_Data/NEMDE_Files/NemPriceSetter_20241014_xml.zip\n"
     ]
    },
    {
     "name": "stderr",
     "output_type": "stream",
     "text": [
      "C:\\ProgramData\\anaconda3\\Lib\\site-packages\\urllib3\\connectionpool.py:1097: InsecureRequestWarning: Unverified HTTPS request is being made to host 'nemweb.com.au'. Adding certificate verification is strongly advised. See: https://urllib3.readthedocs.io/en/latest/advanced-usage.html#tls-warnings\n",
      "  warnings.warn(\n"
     ]
    },
    {
     "name": "stdout",
     "output_type": "stream",
     "text": [
      "'https://nemweb.com.au/Data_Archive/Wholesale_Electricity/NEMDE/2024/NEMDE_2024_10/NEMDE_Market_Data/NEMDE_Files/NemPriceSetter_20241014_xml.zip'e downloaded and contents extracted to 'D:\\PRICESETTER'\n",
      "https://nemweb.com.au/Data_Archive/Wholesale_Electricity/NEMDE/2024/NEMDE_2024_10/NEMDE_Market_Data/NEMDE_Files/NemPriceSetter_20241015_xml.zip\n"
     ]
    },
    {
     "name": "stderr",
     "output_type": "stream",
     "text": [
      "C:\\ProgramData\\anaconda3\\Lib\\site-packages\\urllib3\\connectionpool.py:1097: InsecureRequestWarning: Unverified HTTPS request is being made to host 'nemweb.com.au'. Adding certificate verification is strongly advised. See: https://urllib3.readthedocs.io/en/latest/advanced-usage.html#tls-warnings\n",
      "  warnings.warn(\n"
     ]
    },
    {
     "name": "stdout",
     "output_type": "stream",
     "text": [
      "'https://nemweb.com.au/Data_Archive/Wholesale_Electricity/NEMDE/2024/NEMDE_2024_10/NEMDE_Market_Data/NEMDE_Files/NemPriceSetter_20241015_xml.zip'e downloaded and contents extracted to 'D:\\PRICESETTER'\n",
      "https://nemweb.com.au/Data_Archive/Wholesale_Electricity/NEMDE/2024/NEMDE_2024_10/NEMDE_Market_Data/NEMDE_Files/NemPriceSetter_20241016_xml.zip\n"
     ]
    },
    {
     "name": "stderr",
     "output_type": "stream",
     "text": [
      "C:\\ProgramData\\anaconda3\\Lib\\site-packages\\urllib3\\connectionpool.py:1097: InsecureRequestWarning: Unverified HTTPS request is being made to host 'nemweb.com.au'. Adding certificate verification is strongly advised. See: https://urllib3.readthedocs.io/en/latest/advanced-usage.html#tls-warnings\n",
      "  warnings.warn(\n"
     ]
    },
    {
     "name": "stdout",
     "output_type": "stream",
     "text": [
      "'https://nemweb.com.au/Data_Archive/Wholesale_Electricity/NEMDE/2024/NEMDE_2024_10/NEMDE_Market_Data/NEMDE_Files/NemPriceSetter_20241016_xml.zip'e downloaded and contents extracted to 'D:\\PRICESETTER'\n",
      "https://nemweb.com.au/Data_Archive/Wholesale_Electricity/NEMDE/2024/NEMDE_2024_10/NEMDE_Market_Data/NEMDE_Files/NemPriceSetter_20241017_xml.zip\n"
     ]
    },
    {
     "name": "stderr",
     "output_type": "stream",
     "text": [
      "C:\\ProgramData\\anaconda3\\Lib\\site-packages\\urllib3\\connectionpool.py:1097: InsecureRequestWarning: Unverified HTTPS request is being made to host 'nemweb.com.au'. Adding certificate verification is strongly advised. See: https://urllib3.readthedocs.io/en/latest/advanced-usage.html#tls-warnings\n",
      "  warnings.warn(\n"
     ]
    },
    {
     "name": "stdout",
     "output_type": "stream",
     "text": [
      "'https://nemweb.com.au/Data_Archive/Wholesale_Electricity/NEMDE/2024/NEMDE_2024_10/NEMDE_Market_Data/NEMDE_Files/NemPriceSetter_20241017_xml.zip'e downloaded and contents extracted to 'D:\\PRICESETTER'\n",
      "https://nemweb.com.au/Data_Archive/Wholesale_Electricity/NEMDE/2024/NEMDE_2024_10/NEMDE_Market_Data/NEMDE_Files/NemPriceSetter_20241018_xml.zip\n"
     ]
    },
    {
     "name": "stderr",
     "output_type": "stream",
     "text": [
      "C:\\ProgramData\\anaconda3\\Lib\\site-packages\\urllib3\\connectionpool.py:1097: InsecureRequestWarning: Unverified HTTPS request is being made to host 'nemweb.com.au'. Adding certificate verification is strongly advised. See: https://urllib3.readthedocs.io/en/latest/advanced-usage.html#tls-warnings\n",
      "  warnings.warn(\n"
     ]
    },
    {
     "name": "stdout",
     "output_type": "stream",
     "text": [
      "'https://nemweb.com.au/Data_Archive/Wholesale_Electricity/NEMDE/2024/NEMDE_2024_10/NEMDE_Market_Data/NEMDE_Files/NemPriceSetter_20241018_xml.zip'e downloaded and contents extracted to 'D:\\PRICESETTER'\n",
      "https://nemweb.com.au/Data_Archive/Wholesale_Electricity/NEMDE/2024/NEMDE_2024_10/NEMDE_Market_Data/NEMDE_Files/NemPriceSetter_20241019_xml.zip\n"
     ]
    },
    {
     "name": "stderr",
     "output_type": "stream",
     "text": [
      "C:\\ProgramData\\anaconda3\\Lib\\site-packages\\urllib3\\connectionpool.py:1097: InsecureRequestWarning: Unverified HTTPS request is being made to host 'nemweb.com.au'. Adding certificate verification is strongly advised. See: https://urllib3.readthedocs.io/en/latest/advanced-usage.html#tls-warnings\n",
      "  warnings.warn(\n"
     ]
    },
    {
     "name": "stdout",
     "output_type": "stream",
     "text": [
      "'https://nemweb.com.au/Data_Archive/Wholesale_Electricity/NEMDE/2024/NEMDE_2024_10/NEMDE_Market_Data/NEMDE_Files/NemPriceSetter_20241019_xml.zip'e downloaded and contents extracted to 'D:\\PRICESETTER'\n",
      "https://nemweb.com.au/Data_Archive/Wholesale_Electricity/NEMDE/2024/NEMDE_2024_10/NEMDE_Market_Data/NEMDE_Files/NemPriceSetter_20241020_xml.zip\n"
     ]
    },
    {
     "name": "stderr",
     "output_type": "stream",
     "text": [
      "C:\\ProgramData\\anaconda3\\Lib\\site-packages\\urllib3\\connectionpool.py:1097: InsecureRequestWarning: Unverified HTTPS request is being made to host 'nemweb.com.au'. Adding certificate verification is strongly advised. See: https://urllib3.readthedocs.io/en/latest/advanced-usage.html#tls-warnings\n",
      "  warnings.warn(\n"
     ]
    },
    {
     "name": "stdout",
     "output_type": "stream",
     "text": [
      "'https://nemweb.com.au/Data_Archive/Wholesale_Electricity/NEMDE/2024/NEMDE_2024_10/NEMDE_Market_Data/NEMDE_Files/NemPriceSetter_20241020_xml.zip'e downloaded and contents extracted to 'D:\\PRICESETTER'\n",
      "https://nemweb.com.au/Data_Archive/Wholesale_Electricity/NEMDE/2024/NEMDE_2024_10/NEMDE_Market_Data/NEMDE_Files/NemPriceSetter_20241021_xml.zip\n"
     ]
    },
    {
     "name": "stderr",
     "output_type": "stream",
     "text": [
      "C:\\ProgramData\\anaconda3\\Lib\\site-packages\\urllib3\\connectionpool.py:1097: InsecureRequestWarning: Unverified HTTPS request is being made to host 'nemweb.com.au'. Adding certificate verification is strongly advised. See: https://urllib3.readthedocs.io/en/latest/advanced-usage.html#tls-warnings\n",
      "  warnings.warn(\n"
     ]
    },
    {
     "name": "stdout",
     "output_type": "stream",
     "text": [
      "'https://nemweb.com.au/Data_Archive/Wholesale_Electricity/NEMDE/2024/NEMDE_2024_10/NEMDE_Market_Data/NEMDE_Files/NemPriceSetter_20241021_xml.zip'e downloaded and contents extracted to 'D:\\PRICESETTER'\n",
      "https://nemweb.com.au/Data_Archive/Wholesale_Electricity/NEMDE/2024/NEMDE_2024_10/NEMDE_Market_Data/NEMDE_Files/NemPriceSetter_20241022_xml.zip\n"
     ]
    },
    {
     "name": "stderr",
     "output_type": "stream",
     "text": [
      "C:\\ProgramData\\anaconda3\\Lib\\site-packages\\urllib3\\connectionpool.py:1097: InsecureRequestWarning: Unverified HTTPS request is being made to host 'nemweb.com.au'. Adding certificate verification is strongly advised. See: https://urllib3.readthedocs.io/en/latest/advanced-usage.html#tls-warnings\n",
      "  warnings.warn(\n"
     ]
    },
    {
     "name": "stdout",
     "output_type": "stream",
     "text": [
      "'https://nemweb.com.au/Data_Archive/Wholesale_Electricity/NEMDE/2024/NEMDE_2024_10/NEMDE_Market_Data/NEMDE_Files/NemPriceSetter_20241022_xml.zip'e downloaded and contents extracted to 'D:\\PRICESETTER'\n",
      "https://nemweb.com.au/Data_Archive/Wholesale_Electricity/NEMDE/2024/NEMDE_2024_10/NEMDE_Market_Data/NEMDE_Files/NemPriceSetter_20241023_xml.zip\n"
     ]
    },
    {
     "name": "stderr",
     "output_type": "stream",
     "text": [
      "C:\\ProgramData\\anaconda3\\Lib\\site-packages\\urllib3\\connectionpool.py:1097: InsecureRequestWarning: Unverified HTTPS request is being made to host 'nemweb.com.au'. Adding certificate verification is strongly advised. See: https://urllib3.readthedocs.io/en/latest/advanced-usage.html#tls-warnings\n",
      "  warnings.warn(\n"
     ]
    },
    {
     "name": "stdout",
     "output_type": "stream",
     "text": [
      "'https://nemweb.com.au/Data_Archive/Wholesale_Electricity/NEMDE/2024/NEMDE_2024_10/NEMDE_Market_Data/NEMDE_Files/NemPriceSetter_20241023_xml.zip'e downloaded and contents extracted to 'D:\\PRICESETTER'\n",
      "https://nemweb.com.au/Data_Archive/Wholesale_Electricity/NEMDE/2024/NEMDE_2024_10/NEMDE_Market_Data/NEMDE_Files/NemPriceSetter_20241024_xml.zip\n"
     ]
    },
    {
     "name": "stderr",
     "output_type": "stream",
     "text": [
      "C:\\ProgramData\\anaconda3\\Lib\\site-packages\\urllib3\\connectionpool.py:1097: InsecureRequestWarning: Unverified HTTPS request is being made to host 'nemweb.com.au'. Adding certificate verification is strongly advised. See: https://urllib3.readthedocs.io/en/latest/advanced-usage.html#tls-warnings\n",
      "  warnings.warn(\n"
     ]
    },
    {
     "name": "stdout",
     "output_type": "stream",
     "text": [
      "'https://nemweb.com.au/Data_Archive/Wholesale_Electricity/NEMDE/2024/NEMDE_2024_10/NEMDE_Market_Data/NEMDE_Files/NemPriceSetter_20241024_xml.zip'e downloaded and contents extracted to 'D:\\PRICESETTER'\n",
      "https://nemweb.com.au/Data_Archive/Wholesale_Electricity/NEMDE/2024/NEMDE_2024_10/NEMDE_Market_Data/NEMDE_Files/NemPriceSetter_20241025_xml.zip\n"
     ]
    },
    {
     "name": "stderr",
     "output_type": "stream",
     "text": [
      "C:\\ProgramData\\anaconda3\\Lib\\site-packages\\urllib3\\connectionpool.py:1097: InsecureRequestWarning: Unverified HTTPS request is being made to host 'nemweb.com.au'. Adding certificate verification is strongly advised. See: https://urllib3.readthedocs.io/en/latest/advanced-usage.html#tls-warnings\n",
      "  warnings.warn(\n"
     ]
    },
    {
     "name": "stdout",
     "output_type": "stream",
     "text": [
      "'https://nemweb.com.au/Data_Archive/Wholesale_Electricity/NEMDE/2024/NEMDE_2024_10/NEMDE_Market_Data/NEMDE_Files/NemPriceSetter_20241025_xml.zip'e downloaded and contents extracted to 'D:\\PRICESETTER'\n",
      "https://nemweb.com.au/Data_Archive/Wholesale_Electricity/NEMDE/2024/NEMDE_2024_10/NEMDE_Market_Data/NEMDE_Files/NemPriceSetter_20241026_xml.zip\n"
     ]
    },
    {
     "name": "stderr",
     "output_type": "stream",
     "text": [
      "C:\\ProgramData\\anaconda3\\Lib\\site-packages\\urllib3\\connectionpool.py:1097: InsecureRequestWarning: Unverified HTTPS request is being made to host 'nemweb.com.au'. Adding certificate verification is strongly advised. See: https://urllib3.readthedocs.io/en/latest/advanced-usage.html#tls-warnings\n",
      "  warnings.warn(\n"
     ]
    },
    {
     "name": "stdout",
     "output_type": "stream",
     "text": [
      "'https://nemweb.com.au/Data_Archive/Wholesale_Electricity/NEMDE/2024/NEMDE_2024_10/NEMDE_Market_Data/NEMDE_Files/NemPriceSetter_20241026_xml.zip'e downloaded and contents extracted to 'D:\\PRICESETTER'\n",
      "https://nemweb.com.au/Data_Archive/Wholesale_Electricity/NEMDE/2024/NEMDE_2024_10/NEMDE_Market_Data/NEMDE_Files/NemPriceSetter_20241027_xml.zip\n"
     ]
    },
    {
     "name": "stderr",
     "output_type": "stream",
     "text": [
      "C:\\ProgramData\\anaconda3\\Lib\\site-packages\\urllib3\\connectionpool.py:1097: InsecureRequestWarning: Unverified HTTPS request is being made to host 'nemweb.com.au'. Adding certificate verification is strongly advised. See: https://urllib3.readthedocs.io/en/latest/advanced-usage.html#tls-warnings\n",
      "  warnings.warn(\n"
     ]
    },
    {
     "name": "stdout",
     "output_type": "stream",
     "text": [
      "'https://nemweb.com.au/Data_Archive/Wholesale_Electricity/NEMDE/2024/NEMDE_2024_10/NEMDE_Market_Data/NEMDE_Files/NemPriceSetter_20241027_xml.zip'e downloaded and contents extracted to 'D:\\PRICESETTER'\n",
      "https://nemweb.com.au/Data_Archive/Wholesale_Electricity/NEMDE/2024/NEMDE_2024_10/NEMDE_Market_Data/NEMDE_Files/NemPriceSetter_20241028_xml.zip\n"
     ]
    },
    {
     "name": "stderr",
     "output_type": "stream",
     "text": [
      "C:\\ProgramData\\anaconda3\\Lib\\site-packages\\urllib3\\connectionpool.py:1097: InsecureRequestWarning: Unverified HTTPS request is being made to host 'nemweb.com.au'. Adding certificate verification is strongly advised. See: https://urllib3.readthedocs.io/en/latest/advanced-usage.html#tls-warnings\n",
      "  warnings.warn(\n"
     ]
    },
    {
     "name": "stdout",
     "output_type": "stream",
     "text": [
      "'https://nemweb.com.au/Data_Archive/Wholesale_Electricity/NEMDE/2024/NEMDE_2024_10/NEMDE_Market_Data/NEMDE_Files/NemPriceSetter_20241028_xml.zip'e downloaded and contents extracted to 'D:\\PRICESETTER'\n",
      "https://nemweb.com.au/Data_Archive/Wholesale_Electricity/NEMDE/2024/NEMDE_2024_10/NEMDE_Market_Data/NEMDE_Files/NemPriceSetter_20241029_xml.zip\n"
     ]
    },
    {
     "name": "stderr",
     "output_type": "stream",
     "text": [
      "C:\\ProgramData\\anaconda3\\Lib\\site-packages\\urllib3\\connectionpool.py:1097: InsecureRequestWarning: Unverified HTTPS request is being made to host 'nemweb.com.au'. Adding certificate verification is strongly advised. See: https://urllib3.readthedocs.io/en/latest/advanced-usage.html#tls-warnings\n",
      "  warnings.warn(\n"
     ]
    },
    {
     "name": "stdout",
     "output_type": "stream",
     "text": [
      "'https://nemweb.com.au/Data_Archive/Wholesale_Electricity/NEMDE/2024/NEMDE_2024_10/NEMDE_Market_Data/NEMDE_Files/NemPriceSetter_20241029_xml.zip'e downloaded and contents extracted to 'D:\\PRICESETTER'\n",
      "https://nemweb.com.au/Data_Archive/Wholesale_Electricity/NEMDE/2024/NEMDE_2024_10/NEMDE_Market_Data/NEMDE_Files/NemPriceSetter_20241030_xml.zip\n"
     ]
    },
    {
     "name": "stderr",
     "output_type": "stream",
     "text": [
      "C:\\ProgramData\\anaconda3\\Lib\\site-packages\\urllib3\\connectionpool.py:1097: InsecureRequestWarning: Unverified HTTPS request is being made to host 'nemweb.com.au'. Adding certificate verification is strongly advised. See: https://urllib3.readthedocs.io/en/latest/advanced-usage.html#tls-warnings\n",
      "  warnings.warn(\n"
     ]
    },
    {
     "name": "stdout",
     "output_type": "stream",
     "text": [
      "'https://nemweb.com.au/Data_Archive/Wholesale_Electricity/NEMDE/2024/NEMDE_2024_10/NEMDE_Market_Data/NEMDE_Files/NemPriceSetter_20241030_xml.zip'e downloaded and contents extracted to 'D:\\PRICESETTER'\n",
      "https://nemweb.com.au/Data_Archive/Wholesale_Electricity/NEMDE/2024/NEMDE_2024_10/NEMDE_Market_Data/NEMDE_Files/NemPriceSetter_20241031_xml.zip\n"
     ]
    },
    {
     "name": "stderr",
     "output_type": "stream",
     "text": [
      "C:\\ProgramData\\anaconda3\\Lib\\site-packages\\urllib3\\connectionpool.py:1097: InsecureRequestWarning: Unverified HTTPS request is being made to host 'nemweb.com.au'. Adding certificate verification is strongly advised. See: https://urllib3.readthedocs.io/en/latest/advanced-usage.html#tls-warnings\n",
      "  warnings.warn(\n"
     ]
    },
    {
     "name": "stdout",
     "output_type": "stream",
     "text": [
      "'https://nemweb.com.au/Data_Archive/Wholesale_Electricity/NEMDE/2024/NEMDE_2024_10/NEMDE_Market_Data/NEMDE_Files/NemPriceSetter_20241031_xml.zip'e downloaded and contents extracted to 'D:\\PRICESETTER'\n"
     ]
    }
   ],
   "source": [
    "downloading_price_setter_data('D:\\PRICESETTER2',2024, 10)"
   ]
  },
  {
   "cell_type": "code",
   "execution_count": 3,
   "id": "cffeebe5-90ac-4336-b9b6-14c98134133a",
   "metadata": {},
   "outputs": [],
   "source": [
    "u='https://nemweb.com.au/Reports/Archive/Short_Term_PASA_Reports/'"
   ]
  },
  {
   "cell_type": "code",
   "execution_count": 4,
   "id": "3bc670fc",
   "metadata": {
    "scrolled": true
   },
   "outputs": [
    {
     "name": "stdout",
     "output_type": "stream",
     "text": [
      "/Reports/Archive/ROOFTOP_PV/\n",
      "/Reports/Archive/ROOFTOP_PV/ACTUAL/PUBLIC_ROOFTOP_PV_ACTUAL_MEASUREMENT_20240613.zip\n",
      "/Reports/Archive/ROOFTOP_PV/ACTUAL/PUBLIC_ROOFTOP_PV_ACTUAL_MEASUREMENT_20240620.zip\n",
      "/Reports/Archive/ROOFTOP_PV/ACTUAL/PUBLIC_ROOFTOP_PV_ACTUAL_MEASUREMENT_20240627.zip\n",
      "/Reports/Archive/ROOFTOP_PV/ACTUAL/PUBLIC_ROOFTOP_PV_ACTUAL_MEASUREMENT_20240704.zip\n",
      "/Reports/Archive/ROOFTOP_PV/ACTUAL/PUBLIC_ROOFTOP_PV_ACTUAL_MEASUREMENT_20240711.zip\n",
      "/Reports/Archive/ROOFTOP_PV/ACTUAL/PUBLIC_ROOFTOP_PV_ACTUAL_MEASUREMENT_20240718.zip\n",
      "/Reports/Archive/ROOFTOP_PV/ACTUAL/PUBLIC_ROOFTOP_PV_ACTUAL_MEASUREMENT_20240725.zip\n",
      "/Reports/Archive/ROOFTOP_PV/ACTUAL/PUBLIC_ROOFTOP_PV_ACTUAL_MEASUREMENT_20240801.zip\n",
      "/Reports/Archive/ROOFTOP_PV/ACTUAL/PUBLIC_ROOFTOP_PV_ACTUAL_MEASUREMENT_20240808.zip\n",
      "/Reports/Archive/ROOFTOP_PV/ACTUAL/PUBLIC_ROOFTOP_PV_ACTUAL_MEASUREMENT_20240815.zip\n",
      "/Reports/Archive/ROOFTOP_PV/ACTUAL/PUBLIC_ROOFTOP_PV_ACTUAL_MEASUREMENT_20240822.zip\n",
      "/Reports/Archive/ROOFTOP_PV/ACTUAL/PUBLIC_ROOFTOP_PV_ACTUAL_MEASUREMENT_20240829.zip\n",
      "/Reports/Archive/ROOFTOP_PV/ACTUAL/PUBLIC_ROOFTOP_PV_ACTUAL_MEASUREMENT_20240905.zip\n",
      "/Reports/Archive/ROOFTOP_PV/ACTUAL/PUBLIC_ROOFTOP_PV_ACTUAL_MEASUREMENT_20240912.zip\n",
      "/Reports/Archive/ROOFTOP_PV/ACTUAL/PUBLIC_ROOFTOP_PV_ACTUAL_MEASUREMENT_20240919.zip\n",
      "/Reports/Archive/ROOFTOP_PV/ACTUAL/PUBLIC_ROOFTOP_PV_ACTUAL_MEASUREMENT_20240926.zip\n",
      "/Reports/Archive/ROOFTOP_PV/ACTUAL/PUBLIC_ROOFTOP_PV_ACTUAL_MEASUREMENT_20241003.zip\n",
      "/Reports/Archive/ROOFTOP_PV/ACTUAL/PUBLIC_ROOFTOP_PV_ACTUAL_MEASUREMENT_20241010.zip\n",
      "/Reports/Archive/ROOFTOP_PV/ACTUAL/PUBLIC_ROOFTOP_PV_ACTUAL_MEASUREMENT_20241017.zip\n",
      "/Reports/Archive/ROOFTOP_PV/ACTUAL/PUBLIC_ROOFTOP_PV_ACTUAL_MEASUREMENT_20241024.zip\n",
      "/Reports/Archive/ROOFTOP_PV/ACTUAL/PUBLIC_ROOFTOP_PV_ACTUAL_MEASUREMENT_20241031.zip\n",
      "/Reports/Archive/ROOFTOP_PV/ACTUAL/PUBLIC_ROOFTOP_PV_ACTUAL_MEASUREMENT_20241107.zip\n",
      "/Reports/Archive/ROOFTOP_PV/ACTUAL/PUBLIC_ROOFTOP_PV_ACTUAL_MEASUREMENT_20241114.zip\n",
      "/Reports/Archive/ROOFTOP_PV/ACTUAL/PUBLIC_ROOFTOP_PV_ACTUAL_MEASUREMENT_20241121.zip\n",
      "/Reports/Archive/ROOFTOP_PV/ACTUAL/PUBLIC_ROOFTOP_PV_ACTUAL_MEASUREMENT_20241128.zip\n",
      "/Reports/Archive/ROOFTOP_PV/ACTUAL/PUBLIC_ROOFTOP_PV_ACTUAL_MEASUREMENT_20241205.zip\n",
      "/Reports/Archive/ROOFTOP_PV/ACTUAL/PUBLIC_ROOFTOP_PV_ACTUAL_MEASUREMENT_20241212.zip\n",
      "/Reports/Archive/ROOFTOP_PV/ACTUAL/PUBLIC_ROOFTOP_PV_ACTUAL_MEASUREMENT_20241219.zip\n",
      "/Reports/Archive/ROOFTOP_PV/ACTUAL/PUBLIC_ROOFTOP_PV_ACTUAL_MEASUREMENT_20241226.zip\n",
      "/Reports/Archive/ROOFTOP_PV/ACTUAL/PUBLIC_ROOFTOP_PV_ACTUAL_MEASUREMENT_20250102.zip\n",
      "/Reports/Archive/ROOFTOP_PV/ACTUAL/PUBLIC_ROOFTOP_PV_ACTUAL_MEASUREMENT_20250109.zip\n",
      "/Reports/Archive/ROOFTOP_PV/ACTUAL/PUBLIC_ROOFTOP_PV_ACTUAL_MEASUREMENT_20250116.zip\n",
      "/Reports/Archive/ROOFTOP_PV/ACTUAL/PUBLIC_ROOFTOP_PV_ACTUAL_MEASUREMENT_20250123.zip\n",
      "/Reports/Archive/ROOFTOP_PV/ACTUAL/PUBLIC_ROOFTOP_PV_ACTUAL_MEASUREMENT_20250130.zip\n",
      "/Reports/Archive/ROOFTOP_PV/ACTUAL/PUBLIC_ROOFTOP_PV_ACTUAL_MEASUREMENT_20250206.zip\n",
      "/Reports/Archive/ROOFTOP_PV/ACTUAL/PUBLIC_ROOFTOP_PV_ACTUAL_MEASUREMENT_20250213.zip\n",
      "/Reports/Archive/ROOFTOP_PV/ACTUAL/PUBLIC_ROOFTOP_PV_ACTUAL_MEASUREMENT_20250220.zip\n",
      "/Reports/Archive/ROOFTOP_PV/ACTUAL/PUBLIC_ROOFTOP_PV_ACTUAL_MEASUREMENT_20250227.zip\n",
      "/Reports/Archive/ROOFTOP_PV/ACTUAL/PUBLIC_ROOFTOP_PV_ACTUAL_MEASUREMENT_20250306.zip\n",
      "/Reports/Archive/ROOFTOP_PV/ACTUAL/PUBLIC_ROOFTOP_PV_ACTUAL_MEASUREMENT_20250313.zip\n",
      "/Reports/Archive/ROOFTOP_PV/ACTUAL/PUBLIC_ROOFTOP_PV_ACTUAL_MEASUREMENT_20250320.zip\n",
      "/Reports/Archive/ROOFTOP_PV/ACTUAL/PUBLIC_ROOFTOP_PV_ACTUAL_MEASUREMENT_20250327.zip\n",
      "/Reports/Archive/ROOFTOP_PV/ACTUAL/PUBLIC_ROOFTOP_PV_ACTUAL_MEASUREMENT_20250403.zip\n",
      "/Reports/Archive/ROOFTOP_PV/ACTUAL/PUBLIC_ROOFTOP_PV_ACTUAL_MEASUREMENT_20250410.zip\n",
      "/Reports/Archive/ROOFTOP_PV/ACTUAL/PUBLIC_ROOFTOP_PV_ACTUAL_MEASUREMENT_20250417.zip\n",
      "/Reports/Archive/ROOFTOP_PV/ACTUAL/PUBLIC_ROOFTOP_PV_ACTUAL_MEASUREMENT_20250424.zip\n",
      "/Reports/Archive/ROOFTOP_PV/ACTUAL/PUBLIC_ROOFTOP_PV_ACTUAL_MEASUREMENT_20250501.zip\n",
      "/Reports/Archive/ROOFTOP_PV/ACTUAL/PUBLIC_ROOFTOP_PV_ACTUAL_MEASUREMENT_20250508.zip\n",
      "/Reports/Archive/ROOFTOP_PV/ACTUAL/PUBLIC_ROOFTOP_PV_ACTUAL_MEASUREMENT_20250515.zip\n",
      "/Reports/Archive/ROOFTOP_PV/ACTUAL/PUBLIC_ROOFTOP_PV_ACTUAL_MEASUREMENT_20250522.zip\n",
      "/Reports/Archive/ROOFTOP_PV/ACTUAL/PUBLIC_ROOFTOP_PV_ACTUAL_MEASUREMENT_20250529.zip\n",
      "/Reports/Archive/ROOFTOP_PV/ACTUAL/PUBLIC_ROOFTOP_PV_ACTUAL_MEASUREMENT_20250605.zip\n",
      "/Reports/Archive/ROOFTOP_PV/ACTUAL/PUBLIC_ROOFTOP_PV_ACTUAL_MEASUREMENT_20250612.zip\n",
      "/Reports/Archive/ROOFTOP_PV/ACTUAL/PUBLIC_ROOFTOP_PV_ACTUAL_SATELLITE_20240613.zip\n",
      "/Reports/Archive/ROOFTOP_PV/ACTUAL/PUBLIC_ROOFTOP_PV_ACTUAL_SATELLITE_20240620.zip\n",
      "/Reports/Archive/ROOFTOP_PV/ACTUAL/PUBLIC_ROOFTOP_PV_ACTUAL_SATELLITE_20240627.zip\n",
      "/Reports/Archive/ROOFTOP_PV/ACTUAL/PUBLIC_ROOFTOP_PV_ACTUAL_SATELLITE_20240704.zip\n",
      "/Reports/Archive/ROOFTOP_PV/ACTUAL/PUBLIC_ROOFTOP_PV_ACTUAL_SATELLITE_20240711.zip\n",
      "/Reports/Archive/ROOFTOP_PV/ACTUAL/PUBLIC_ROOFTOP_PV_ACTUAL_SATELLITE_20240718.zip\n",
      "/Reports/Archive/ROOFTOP_PV/ACTUAL/PUBLIC_ROOFTOP_PV_ACTUAL_SATELLITE_20240725.zip\n",
      "/Reports/Archive/ROOFTOP_PV/ACTUAL/PUBLIC_ROOFTOP_PV_ACTUAL_SATELLITE_20240801.zip\n",
      "/Reports/Archive/ROOFTOP_PV/ACTUAL/PUBLIC_ROOFTOP_PV_ACTUAL_SATELLITE_20240808.zip\n",
      "/Reports/Archive/ROOFTOP_PV/ACTUAL/PUBLIC_ROOFTOP_PV_ACTUAL_SATELLITE_20240815.zip\n",
      "/Reports/Archive/ROOFTOP_PV/ACTUAL/PUBLIC_ROOFTOP_PV_ACTUAL_SATELLITE_20240822.zip\n",
      "/Reports/Archive/ROOFTOP_PV/ACTUAL/PUBLIC_ROOFTOP_PV_ACTUAL_SATELLITE_20240829.zip\n",
      "/Reports/Archive/ROOFTOP_PV/ACTUAL/PUBLIC_ROOFTOP_PV_ACTUAL_SATELLITE_20240905.zip\n",
      "/Reports/Archive/ROOFTOP_PV/ACTUAL/PUBLIC_ROOFTOP_PV_ACTUAL_SATELLITE_20240912.zip\n",
      "/Reports/Archive/ROOFTOP_PV/ACTUAL/PUBLIC_ROOFTOP_PV_ACTUAL_SATELLITE_20240919.zip\n",
      "/Reports/Archive/ROOFTOP_PV/ACTUAL/PUBLIC_ROOFTOP_PV_ACTUAL_SATELLITE_20240926.zip\n",
      "/Reports/Archive/ROOFTOP_PV/ACTUAL/PUBLIC_ROOFTOP_PV_ACTUAL_SATELLITE_20241003.zip\n",
      "/Reports/Archive/ROOFTOP_PV/ACTUAL/PUBLIC_ROOFTOP_PV_ACTUAL_SATELLITE_20241010.zip\n",
      "/Reports/Archive/ROOFTOP_PV/ACTUAL/PUBLIC_ROOFTOP_PV_ACTUAL_SATELLITE_20241017.zip\n",
      "/Reports/Archive/ROOFTOP_PV/ACTUAL/PUBLIC_ROOFTOP_PV_ACTUAL_SATELLITE_20241024.zip\n",
      "/Reports/Archive/ROOFTOP_PV/ACTUAL/PUBLIC_ROOFTOP_PV_ACTUAL_SATELLITE_20241031.zip\n",
      "/Reports/Archive/ROOFTOP_PV/ACTUAL/PUBLIC_ROOFTOP_PV_ACTUAL_SATELLITE_20241107.zip\n",
      "/Reports/Archive/ROOFTOP_PV/ACTUAL/PUBLIC_ROOFTOP_PV_ACTUAL_SATELLITE_20241114.zip\n",
      "/Reports/Archive/ROOFTOP_PV/ACTUAL/PUBLIC_ROOFTOP_PV_ACTUAL_SATELLITE_20241121.zip\n",
      "/Reports/Archive/ROOFTOP_PV/ACTUAL/PUBLIC_ROOFTOP_PV_ACTUAL_SATELLITE_20241128.zip\n",
      "/Reports/Archive/ROOFTOP_PV/ACTUAL/PUBLIC_ROOFTOP_PV_ACTUAL_SATELLITE_20241205.zip\n",
      "/Reports/Archive/ROOFTOP_PV/ACTUAL/PUBLIC_ROOFTOP_PV_ACTUAL_SATELLITE_20241212.zip\n",
      "/Reports/Archive/ROOFTOP_PV/ACTUAL/PUBLIC_ROOFTOP_PV_ACTUAL_SATELLITE_20241219.zip\n",
      "/Reports/Archive/ROOFTOP_PV/ACTUAL/PUBLIC_ROOFTOP_PV_ACTUAL_SATELLITE_20241226.zip\n",
      "/Reports/Archive/ROOFTOP_PV/ACTUAL/PUBLIC_ROOFTOP_PV_ACTUAL_SATELLITE_20250102.zip\n",
      "/Reports/Archive/ROOFTOP_PV/ACTUAL/PUBLIC_ROOFTOP_PV_ACTUAL_SATELLITE_20250109.zip\n",
      "/Reports/Archive/ROOFTOP_PV/ACTUAL/PUBLIC_ROOFTOP_PV_ACTUAL_SATELLITE_20250116.zip\n",
      "/Reports/Archive/ROOFTOP_PV/ACTUAL/PUBLIC_ROOFTOP_PV_ACTUAL_SATELLITE_20250123.zip\n",
      "/Reports/Archive/ROOFTOP_PV/ACTUAL/PUBLIC_ROOFTOP_PV_ACTUAL_SATELLITE_20250130.zip\n",
      "/Reports/Archive/ROOFTOP_PV/ACTUAL/PUBLIC_ROOFTOP_PV_ACTUAL_SATELLITE_20250206.zip\n",
      "/Reports/Archive/ROOFTOP_PV/ACTUAL/PUBLIC_ROOFTOP_PV_ACTUAL_SATELLITE_20250213.zip\n",
      "/Reports/Archive/ROOFTOP_PV/ACTUAL/PUBLIC_ROOFTOP_PV_ACTUAL_SATELLITE_20250220.zip\n",
      "/Reports/Archive/ROOFTOP_PV/ACTUAL/PUBLIC_ROOFTOP_PV_ACTUAL_SATELLITE_20250227.zip\n",
      "/Reports/Archive/ROOFTOP_PV/ACTUAL/PUBLIC_ROOFTOP_PV_ACTUAL_SATELLITE_20250306.zip\n",
      "/Reports/Archive/ROOFTOP_PV/ACTUAL/PUBLIC_ROOFTOP_PV_ACTUAL_SATELLITE_20250313.zip\n",
      "/Reports/Archive/ROOFTOP_PV/ACTUAL/PUBLIC_ROOFTOP_PV_ACTUAL_SATELLITE_20250320.zip\n",
      "/Reports/Archive/ROOFTOP_PV/ACTUAL/PUBLIC_ROOFTOP_PV_ACTUAL_SATELLITE_20250327.zip\n",
      "/Reports/Archive/ROOFTOP_PV/ACTUAL/PUBLIC_ROOFTOP_PV_ACTUAL_SATELLITE_20250403.zip\n",
      "/Reports/Archive/ROOFTOP_PV/ACTUAL/PUBLIC_ROOFTOP_PV_ACTUAL_SATELLITE_20250410.zip\n",
      "/Reports/Archive/ROOFTOP_PV/ACTUAL/PUBLIC_ROOFTOP_PV_ACTUAL_SATELLITE_20250417.zip\n",
      "/Reports/Archive/ROOFTOP_PV/ACTUAL/PUBLIC_ROOFTOP_PV_ACTUAL_SATELLITE_20250424.zip\n",
      "/Reports/Archive/ROOFTOP_PV/ACTUAL/PUBLIC_ROOFTOP_PV_ACTUAL_SATELLITE_20250501.zip\n",
      "/Reports/Archive/ROOFTOP_PV/ACTUAL/PUBLIC_ROOFTOP_PV_ACTUAL_SATELLITE_20250508.zip\n",
      "/Reports/Archive/ROOFTOP_PV/ACTUAL/PUBLIC_ROOFTOP_PV_ACTUAL_SATELLITE_20250515.zip\n",
      "/Reports/Archive/ROOFTOP_PV/ACTUAL/PUBLIC_ROOFTOP_PV_ACTUAL_SATELLITE_20250522.zip\n",
      "/Reports/Archive/ROOFTOP_PV/ACTUAL/PUBLIC_ROOFTOP_PV_ACTUAL_SATELLITE_20250529.zip\n",
      "/Reports/Archive/ROOFTOP_PV/ACTUAL/PUBLIC_ROOFTOP_PV_ACTUAL_SATELLITE_20250605.zip\n",
      "/Reports/Archive/ROOFTOP_PV/ACTUAL/PUBLIC_ROOFTOP_PV_ACTUAL_SATELLITE_20250612.zip\n"
     ]
    }
   ],
   "source": [
    "from bs4 import BeautifulSoup\n",
    "import urllib.request\n",
    "\n",
    "html_page = urllib.request.urlopen(u)\n",
    "soup = BeautifulSoup(html_page, \"html.parser\")\n",
    "for link in soup.findAll('a'):\n",
    "    print(link.get('href'))"
   ]
  },
  {
   "cell_type": "code",
   "execution_count": 2,
   "id": "74b3bd30-78bb-4e34-9fdf-fd75f01d26f5",
   "metadata": {},
   "outputs": [
    {
     "name": "stdout",
     "output_type": "stream",
     "text": [
      "https://nemweb.com.au/Reports/Archive/ROOFTOP_PV/ACTUAL/PUBLIC_ROOFTOP_PV_ACTUAL_SATELLITE_20240801.zip\n",
      "https://nemweb.com.au/Reports/Archive/ROOFTOP_PV/ACTUAL/PUBLIC_ROOFTOP_PV_ACTUAL_SATELLITE_20240808.zip\n",
      "https://nemweb.com.au/Reports/Archive/ROOFTOP_PV/ACTUAL/PUBLIC_ROOFTOP_PV_ACTUAL_SATELLITE_20240815.zip\n",
      "https://nemweb.com.au/Reports/Archive/ROOFTOP_PV/ACTUAL/PUBLIC_ROOFTOP_PV_ACTUAL_SATELLITE_20240822.zip\n",
      "https://nemweb.com.au/Reports/Archive/ROOFTOP_PV/ACTUAL/PUBLIC_ROOFTOP_PV_ACTUAL_SATELLITE_20240829.zip\n",
      "https://nemweb.com.au/Reports/Archive/ROOFTOP_PV/ACTUAL/PUBLIC_ROOFTOP_PV_ACTUAL_SATELLITE_20240905.zip\n",
      "https://nemweb.com.au/Reports/Archive/ROOFTOP_PV/ACTUAL/PUBLIC_ROOFTOP_PV_ACTUAL_SATELLITE_20240912.zip\n",
      "https://nemweb.com.au/Reports/Archive/ROOFTOP_PV/ACTUAL/PUBLIC_ROOFTOP_PV_ACTUAL_SATELLITE_20240919.zip\n",
      "https://nemweb.com.au/Reports/Archive/ROOFTOP_PV/ACTUAL/PUBLIC_ROOFTOP_PV_ACTUAL_SATELLITE_20240926.zip\n",
      "https://nemweb.com.au/Reports/Archive/ROOFTOP_PV/ACTUAL/PUBLIC_ROOFTOP_PV_ACTUAL_SATELLITE_20241003.zip\n",
      "https://nemweb.com.au/Reports/Archive/ROOFTOP_PV/ACTUAL/PUBLIC_ROOFTOP_PV_ACTUAL_SATELLITE_20241010.zip\n",
      "https://nemweb.com.au/Reports/Archive/ROOFTOP_PV/ACTUAL/PUBLIC_ROOFTOP_PV_ACTUAL_SATELLITE_20241017.zip\n",
      "https://nemweb.com.au/Reports/Archive/ROOFTOP_PV/ACTUAL/PUBLIC_ROOFTOP_PV_ACTUAL_SATELLITE_20241024.zip\n",
      "https://nemweb.com.au/Reports/Archive/ROOFTOP_PV/ACTUAL/PUBLIC_ROOFTOP_PV_ACTUAL_SATELLITE_20241031.zip\n",
      "https://nemweb.com.au/Reports/Archive/ROOFTOP_PV/ACTUAL/PUBLIC_ROOFTOP_PV_ACTUAL_SATELLITE_20241107.zip\n",
      "https://nemweb.com.au/Reports/Archive/ROOFTOP_PV/ACTUAL/PUBLIC_ROOFTOP_PV_ACTUAL_SATELLITE_20241114.zip\n",
      "https://nemweb.com.au/Reports/Archive/ROOFTOP_PV/ACTUAL/PUBLIC_ROOFTOP_PV_ACTUAL_SATELLITE_20241121.zip\n",
      "https://nemweb.com.au/Reports/Archive/ROOFTOP_PV/ACTUAL/PUBLIC_ROOFTOP_PV_ACTUAL_SATELLITE_20241128.zip\n",
      "https://nemweb.com.au/Reports/Archive/ROOFTOP_PV/ACTUAL/PUBLIC_ROOFTOP_PV_ACTUAL_SATELLITE_20241205.zip\n",
      "https://nemweb.com.au/Reports/Archive/ROOFTOP_PV/ACTUAL/PUBLIC_ROOFTOP_PV_ACTUAL_SATELLITE_20241212.zip\n",
      "https://nemweb.com.au/Reports/Archive/ROOFTOP_PV/ACTUAL/PUBLIC_ROOFTOP_PV_ACTUAL_SATELLITE_20241219.zip\n",
      "https://nemweb.com.au/Reports/Archive/ROOFTOP_PV/ACTUAL/PUBLIC_ROOFTOP_PV_ACTUAL_SATELLITE_20241226.zip\n",
      "https://nemweb.com.au/Reports/Archive/ROOFTOP_PV/ACTUAL/PUBLIC_ROOFTOP_PV_ACTUAL_SATELLITE_20250102.zip\n",
      "https://nemweb.com.au/Reports/Archive/ROOFTOP_PV/ACTUAL/PUBLIC_ROOFTOP_PV_ACTUAL_SATELLITE_20250109.zip\n",
      "https://nemweb.com.au/Reports/Archive/ROOFTOP_PV/ACTUAL/PUBLIC_ROOFTOP_PV_ACTUAL_SATELLITE_20250116.zip\n",
      "https://nemweb.com.au/Reports/Archive/ROOFTOP_PV/ACTUAL/PUBLIC_ROOFTOP_PV_ACTUAL_SATELLITE_20250123.zip\n",
      "https://nemweb.com.au/Reports/Archive/ROOFTOP_PV/ACTUAL/PUBLIC_ROOFTOP_PV_ACTUAL_SATELLITE_20250130.zip\n",
      "https://nemweb.com.au/Reports/Archive/ROOFTOP_PV/ACTUAL/PUBLIC_ROOFTOP_PV_ACTUAL_SATELLITE_20250206.zip\n",
      "https://nemweb.com.au/Reports/Archive/ROOFTOP_PV/ACTUAL/PUBLIC_ROOFTOP_PV_ACTUAL_SATELLITE_20250213.zip\n",
      "https://nemweb.com.au/Reports/Archive/ROOFTOP_PV/ACTUAL/PUBLIC_ROOFTOP_PV_ACTUAL_SATELLITE_20250220.zip\n",
      "https://nemweb.com.au/Reports/Archive/ROOFTOP_PV/ACTUAL/PUBLIC_ROOFTOP_PV_ACTUAL_SATELLITE_20250227.zip\n",
      "https://nemweb.com.au/Reports/Archive/ROOFTOP_PV/ACTUAL/PUBLIC_ROOFTOP_PV_ACTUAL_SATELLITE_20250306.zip\n",
      "https://nemweb.com.au/Reports/Archive/ROOFTOP_PV/ACTUAL/PUBLIC_ROOFTOP_PV_ACTUAL_SATELLITE_20250313.zip\n",
      "https://nemweb.com.au/Reports/Archive/ROOFTOP_PV/ACTUAL/PUBLIC_ROOFTOP_PV_ACTUAL_SATELLITE_20250320.zip\n",
      "https://nemweb.com.au/Reports/Archive/ROOFTOP_PV/ACTUAL/PUBLIC_ROOFTOP_PV_ACTUAL_SATELLITE_20250327.zip\n",
      "https://nemweb.com.au/Reports/Archive/ROOFTOP_PV/ACTUAL/PUBLIC_ROOFTOP_PV_ACTUAL_SATELLITE_20250403.zip\n",
      "https://nemweb.com.au/Reports/Archive/ROOFTOP_PV/ACTUAL/PUBLIC_ROOFTOP_PV_ACTUAL_SATELLITE_20250410.zip\n",
      "https://nemweb.com.au/Reports/Archive/ROOFTOP_PV/ACTUAL/PUBLIC_ROOFTOP_PV_ACTUAL_SATELLITE_20250417.zip\n",
      "https://nemweb.com.au/Reports/Archive/ROOFTOP_PV/ACTUAL/PUBLIC_ROOFTOP_PV_ACTUAL_SATELLITE_20250424.zip\n",
      "https://nemweb.com.au/Reports/Archive/ROOFTOP_PV/ACTUAL/PUBLIC_ROOFTOP_PV_ACTUAL_SATELLITE_20250501.zip\n",
      "https://nemweb.com.au/Reports/Archive/ROOFTOP_PV/ACTUAL/PUBLIC_ROOFTOP_PV_ACTUAL_SATELLITE_20250508.zip\n",
      "https://nemweb.com.au/Reports/Archive/ROOFTOP_PV/ACTUAL/PUBLIC_ROOFTOP_PV_ACTUAL_SATELLITE_20250515.zip\n",
      "https://nemweb.com.au/Reports/Archive/ROOFTOP_PV/ACTUAL/PUBLIC_ROOFTOP_PV_ACTUAL_SATELLITE_20250522.zip\n",
      "https://nemweb.com.au/Reports/Archive/ROOFTOP_PV/ACTUAL/PUBLIC_ROOFTOP_PV_ACTUAL_SATELLITE_20250529.zip\n",
      "https://nemweb.com.au/Reports/Archive/ROOFTOP_PV/ACTUAL/PUBLIC_ROOFTOP_PV_ACTUAL_SATELLITE_20250605.zip\n",
      "https://nemweb.com.au/Reports/Archive/ROOFTOP_PV/ACTUAL/PUBLIC_ROOFTOP_PV_ACTUAL_SATELLITE_20250612.zip\n",
      "https://nemweb.com.au/Reports/Archive/ROOFTOP_PV/ACTUAL/PUBLIC_ROOFTOP_PV_ACTUAL_SATELLITE_20250619.zip\n"
     ]
    },
    {
     "name": "stderr",
     "output_type": "stream",
     "text": [
      "C:\\ProgramData\\anaconda3\\Lib\\site-packages\\urllib3\\connectionpool.py:1099: InsecureRequestWarning: Unverified HTTPS request is being made to host 'nemweb.com.au'. Adding certificate verification is strongly advised. See: https://urllib3.readthedocs.io/en/latest/advanced-usage.html#tls-warnings\n",
      "  warnings.warn(\n"
     ]
    }
   ],
   "source": [
    "import os\n",
    "import re\n",
    "import requests\n",
    "from bs4 import BeautifulSoup\n",
    "from zipfile import ZipFile\n",
    "from io import BytesIO\n",
    "\n",
    "# Step 1: Load the webpage\n",
    "url = u='https://nemweb.com.au/Reports/Archive/ROOFTOP_PV/ACTUAL/'\n",
    "response = requests.get(url,verify=False)\n",
    "response.raise_for_status()\n",
    "\n",
    "# Step 2: Parse the page to extract download URLs\n",
    "soup = BeautifulSoup(response.content, 'html.parser')\n",
    "download_links = soup.find_all('a', href=True)\n",
    "\n",
    "#excel_urls =['https://nemweb.com.au/'.join(link['href'] for link in download_links if link['href'].endswith('xml.zip'))]\n",
    "excel_urls = [ \"https://nemweb.com.au\" +link['href'] for link in download_links if re.findall('SATELLITE',link['href'])]\n",
    "\n",
    "for excel_url in excel_urls:\n",
    "    if excel_url[-12:-4] >'20240725':\n",
    "        print(excel_url)\n",
    "    \n",
    "\n",
    "\n",
    "#print(excel_urls)"
   ]
  },
  {
   "cell_type": "code",
   "execution_count": 12,
   "id": "e11b8e9e-fea9-4b82-826e-96b0f54bb119",
   "metadata": {},
   "outputs": [
    {
     "name": "stderr",
     "output_type": "stream",
     "text": [
      "C:\\ProgramData\\anaconda3\\Lib\\site-packages\\urllib3\\connectionpool.py:1097: InsecureRequestWarning: Unverified HTTPS request is being made to host 'nemweb.com.au'. Adding certificate verification is strongly advised. See: https://urllib3.readthedocs.io/en/latest/advanced-usage.html#tls-warnings\n",
      "  warnings.warn(\n",
      "C:\\ProgramData\\anaconda3\\Lib\\site-packages\\urllib3\\connectionpool.py:1097: InsecureRequestWarning: Unverified HTTPS request is being made to host 'nemweb.com.au'. Adding certificate verification is strongly advised. See: https://urllib3.readthedocs.io/en/latest/advanced-usage.html#tls-warnings\n",
      "  warnings.warn(\n"
     ]
    },
    {
     "name": "stdout",
     "output_type": "stream",
     "text": [
      "https://nemweb.com.au/Data_Archive/Wholesale_Electricity/NEMDE/2024/NEMDE_2024_10/NEMDE_Market_Data/NEMDE_Files/NemPriceSetter_20241001_xml.zip\n",
      "https://nemweb.com.au/Data_Archive/Wholesale_Electricity/NEMDE/2024/NEMDE_2024_10/NEMDE_Market_Data/NEMDE_Files/NemPriceSetter_20241002_xml.zip\n"
     ]
    },
    {
     "name": "stderr",
     "output_type": "stream",
     "text": [
      "C:\\ProgramData\\anaconda3\\Lib\\site-packages\\urllib3\\connectionpool.py:1097: InsecureRequestWarning: Unverified HTTPS request is being made to host 'nemweb.com.au'. Adding certificate verification is strongly advised. See: https://urllib3.readthedocs.io/en/latest/advanced-usage.html#tls-warnings\n",
      "  warnings.warn(\n"
     ]
    },
    {
     "name": "stdout",
     "output_type": "stream",
     "text": [
      "https://nemweb.com.au/Data_Archive/Wholesale_Electricity/NEMDE/2024/NEMDE_2024_10/NEMDE_Market_Data/NEMDE_Files/NemPriceSetter_20241003_xml.zip\n"
     ]
    },
    {
     "name": "stderr",
     "output_type": "stream",
     "text": [
      "C:\\ProgramData\\anaconda3\\Lib\\site-packages\\urllib3\\connectionpool.py:1097: InsecureRequestWarning: Unverified HTTPS request is being made to host 'nemweb.com.au'. Adding certificate verification is strongly advised. See: https://urllib3.readthedocs.io/en/latest/advanced-usage.html#tls-warnings\n",
      "  warnings.warn(\n"
     ]
    },
    {
     "name": "stdout",
     "output_type": "stream",
     "text": [
      "https://nemweb.com.au/Data_Archive/Wholesale_Electricity/NEMDE/2024/NEMDE_2024_10/NEMDE_Market_Data/NEMDE_Files/NemPriceSetter_20241004_xml.zip\n"
     ]
    },
    {
     "name": "stderr",
     "output_type": "stream",
     "text": [
      "C:\\ProgramData\\anaconda3\\Lib\\site-packages\\urllib3\\connectionpool.py:1097: InsecureRequestWarning: Unverified HTTPS request is being made to host 'nemweb.com.au'. Adding certificate verification is strongly advised. See: https://urllib3.readthedocs.io/en/latest/advanced-usage.html#tls-warnings\n",
      "  warnings.warn(\n"
     ]
    },
    {
     "name": "stdout",
     "output_type": "stream",
     "text": [
      "https://nemweb.com.au/Data_Archive/Wholesale_Electricity/NEMDE/2024/NEMDE_2024_10/NEMDE_Market_Data/NEMDE_Files/NemPriceSetter_20241005_xml.zip\n"
     ]
    },
    {
     "name": "stderr",
     "output_type": "stream",
     "text": [
      "C:\\ProgramData\\anaconda3\\Lib\\site-packages\\urllib3\\connectionpool.py:1097: InsecureRequestWarning: Unverified HTTPS request is being made to host 'nemweb.com.au'. Adding certificate verification is strongly advised. See: https://urllib3.readthedocs.io/en/latest/advanced-usage.html#tls-warnings\n",
      "  warnings.warn(\n"
     ]
    },
    {
     "name": "stdout",
     "output_type": "stream",
     "text": [
      "https://nemweb.com.au/Data_Archive/Wholesale_Electricity/NEMDE/2024/NEMDE_2024_10/NEMDE_Market_Data/NEMDE_Files/NemPriceSetter_20241006_xml.zip\n"
     ]
    },
    {
     "name": "stderr",
     "output_type": "stream",
     "text": [
      "C:\\ProgramData\\anaconda3\\Lib\\site-packages\\urllib3\\connectionpool.py:1097: InsecureRequestWarning: Unverified HTTPS request is being made to host 'nemweb.com.au'. Adding certificate verification is strongly advised. See: https://urllib3.readthedocs.io/en/latest/advanced-usage.html#tls-warnings\n",
      "  warnings.warn(\n"
     ]
    },
    {
     "name": "stdout",
     "output_type": "stream",
     "text": [
      "https://nemweb.com.au/Data_Archive/Wholesale_Electricity/NEMDE/2024/NEMDE_2024_10/NEMDE_Market_Data/NEMDE_Files/NemPriceSetter_20241007_xml.zip\n"
     ]
    },
    {
     "name": "stderr",
     "output_type": "stream",
     "text": [
      "C:\\ProgramData\\anaconda3\\Lib\\site-packages\\urllib3\\connectionpool.py:1097: InsecureRequestWarning: Unverified HTTPS request is being made to host 'nemweb.com.au'. Adding certificate verification is strongly advised. See: https://urllib3.readthedocs.io/en/latest/advanced-usage.html#tls-warnings\n",
      "  warnings.warn(\n"
     ]
    },
    {
     "name": "stdout",
     "output_type": "stream",
     "text": [
      "https://nemweb.com.au/Data_Archive/Wholesale_Electricity/NEMDE/2024/NEMDE_2024_10/NEMDE_Market_Data/NEMDE_Files/NemPriceSetter_20241008_xml.zip\n"
     ]
    },
    {
     "name": "stderr",
     "output_type": "stream",
     "text": [
      "C:\\ProgramData\\anaconda3\\Lib\\site-packages\\urllib3\\connectionpool.py:1097: InsecureRequestWarning: Unverified HTTPS request is being made to host 'nemweb.com.au'. Adding certificate verification is strongly advised. See: https://urllib3.readthedocs.io/en/latest/advanced-usage.html#tls-warnings\n",
      "  warnings.warn(\n"
     ]
    },
    {
     "name": "stdout",
     "output_type": "stream",
     "text": [
      "https://nemweb.com.au/Data_Archive/Wholesale_Electricity/NEMDE/2024/NEMDE_2024_10/NEMDE_Market_Data/NEMDE_Files/NemPriceSetter_20241009_xml.zip\n"
     ]
    },
    {
     "name": "stderr",
     "output_type": "stream",
     "text": [
      "C:\\ProgramData\\anaconda3\\Lib\\site-packages\\urllib3\\connectionpool.py:1097: InsecureRequestWarning: Unverified HTTPS request is being made to host 'nemweb.com.au'. Adding certificate verification is strongly advised. See: https://urllib3.readthedocs.io/en/latest/advanced-usage.html#tls-warnings\n",
      "  warnings.warn(\n"
     ]
    },
    {
     "name": "stdout",
     "output_type": "stream",
     "text": [
      "https://nemweb.com.au/Data_Archive/Wholesale_Electricity/NEMDE/2024/NEMDE_2024_10/NEMDE_Market_Data/NEMDE_Files/NemPriceSetter_20241010_xml.zip\n"
     ]
    },
    {
     "name": "stderr",
     "output_type": "stream",
     "text": [
      "C:\\ProgramData\\anaconda3\\Lib\\site-packages\\urllib3\\connectionpool.py:1097: InsecureRequestWarning: Unverified HTTPS request is being made to host 'nemweb.com.au'. Adding certificate verification is strongly advised. See: https://urllib3.readthedocs.io/en/latest/advanced-usage.html#tls-warnings\n",
      "  warnings.warn(\n"
     ]
    },
    {
     "name": "stdout",
     "output_type": "stream",
     "text": [
      "https://nemweb.com.au/Data_Archive/Wholesale_Electricity/NEMDE/2024/NEMDE_2024_10/NEMDE_Market_Data/NEMDE_Files/NemPriceSetter_20241011_xml.zip\n"
     ]
    },
    {
     "name": "stderr",
     "output_type": "stream",
     "text": [
      "C:\\ProgramData\\anaconda3\\Lib\\site-packages\\urllib3\\connectionpool.py:1097: InsecureRequestWarning: Unverified HTTPS request is being made to host 'nemweb.com.au'. Adding certificate verification is strongly advised. See: https://urllib3.readthedocs.io/en/latest/advanced-usage.html#tls-warnings\n",
      "  warnings.warn(\n"
     ]
    },
    {
     "name": "stdout",
     "output_type": "stream",
     "text": [
      "https://nemweb.com.au/Data_Archive/Wholesale_Electricity/NEMDE/2024/NEMDE_2024_10/NEMDE_Market_Data/NEMDE_Files/NemPriceSetter_20241012_xml.zip\n"
     ]
    },
    {
     "name": "stderr",
     "output_type": "stream",
     "text": [
      "C:\\ProgramData\\anaconda3\\Lib\\site-packages\\urllib3\\connectionpool.py:1097: InsecureRequestWarning: Unverified HTTPS request is being made to host 'nemweb.com.au'. Adding certificate verification is strongly advised. See: https://urllib3.readthedocs.io/en/latest/advanced-usage.html#tls-warnings\n",
      "  warnings.warn(\n"
     ]
    },
    {
     "name": "stdout",
     "output_type": "stream",
     "text": [
      "https://nemweb.com.au/Data_Archive/Wholesale_Electricity/NEMDE/2024/NEMDE_2024_10/NEMDE_Market_Data/NEMDE_Files/NemPriceSetter_20241013_xml.zip\n"
     ]
    },
    {
     "name": "stderr",
     "output_type": "stream",
     "text": [
      "C:\\ProgramData\\anaconda3\\Lib\\site-packages\\urllib3\\connectionpool.py:1097: InsecureRequestWarning: Unverified HTTPS request is being made to host 'nemweb.com.au'. Adding certificate verification is strongly advised. See: https://urllib3.readthedocs.io/en/latest/advanced-usage.html#tls-warnings\n",
      "  warnings.warn(\n"
     ]
    },
    {
     "name": "stdout",
     "output_type": "stream",
     "text": [
      "https://nemweb.com.au/Data_Archive/Wholesale_Electricity/NEMDE/2024/NEMDE_2024_10/NEMDE_Market_Data/NEMDE_Files/NemPriceSetter_20241014_xml.zip\n"
     ]
    },
    {
     "name": "stderr",
     "output_type": "stream",
     "text": [
      "C:\\ProgramData\\anaconda3\\Lib\\site-packages\\urllib3\\connectionpool.py:1097: InsecureRequestWarning: Unverified HTTPS request is being made to host 'nemweb.com.au'. Adding certificate verification is strongly advised. See: https://urllib3.readthedocs.io/en/latest/advanced-usage.html#tls-warnings\n",
      "  warnings.warn(\n"
     ]
    },
    {
     "name": "stdout",
     "output_type": "stream",
     "text": [
      "https://nemweb.com.au/Data_Archive/Wholesale_Electricity/NEMDE/2024/NEMDE_2024_10/NEMDE_Market_Data/NEMDE_Files/NemPriceSetter_20241015_xml.zip\n"
     ]
    },
    {
     "name": "stderr",
     "output_type": "stream",
     "text": [
      "C:\\ProgramData\\anaconda3\\Lib\\site-packages\\urllib3\\connectionpool.py:1097: InsecureRequestWarning: Unverified HTTPS request is being made to host 'nemweb.com.au'. Adding certificate verification is strongly advised. See: https://urllib3.readthedocs.io/en/latest/advanced-usage.html#tls-warnings\n",
      "  warnings.warn(\n"
     ]
    },
    {
     "name": "stdout",
     "output_type": "stream",
     "text": [
      "https://nemweb.com.au/Data_Archive/Wholesale_Electricity/NEMDE/2024/NEMDE_2024_10/NEMDE_Market_Data/NEMDE_Files/NemPriceSetter_20241016_xml.zip\n"
     ]
    },
    {
     "name": "stderr",
     "output_type": "stream",
     "text": [
      "C:\\ProgramData\\anaconda3\\Lib\\site-packages\\urllib3\\connectionpool.py:1097: InsecureRequestWarning: Unverified HTTPS request is being made to host 'nemweb.com.au'. Adding certificate verification is strongly advised. See: https://urllib3.readthedocs.io/en/latest/advanced-usage.html#tls-warnings\n",
      "  warnings.warn(\n"
     ]
    },
    {
     "name": "stdout",
     "output_type": "stream",
     "text": [
      "https://nemweb.com.au/Data_Archive/Wholesale_Electricity/NEMDE/2024/NEMDE_2024_10/NEMDE_Market_Data/NEMDE_Files/NemPriceSetter_20241017_xml.zip\n"
     ]
    },
    {
     "name": "stderr",
     "output_type": "stream",
     "text": [
      "C:\\ProgramData\\anaconda3\\Lib\\site-packages\\urllib3\\connectionpool.py:1097: InsecureRequestWarning: Unverified HTTPS request is being made to host 'nemweb.com.au'. Adding certificate verification is strongly advised. See: https://urllib3.readthedocs.io/en/latest/advanced-usage.html#tls-warnings\n",
      "  warnings.warn(\n"
     ]
    },
    {
     "name": "stdout",
     "output_type": "stream",
     "text": [
      "https://nemweb.com.au/Data_Archive/Wholesale_Electricity/NEMDE/2024/NEMDE_2024_10/NEMDE_Market_Data/NEMDE_Files/NemPriceSetter_20241018_xml.zip\n"
     ]
    },
    {
     "name": "stderr",
     "output_type": "stream",
     "text": [
      "C:\\ProgramData\\anaconda3\\Lib\\site-packages\\urllib3\\connectionpool.py:1097: InsecureRequestWarning: Unverified HTTPS request is being made to host 'nemweb.com.au'. Adding certificate verification is strongly advised. See: https://urllib3.readthedocs.io/en/latest/advanced-usage.html#tls-warnings\n",
      "  warnings.warn(\n"
     ]
    },
    {
     "name": "stdout",
     "output_type": "stream",
     "text": [
      "https://nemweb.com.au/Data_Archive/Wholesale_Electricity/NEMDE/2024/NEMDE_2024_10/NEMDE_Market_Data/NEMDE_Files/NemPriceSetter_20241019_xml.zip\n"
     ]
    },
    {
     "name": "stderr",
     "output_type": "stream",
     "text": [
      "C:\\ProgramData\\anaconda3\\Lib\\site-packages\\urllib3\\connectionpool.py:1097: InsecureRequestWarning: Unverified HTTPS request is being made to host 'nemweb.com.au'. Adding certificate verification is strongly advised. See: https://urllib3.readthedocs.io/en/latest/advanced-usage.html#tls-warnings\n",
      "  warnings.warn(\n"
     ]
    },
    {
     "name": "stdout",
     "output_type": "stream",
     "text": [
      "https://nemweb.com.au/Data_Archive/Wholesale_Electricity/NEMDE/2024/NEMDE_2024_10/NEMDE_Market_Data/NEMDE_Files/NemPriceSetter_20241020_xml.zip\n"
     ]
    },
    {
     "name": "stderr",
     "output_type": "stream",
     "text": [
      "C:\\ProgramData\\anaconda3\\Lib\\site-packages\\urllib3\\connectionpool.py:1097: InsecureRequestWarning: Unverified HTTPS request is being made to host 'nemweb.com.au'. Adding certificate verification is strongly advised. See: https://urllib3.readthedocs.io/en/latest/advanced-usage.html#tls-warnings\n",
      "  warnings.warn(\n"
     ]
    },
    {
     "name": "stdout",
     "output_type": "stream",
     "text": [
      "https://nemweb.com.au/Data_Archive/Wholesale_Electricity/NEMDE/2024/NEMDE_2024_10/NEMDE_Market_Data/NEMDE_Files/NemPriceSetter_20241021_xml.zip\n"
     ]
    },
    {
     "name": "stderr",
     "output_type": "stream",
     "text": [
      "C:\\ProgramData\\anaconda3\\Lib\\site-packages\\urllib3\\connectionpool.py:1097: InsecureRequestWarning: Unverified HTTPS request is being made to host 'nemweb.com.au'. Adding certificate verification is strongly advised. See: https://urllib3.readthedocs.io/en/latest/advanced-usage.html#tls-warnings\n",
      "  warnings.warn(\n"
     ]
    },
    {
     "name": "stdout",
     "output_type": "stream",
     "text": [
      "https://nemweb.com.au/Data_Archive/Wholesale_Electricity/NEMDE/2024/NEMDE_2024_10/NEMDE_Market_Data/NEMDE_Files/NemPriceSetter_20241022_xml.zip\n"
     ]
    },
    {
     "name": "stderr",
     "output_type": "stream",
     "text": [
      "C:\\ProgramData\\anaconda3\\Lib\\site-packages\\urllib3\\connectionpool.py:1097: InsecureRequestWarning: Unverified HTTPS request is being made to host 'nemweb.com.au'. Adding certificate verification is strongly advised. See: https://urllib3.readthedocs.io/en/latest/advanced-usage.html#tls-warnings\n",
      "  warnings.warn(\n"
     ]
    },
    {
     "name": "stdout",
     "output_type": "stream",
     "text": [
      "https://nemweb.com.au/Data_Archive/Wholesale_Electricity/NEMDE/2024/NEMDE_2024_10/NEMDE_Market_Data/NEMDE_Files/NemPriceSetter_20241023_xml.zip\n"
     ]
    },
    {
     "name": "stderr",
     "output_type": "stream",
     "text": [
      "C:\\ProgramData\\anaconda3\\Lib\\site-packages\\urllib3\\connectionpool.py:1097: InsecureRequestWarning: Unverified HTTPS request is being made to host 'nemweb.com.au'. Adding certificate verification is strongly advised. See: https://urllib3.readthedocs.io/en/latest/advanced-usage.html#tls-warnings\n",
      "  warnings.warn(\n"
     ]
    },
    {
     "name": "stdout",
     "output_type": "stream",
     "text": [
      "https://nemweb.com.au/Data_Archive/Wholesale_Electricity/NEMDE/2024/NEMDE_2024_10/NEMDE_Market_Data/NEMDE_Files/NemPriceSetter_20241024_xml.zip\n"
     ]
    },
    {
     "name": "stderr",
     "output_type": "stream",
     "text": [
      "C:\\ProgramData\\anaconda3\\Lib\\site-packages\\urllib3\\connectionpool.py:1097: InsecureRequestWarning: Unverified HTTPS request is being made to host 'nemweb.com.au'. Adding certificate verification is strongly advised. See: https://urllib3.readthedocs.io/en/latest/advanced-usage.html#tls-warnings\n",
      "  warnings.warn(\n"
     ]
    },
    {
     "name": "stdout",
     "output_type": "stream",
     "text": [
      "https://nemweb.com.au/Data_Archive/Wholesale_Electricity/NEMDE/2024/NEMDE_2024_10/NEMDE_Market_Data/NEMDE_Files/NemPriceSetter_20241025_xml.zip\n"
     ]
    },
    {
     "name": "stderr",
     "output_type": "stream",
     "text": [
      "C:\\ProgramData\\anaconda3\\Lib\\site-packages\\urllib3\\connectionpool.py:1097: InsecureRequestWarning: Unverified HTTPS request is being made to host 'nemweb.com.au'. Adding certificate verification is strongly advised. See: https://urllib3.readthedocs.io/en/latest/advanced-usage.html#tls-warnings\n",
      "  warnings.warn(\n"
     ]
    },
    {
     "name": "stdout",
     "output_type": "stream",
     "text": [
      "https://nemweb.com.au/Data_Archive/Wholesale_Electricity/NEMDE/2024/NEMDE_2024_10/NEMDE_Market_Data/NEMDE_Files/NemPriceSetter_20241026_xml.zip\n"
     ]
    },
    {
     "name": "stderr",
     "output_type": "stream",
     "text": [
      "C:\\ProgramData\\anaconda3\\Lib\\site-packages\\urllib3\\connectionpool.py:1097: InsecureRequestWarning: Unverified HTTPS request is being made to host 'nemweb.com.au'. Adding certificate verification is strongly advised. See: https://urllib3.readthedocs.io/en/latest/advanced-usage.html#tls-warnings\n",
      "  warnings.warn(\n"
     ]
    },
    {
     "name": "stdout",
     "output_type": "stream",
     "text": [
      "https://nemweb.com.au/Data_Archive/Wholesale_Electricity/NEMDE/2024/NEMDE_2024_10/NEMDE_Market_Data/NEMDE_Files/NemPriceSetter_20241027_xml.zip\n"
     ]
    },
    {
     "name": "stderr",
     "output_type": "stream",
     "text": [
      "C:\\ProgramData\\anaconda3\\Lib\\site-packages\\urllib3\\connectionpool.py:1097: InsecureRequestWarning: Unverified HTTPS request is being made to host 'nemweb.com.au'. Adding certificate verification is strongly advised. See: https://urllib3.readthedocs.io/en/latest/advanced-usage.html#tls-warnings\n",
      "  warnings.warn(\n"
     ]
    },
    {
     "name": "stdout",
     "output_type": "stream",
     "text": [
      "https://nemweb.com.au/Data_Archive/Wholesale_Electricity/NEMDE/2024/NEMDE_2024_10/NEMDE_Market_Data/NEMDE_Files/NemPriceSetter_20241028_xml.zip\n"
     ]
    },
    {
     "name": "stderr",
     "output_type": "stream",
     "text": [
      "C:\\ProgramData\\anaconda3\\Lib\\site-packages\\urllib3\\connectionpool.py:1097: InsecureRequestWarning: Unverified HTTPS request is being made to host 'nemweb.com.au'. Adding certificate verification is strongly advised. See: https://urllib3.readthedocs.io/en/latest/advanced-usage.html#tls-warnings\n",
      "  warnings.warn(\n"
     ]
    },
    {
     "name": "stdout",
     "output_type": "stream",
     "text": [
      "https://nemweb.com.au/Data_Archive/Wholesale_Electricity/NEMDE/2024/NEMDE_2024_10/NEMDE_Market_Data/NEMDE_Files/NemPriceSetter_20241029_xml.zip\n"
     ]
    },
    {
     "name": "stderr",
     "output_type": "stream",
     "text": [
      "C:\\ProgramData\\anaconda3\\Lib\\site-packages\\urllib3\\connectionpool.py:1097: InsecureRequestWarning: Unverified HTTPS request is being made to host 'nemweb.com.au'. Adding certificate verification is strongly advised. See: https://urllib3.readthedocs.io/en/latest/advanced-usage.html#tls-warnings\n",
      "  warnings.warn(\n"
     ]
    },
    {
     "name": "stdout",
     "output_type": "stream",
     "text": [
      "https://nemweb.com.au/Data_Archive/Wholesale_Electricity/NEMDE/2024/NEMDE_2024_10/NEMDE_Market_Data/NEMDE_Files/NemPriceSetter_20241030_xml.zip\n"
     ]
    },
    {
     "name": "stderr",
     "output_type": "stream",
     "text": [
      "C:\\ProgramData\\anaconda3\\Lib\\site-packages\\urllib3\\connectionpool.py:1097: InsecureRequestWarning: Unverified HTTPS request is being made to host 'nemweb.com.au'. Adding certificate verification is strongly advised. See: https://urllib3.readthedocs.io/en/latest/advanced-usage.html#tls-warnings\n",
      "  warnings.warn(\n"
     ]
    },
    {
     "name": "stdout",
     "output_type": "stream",
     "text": [
      "https://nemweb.com.au/Data_Archive/Wholesale_Electricity/NEMDE/2024/NEMDE_2024_10/NEMDE_Market_Data/NEMDE_Files/NemPriceSetter_20241031_xml.zip\n"
     ]
    },
    {
     "name": "stderr",
     "output_type": "stream",
     "text": [
      "C:\\ProgramData\\anaconda3\\Lib\\site-packages\\urllib3\\connectionpool.py:1097: InsecureRequestWarning: Unverified HTTPS request is being made to host 'nemweb.com.au'. Adding certificate verification is strongly advised. See: https://urllib3.readthedocs.io/en/latest/advanced-usage.html#tls-warnings\n",
      "  warnings.warn(\n"
     ]
    }
   ],
   "source": [
    "import os\n",
    "import re\n",
    "import requests\n",
    "from bs4 import BeautifulSoup\n",
    "from zipfile import ZipFile\n",
    "from io import BytesIO\n",
    "\n",
    "os.chdir(r'D:\\PRICESETTER')\n",
    "# Step 1: Load the webpage\n",
    "url = 'https://nemweb.com.au/Data_Archive/Wholesale_Electricity/NEMDE/2024/NEMDE_2024_10/NEMDE_Market_Data/NEMDE_Files/'\n",
    "response = requests.get(url,verify=False)\n",
    "response.raise_for_status()\n",
    "\n",
    "# Step 2: Parse the page to extract download URLs\n",
    "soup = BeautifulSoup(response.content, 'html.parser')\n",
    "download_links = soup.find_all('a', href=True)\n",
    "\n",
    "#excel_urls =['https://nemweb.com.au/'.join(link['href'] for link in download_links if link['href'].endswith('xml.zip'))]\n",
    "excel_urls = [ \"https://nemweb.com.au\" +link['href'] for link in download_links if link['href'].endswith('xml.zip')]\n",
    "#excel_urls = [ \"https://nemweb.com.au\" +link['href'] for link in download_links if re.findall('UNIT_SCADA',link['href'])]\n",
    "\n",
    "# Step 3: Download the Excel files\n",
    "for excel_url in excel_urls:\n",
    "    print(excel_url)\n",
    "    excel_response = requests.get(excel_url,verify=False, stream=True)\n",
    "    excel_response.raise_for_status()\n",
    "    \n",
    "    # Step 4: Extract the Excel file from the zip archive\n",
    "    with ZipFile(BytesIO(excel_response.content)) as zip_file:\n",
    "        for zip_info in zip_file.infolist():\n",
    "            if zip_info.filename.endswith('.zip'):\n",
    "                zip_file.extract(zip_info, path='.')\n",
    "                extracted_file_path = zip_info.filename"
   ]
  },
  {
   "cell_type": "code",
   "execution_count": 3,
   "id": "9f43a29d",
   "metadata": {},
   "outputs": [
    {
     "name": "stderr",
     "output_type": "stream",
     "text": [
      "C:\\ProgramData\\anaconda3\\Lib\\site-packages\\urllib3\\connectionpool.py:1099: InsecureRequestWarning: Unverified HTTPS request is being made to host 'nemweb.com.au'. Adding certificate verification is strongly advised. See: https://urllib3.readthedocs.io/en/latest/advanced-usage.html#tls-warnings\n",
      "  warnings.warn(\n",
      "C:\\ProgramData\\anaconda3\\Lib\\site-packages\\urllib3\\connectionpool.py:1099: InsecureRequestWarning: Unverified HTTPS request is being made to host 'nemweb.com.au'. Adding certificate verification is strongly advised. See: https://urllib3.readthedocs.io/en/latest/advanced-usage.html#tls-warnings\n",
      "  warnings.warn(\n",
      "C:\\ProgramData\\anaconda3\\Lib\\site-packages\\urllib3\\connectionpool.py:1099: InsecureRequestWarning: Unverified HTTPS request is being made to host 'nemweb.com.au'. Adding certificate verification is strongly advised. See: https://urllib3.readthedocs.io/en/latest/advanced-usage.html#tls-warnings\n",
      "  warnings.warn(\n",
      "C:\\ProgramData\\anaconda3\\Lib\\site-packages\\urllib3\\connectionpool.py:1099: InsecureRequestWarning: Unverified HTTPS request is being made to host 'nemweb.com.au'. Adding certificate verification is strongly advised. See: https://urllib3.readthedocs.io/en/latest/advanced-usage.html#tls-warnings\n",
      "  warnings.warn(\n",
      "C:\\ProgramData\\anaconda3\\Lib\\site-packages\\urllib3\\connectionpool.py:1099: InsecureRequestWarning: Unverified HTTPS request is being made to host 'nemweb.com.au'. Adding certificate verification is strongly advised. See: https://urllib3.readthedocs.io/en/latest/advanced-usage.html#tls-warnings\n",
      "  warnings.warn(\n",
      "C:\\ProgramData\\anaconda3\\Lib\\site-packages\\urllib3\\connectionpool.py:1099: InsecureRequestWarning: Unverified HTTPS request is being made to host 'nemweb.com.au'. Adding certificate verification is strongly advised. See: https://urllib3.readthedocs.io/en/latest/advanced-usage.html#tls-warnings\n",
      "  warnings.warn(\n",
      "C:\\ProgramData\\anaconda3\\Lib\\site-packages\\urllib3\\connectionpool.py:1099: InsecureRequestWarning: Unverified HTTPS request is being made to host 'nemweb.com.au'. Adding certificate verification is strongly advised. See: https://urllib3.readthedocs.io/en/latest/advanced-usage.html#tls-warnings\n",
      "  warnings.warn(\n",
      "C:\\ProgramData\\anaconda3\\Lib\\site-packages\\urllib3\\connectionpool.py:1099: InsecureRequestWarning: Unverified HTTPS request is being made to host 'nemweb.com.au'. Adding certificate verification is strongly advised. See: https://urllib3.readthedocs.io/en/latest/advanced-usage.html#tls-warnings\n",
      "  warnings.warn(\n",
      "C:\\ProgramData\\anaconda3\\Lib\\site-packages\\urllib3\\connectionpool.py:1099: InsecureRequestWarning: Unverified HTTPS request is being made to host 'nemweb.com.au'. Adding certificate verification is strongly advised. See: https://urllib3.readthedocs.io/en/latest/advanced-usage.html#tls-warnings\n",
      "  warnings.warn(\n",
      "C:\\ProgramData\\anaconda3\\Lib\\site-packages\\urllib3\\connectionpool.py:1099: InsecureRequestWarning: Unverified HTTPS request is being made to host 'nemweb.com.au'. Adding certificate verification is strongly advised. See: https://urllib3.readthedocs.io/en/latest/advanced-usage.html#tls-warnings\n",
      "  warnings.warn(\n",
      "C:\\ProgramData\\anaconda3\\Lib\\site-packages\\urllib3\\connectionpool.py:1099: InsecureRequestWarning: Unverified HTTPS request is being made to host 'nemweb.com.au'. Adding certificate verification is strongly advised. See: https://urllib3.readthedocs.io/en/latest/advanced-usage.html#tls-warnings\n",
      "  warnings.warn(\n",
      "C:\\ProgramData\\anaconda3\\Lib\\site-packages\\urllib3\\connectionpool.py:1099: InsecureRequestWarning: Unverified HTTPS request is being made to host 'nemweb.com.au'. Adding certificate verification is strongly advised. See: https://urllib3.readthedocs.io/en/latest/advanced-usage.html#tls-warnings\n",
      "  warnings.warn(\n",
      "C:\\ProgramData\\anaconda3\\Lib\\site-packages\\urllib3\\connectionpool.py:1099: InsecureRequestWarning: Unverified HTTPS request is being made to host 'nemweb.com.au'. Adding certificate verification is strongly advised. See: https://urllib3.readthedocs.io/en/latest/advanced-usage.html#tls-warnings\n",
      "  warnings.warn(\n",
      "C:\\ProgramData\\anaconda3\\Lib\\site-packages\\urllib3\\connectionpool.py:1099: InsecureRequestWarning: Unverified HTTPS request is being made to host 'nemweb.com.au'. Adding certificate verification is strongly advised. See: https://urllib3.readthedocs.io/en/latest/advanced-usage.html#tls-warnings\n",
      "  warnings.warn(\n",
      "C:\\ProgramData\\anaconda3\\Lib\\site-packages\\urllib3\\connectionpool.py:1099: InsecureRequestWarning: Unverified HTTPS request is being made to host 'nemweb.com.au'. Adding certificate verification is strongly advised. See: https://urllib3.readthedocs.io/en/latest/advanced-usage.html#tls-warnings\n",
      "  warnings.warn(\n",
      "C:\\ProgramData\\anaconda3\\Lib\\site-packages\\urllib3\\connectionpool.py:1099: InsecureRequestWarning: Unverified HTTPS request is being made to host 'nemweb.com.au'. Adding certificate verification is strongly advised. See: https://urllib3.readthedocs.io/en/latest/advanced-usage.html#tls-warnings\n",
      "  warnings.warn(\n",
      "C:\\ProgramData\\anaconda3\\Lib\\site-packages\\urllib3\\connectionpool.py:1099: InsecureRequestWarning: Unverified HTTPS request is being made to host 'nemweb.com.au'. Adding certificate verification is strongly advised. See: https://urllib3.readthedocs.io/en/latest/advanced-usage.html#tls-warnings\n",
      "  warnings.warn(\n",
      "C:\\ProgramData\\anaconda3\\Lib\\site-packages\\urllib3\\connectionpool.py:1099: InsecureRequestWarning: Unverified HTTPS request is being made to host 'nemweb.com.au'. Adding certificate verification is strongly advised. See: https://urllib3.readthedocs.io/en/latest/advanced-usage.html#tls-warnings\n",
      "  warnings.warn(\n",
      "C:\\ProgramData\\anaconda3\\Lib\\site-packages\\urllib3\\connectionpool.py:1099: InsecureRequestWarning: Unverified HTTPS request is being made to host 'nemweb.com.au'. Adding certificate verification is strongly advised. See: https://urllib3.readthedocs.io/en/latest/advanced-usage.html#tls-warnings\n",
      "  warnings.warn(\n",
      "C:\\ProgramData\\anaconda3\\Lib\\site-packages\\urllib3\\connectionpool.py:1099: InsecureRequestWarning: Unverified HTTPS request is being made to host 'nemweb.com.au'. Adding certificate verification is strongly advised. See: https://urllib3.readthedocs.io/en/latest/advanced-usage.html#tls-warnings\n",
      "  warnings.warn(\n",
      "C:\\ProgramData\\anaconda3\\Lib\\site-packages\\urllib3\\connectionpool.py:1099: InsecureRequestWarning: Unverified HTTPS request is being made to host 'nemweb.com.au'. Adding certificate verification is strongly advised. See: https://urllib3.readthedocs.io/en/latest/advanced-usage.html#tls-warnings\n",
      "  warnings.warn(\n",
      "C:\\ProgramData\\anaconda3\\Lib\\site-packages\\urllib3\\connectionpool.py:1099: InsecureRequestWarning: Unverified HTTPS request is being made to host 'nemweb.com.au'. Adding certificate verification is strongly advised. See: https://urllib3.readthedocs.io/en/latest/advanced-usage.html#tls-warnings\n",
      "  warnings.warn(\n",
      "C:\\ProgramData\\anaconda3\\Lib\\site-packages\\urllib3\\connectionpool.py:1099: InsecureRequestWarning: Unverified HTTPS request is being made to host 'nemweb.com.au'. Adding certificate verification is strongly advised. See: https://urllib3.readthedocs.io/en/latest/advanced-usage.html#tls-warnings\n",
      "  warnings.warn(\n",
      "C:\\ProgramData\\anaconda3\\Lib\\site-packages\\urllib3\\connectionpool.py:1099: InsecureRequestWarning: Unverified HTTPS request is being made to host 'nemweb.com.au'. Adding certificate verification is strongly advised. See: https://urllib3.readthedocs.io/en/latest/advanced-usage.html#tls-warnings\n",
      "  warnings.warn(\n",
      "C:\\ProgramData\\anaconda3\\Lib\\site-packages\\urllib3\\connectionpool.py:1099: InsecureRequestWarning: Unverified HTTPS request is being made to host 'nemweb.com.au'. Adding certificate verification is strongly advised. See: https://urllib3.readthedocs.io/en/latest/advanced-usage.html#tls-warnings\n",
      "  warnings.warn(\n",
      "C:\\ProgramData\\anaconda3\\Lib\\site-packages\\urllib3\\connectionpool.py:1099: InsecureRequestWarning: Unverified HTTPS request is being made to host 'nemweb.com.au'. Adding certificate verification is strongly advised. See: https://urllib3.readthedocs.io/en/latest/advanced-usage.html#tls-warnings\n",
      "  warnings.warn(\n",
      "C:\\ProgramData\\anaconda3\\Lib\\site-packages\\urllib3\\connectionpool.py:1099: InsecureRequestWarning: Unverified HTTPS request is being made to host 'nemweb.com.au'. Adding certificate verification is strongly advised. See: https://urllib3.readthedocs.io/en/latest/advanced-usage.html#tls-warnings\n",
      "  warnings.warn(\n",
      "C:\\ProgramData\\anaconda3\\Lib\\site-packages\\urllib3\\connectionpool.py:1099: InsecureRequestWarning: Unverified HTTPS request is being made to host 'nemweb.com.au'. Adding certificate verification is strongly advised. See: https://urllib3.readthedocs.io/en/latest/advanced-usage.html#tls-warnings\n",
      "  warnings.warn(\n",
      "C:\\ProgramData\\anaconda3\\Lib\\site-packages\\urllib3\\connectionpool.py:1099: InsecureRequestWarning: Unverified HTTPS request is being made to host 'nemweb.com.au'. Adding certificate verification is strongly advised. See: https://urllib3.readthedocs.io/en/latest/advanced-usage.html#tls-warnings\n",
      "  warnings.warn(\n",
      "C:\\ProgramData\\anaconda3\\Lib\\site-packages\\urllib3\\connectionpool.py:1099: InsecureRequestWarning: Unverified HTTPS request is being made to host 'nemweb.com.au'. Adding certificate verification is strongly advised. See: https://urllib3.readthedocs.io/en/latest/advanced-usage.html#tls-warnings\n",
      "  warnings.warn(\n",
      "C:\\ProgramData\\anaconda3\\Lib\\site-packages\\urllib3\\connectionpool.py:1099: InsecureRequestWarning: Unverified HTTPS request is being made to host 'nemweb.com.au'. Adding certificate verification is strongly advised. See: https://urllib3.readthedocs.io/en/latest/advanced-usage.html#tls-warnings\n",
      "  warnings.warn(\n",
      "C:\\ProgramData\\anaconda3\\Lib\\site-packages\\urllib3\\connectionpool.py:1099: InsecureRequestWarning: Unverified HTTPS request is being made to host 'nemweb.com.au'. Adding certificate verification is strongly advised. See: https://urllib3.readthedocs.io/en/latest/advanced-usage.html#tls-warnings\n",
      "  warnings.warn(\n",
      "C:\\ProgramData\\anaconda3\\Lib\\site-packages\\urllib3\\connectionpool.py:1099: InsecureRequestWarning: Unverified HTTPS request is being made to host 'nemweb.com.au'. Adding certificate verification is strongly advised. See: https://urllib3.readthedocs.io/en/latest/advanced-usage.html#tls-warnings\n",
      "  warnings.warn(\n",
      "C:\\ProgramData\\anaconda3\\Lib\\site-packages\\urllib3\\connectionpool.py:1099: InsecureRequestWarning: Unverified HTTPS request is being made to host 'nemweb.com.au'. Adding certificate verification is strongly advised. See: https://urllib3.readthedocs.io/en/latest/advanced-usage.html#tls-warnings\n",
      "  warnings.warn(\n",
      "C:\\ProgramData\\anaconda3\\Lib\\site-packages\\urllib3\\connectionpool.py:1099: InsecureRequestWarning: Unverified HTTPS request is being made to host 'nemweb.com.au'. Adding certificate verification is strongly advised. See: https://urllib3.readthedocs.io/en/latest/advanced-usage.html#tls-warnings\n",
      "  warnings.warn(\n",
      "C:\\ProgramData\\anaconda3\\Lib\\site-packages\\urllib3\\connectionpool.py:1099: InsecureRequestWarning: Unverified HTTPS request is being made to host 'nemweb.com.au'. Adding certificate verification is strongly advised. See: https://urllib3.readthedocs.io/en/latest/advanced-usage.html#tls-warnings\n",
      "  warnings.warn(\n",
      "C:\\ProgramData\\anaconda3\\Lib\\site-packages\\urllib3\\connectionpool.py:1099: InsecureRequestWarning: Unverified HTTPS request is being made to host 'nemweb.com.au'. Adding certificate verification is strongly advised. See: https://urllib3.readthedocs.io/en/latest/advanced-usage.html#tls-warnings\n",
      "  warnings.warn(\n",
      "C:\\ProgramData\\anaconda3\\Lib\\site-packages\\urllib3\\connectionpool.py:1099: InsecureRequestWarning: Unverified HTTPS request is being made to host 'nemweb.com.au'. Adding certificate verification is strongly advised. See: https://urllib3.readthedocs.io/en/latest/advanced-usage.html#tls-warnings\n",
      "  warnings.warn(\n",
      "C:\\ProgramData\\anaconda3\\Lib\\site-packages\\urllib3\\connectionpool.py:1099: InsecureRequestWarning: Unverified HTTPS request is being made to host 'nemweb.com.au'. Adding certificate verification is strongly advised. See: https://urllib3.readthedocs.io/en/latest/advanced-usage.html#tls-warnings\n",
      "  warnings.warn(\n",
      "C:\\ProgramData\\anaconda3\\Lib\\site-packages\\urllib3\\connectionpool.py:1099: InsecureRequestWarning: Unverified HTTPS request is being made to host 'nemweb.com.au'. Adding certificate verification is strongly advised. See: https://urllib3.readthedocs.io/en/latest/advanced-usage.html#tls-warnings\n",
      "  warnings.warn(\n",
      "C:\\ProgramData\\anaconda3\\Lib\\site-packages\\urllib3\\connectionpool.py:1099: InsecureRequestWarning: Unverified HTTPS request is being made to host 'nemweb.com.au'. Adding certificate verification is strongly advised. See: https://urllib3.readthedocs.io/en/latest/advanced-usage.html#tls-warnings\n",
      "  warnings.warn(\n",
      "C:\\ProgramData\\anaconda3\\Lib\\site-packages\\urllib3\\connectionpool.py:1099: InsecureRequestWarning: Unverified HTTPS request is being made to host 'nemweb.com.au'. Adding certificate verification is strongly advised. See: https://urllib3.readthedocs.io/en/latest/advanced-usage.html#tls-warnings\n",
      "  warnings.warn(\n",
      "C:\\ProgramData\\anaconda3\\Lib\\site-packages\\urllib3\\connectionpool.py:1099: InsecureRequestWarning: Unverified HTTPS request is being made to host 'nemweb.com.au'. Adding certificate verification is strongly advised. See: https://urllib3.readthedocs.io/en/latest/advanced-usage.html#tls-warnings\n",
      "  warnings.warn(\n",
      "C:\\ProgramData\\anaconda3\\Lib\\site-packages\\urllib3\\connectionpool.py:1099: InsecureRequestWarning: Unverified HTTPS request is being made to host 'nemweb.com.au'. Adding certificate verification is strongly advised. See: https://urllib3.readthedocs.io/en/latest/advanced-usage.html#tls-warnings\n",
      "  warnings.warn(\n",
      "C:\\ProgramData\\anaconda3\\Lib\\site-packages\\urllib3\\connectionpool.py:1099: InsecureRequestWarning: Unverified HTTPS request is being made to host 'nemweb.com.au'. Adding certificate verification is strongly advised. See: https://urllib3.readthedocs.io/en/latest/advanced-usage.html#tls-warnings\n",
      "  warnings.warn(\n",
      "C:\\ProgramData\\anaconda3\\Lib\\site-packages\\urllib3\\connectionpool.py:1099: InsecureRequestWarning: Unverified HTTPS request is being made to host 'nemweb.com.au'. Adding certificate verification is strongly advised. See: https://urllib3.readthedocs.io/en/latest/advanced-usage.html#tls-warnings\n",
      "  warnings.warn(\n",
      "C:\\ProgramData\\anaconda3\\Lib\\site-packages\\urllib3\\connectionpool.py:1099: InsecureRequestWarning: Unverified HTTPS request is being made to host 'nemweb.com.au'. Adding certificate verification is strongly advised. See: https://urllib3.readthedocs.io/en/latest/advanced-usage.html#tls-warnings\n",
      "  warnings.warn(\n",
      "C:\\ProgramData\\anaconda3\\Lib\\site-packages\\urllib3\\connectionpool.py:1099: InsecureRequestWarning: Unverified HTTPS request is being made to host 'nemweb.com.au'. Adding certificate verification is strongly advised. See: https://urllib3.readthedocs.io/en/latest/advanced-usage.html#tls-warnings\n",
      "  warnings.warn(\n"
     ]
    }
   ],
   "source": [
    "import os\n",
    "import requests\n",
    "from bs4 import BeautifulSoup\n",
    "from zipfile import ZipFile\n",
    "from io import BytesIO\n",
    "\n",
    "os.chdir(r'D:\\ROOFTOP_PV_ACTUAL_2024_08_onwards')\n",
    "# Step 1: Load the webpage\n",
    "url = u='https://nemweb.com.au/Reports/Archive/ROOFTOP_PV/ACTUAL/'\n",
    "response = requests.get(url,verify=False)\n",
    "response.raise_for_status()\n",
    "\n",
    "# Step 2: Parse the page to extract download URLs\n",
    "soup = BeautifulSoup(response.content, 'html.parser')\n",
    "download_links = soup.find_all('a', href=True)\n",
    "\n",
    "#excel_urls =['https://nemweb.com.au/'.join(link['href'] for link in download_links if link['href'].endswith('xml.zip'))]\n",
    "#excel_urls = [ \"https://nemweb.com.au\" +link['href'] for link in download_links if link['href'].endswith('xml.zip')]\n",
    "excel_urls = [ \"https://nemweb.com.au\" +link['href'] for link in download_links if re.findall('SATELLITE',link['href'])]\n",
    "\n",
    "# Step 3: Download the Excel files\n",
    "for excel_url in excel_urls:\n",
    "    if excel_url[-12:-4] >'20240725':\n",
    "        excel_response = requests.get(excel_url,verify=False)\n",
    "        excel_response.raise_for_status()\n",
    "    \n",
    "    # Step 4: Extract the Excel file from the zip archive\n",
    "        with ZipFile(BytesIO(excel_response.content)) as zip_file:\n",
    "            for zip_info in zip_file.infolist():\n",
    "                if zip_info.filename.endswith('.zip'):\n",
    "                    zip_file.extract(zip_info, path='.')\n",
    "                    extracted_file_path = zip_info.filename"
   ]
  },
  {
   "cell_type": "code",
   "execution_count": 20,
   "id": "96b2a414-f121-461d-8907-c9975cf4d98f",
   "metadata": {},
   "outputs": [
    {
     "name": "stdout",
     "output_type": "stream",
     "text": [
      "True\n"
     ]
    },
    {
     "ename": "PermissionError",
     "evalue": "[WinError 5] Access is denied: 'D:\\\\ROOFTOP_PV_ACTUAL_2024_08_onwards'",
     "output_type": "error",
     "traceback": [
      "\u001b[1;31m---------------------------------------------------------------------------\u001b[0m",
      "\u001b[1;31mPermissionError\u001b[0m                           Traceback (most recent call last)",
      "Cell \u001b[1;32mIn[20], line 12\u001b[0m\n\u001b[0;32m     10\u001b[0m \u001b[38;5;28mprint\u001b[39m(file_path[\u001b[38;5;241m-\u001b[39m\u001b[38;5;241m35\u001b[39m:\u001b[38;5;241m-\u001b[39m\u001b[38;5;241m4\u001b[39m] \u001b[38;5;241m<\u001b[39m \u001b[38;5;124m'\u001b[39m\u001b[38;5;124m202503\u001b[39m\u001b[38;5;124m'\u001b[39m)\n\u001b[0;32m     11\u001b[0m \u001b[38;5;28;01mwith\u001b[39;00m zipfile\u001b[38;5;241m.\u001b[39mZipFile(file_path, \u001b[38;5;124m'\u001b[39m\u001b[38;5;124mr\u001b[39m\u001b[38;5;124m'\u001b[39m) \u001b[38;5;28;01mas\u001b[39;00m zip_ref:\n\u001b[1;32m---> 12\u001b[0m     os\u001b[38;5;241m.\u001b[39mremove(zipped_file)\n",
      "\u001b[1;31mPermissionError\u001b[0m: [WinError 5] Access is denied: 'D:\\\\ROOFTOP_PV_ACTUAL_2024_08_onwards'"
     ]
    }
   ],
   "source": [
    "import os\n",
    "import zipfile\n",
    "\n",
    "# Path to the directory containing the zip files\n",
    "zip_folder = r'D:\\ROOFTOP_PV_ACTUAL_2024_08_onwards'\n",
    "\n",
    "for file_name in zip_files:\n",
    "    # Construct the full path to the current file\n",
    "    file_path = os.path.join(zip_folder, file_name)\n",
    "    print(file_path[-35:-4] < '202503')\n",
    "    with zipfile.ZipFile(file_path, 'r') as zip_ref:\n",
    "        os.remove(zipped_file)\n",
    "        # Extract all files in the zip to the destination folder\n",
    "        \n",
    "        #zip_ref.extractall(destination_folder)\n",
    "\n",
    "#\n",
    "\n"
   ]
  },
  {
   "cell_type": "code",
   "execution_count": null,
   "id": "9209d6bb-e53d-45d3-b702-b967e4acf06a",
   "metadata": {},
   "outputs": [],
   "source": []
  },
  {
   "cell_type": "code",
   "execution_count": 5,
   "id": "67c63042",
   "metadata": {},
   "outputs": [
    {
     "name": "stderr",
     "output_type": "stream",
     "text": [
      "<>:5: SyntaxWarning: invalid escape sequence '\\R'\n",
      "<>:8: SyntaxWarning: invalid escape sequence '\\R'\n",
      "<>:5: SyntaxWarning: invalid escape sequence '\\R'\n",
      "<>:8: SyntaxWarning: invalid escape sequence '\\R'\n",
      "C:\\Users\\ygu\\AppData\\Local\\Temp\\ipykernel_20832\\1083575712.py:5: SyntaxWarning: invalid escape sequence '\\R'\n",
      "  zip_folder = 'D:\\ROOFTOP_PV_ACTUAL_2024_08_onwards'\n",
      "C:\\Users\\ygu\\AppData\\Local\\Temp\\ipykernel_20832\\1083575712.py:8: SyntaxWarning: invalid escape sequence '\\R'\n",
      "  destination_folder = 'D:\\ROOFTOP_PV_ACTUAL_2024_08_onwards1'\n",
      "C:\\Users\\ygu\\AppData\\Local\\Temp\\ipykernel_20832\\1083575712.py:5: SyntaxWarning: invalid escape sequence '\\R'\n",
      "  zip_folder = 'D:\\ROOFTOP_PV_ACTUAL_2024_08_onwards'\n",
      "C:\\Users\\ygu\\AppData\\Local\\Temp\\ipykernel_20832\\1083575712.py:8: SyntaxWarning: invalid escape sequence '\\R'\n",
      "  destination_folder = 'D:\\ROOFTOP_PV_ACTUAL_2024_08_onwards1'\n"
     ]
    },
    {
     "ename": "OSError",
     "evalue": "[Errno 22] Invalid argument: 'D:\\\\ROOFTOP_PV_ACTUAL_2024_08_onwards1\\\\PUBLIC_ROOFTOP_PV_ACTUAL_SATELLITE_20250330120000_0000000457053653.csv'",
     "output_type": "error",
     "traceback": [
      "\u001b[1;31m---------------------------------------------------------------------------\u001b[0m",
      "\u001b[1;31mOSError\u001b[0m                                   Traceback (most recent call last)",
      "Cell \u001b[1;32mIn[5], line 19\u001b[0m\n\u001b[0;32m     16\u001b[0m     file_path \u001b[38;5;241m=\u001b[39m os\u001b[38;5;241m.\u001b[39mpath\u001b[38;5;241m.\u001b[39mjoin(zip_folder, file_name)\n\u001b[0;32m     17\u001b[0m     \u001b[38;5;28;01mwith\u001b[39;00m zipfile\u001b[38;5;241m.\u001b[39mZipFile(file_path, \u001b[38;5;124m'\u001b[39m\u001b[38;5;124mr\u001b[39m\u001b[38;5;124m'\u001b[39m) \u001b[38;5;28;01mas\u001b[39;00m zip_ref:\n\u001b[0;32m     18\u001b[0m         \u001b[38;5;66;03m# Extract all files in the zip to the destination folder\u001b[39;00m\n\u001b[1;32m---> 19\u001b[0m         zip_ref\u001b[38;5;241m.\u001b[39mextractall(destination_folder)\n\u001b[0;32m     21\u001b[0m os\u001b[38;5;241m.\u001b[39mremove(zipped_file)\n",
      "File \u001b[1;32mC:\\ProgramData\\anaconda3\\Lib\\zipfile\\__init__.py:1744\u001b[0m, in \u001b[0;36mZipFile.extractall\u001b[1;34m(self, path, members, pwd)\u001b[0m\n\u001b[0;32m   1741\u001b[0m     path \u001b[38;5;241m=\u001b[39m os\u001b[38;5;241m.\u001b[39mfspath(path)\n\u001b[0;32m   1743\u001b[0m \u001b[38;5;28;01mfor\u001b[39;00m zipinfo \u001b[38;5;129;01min\u001b[39;00m members:\n\u001b[1;32m-> 1744\u001b[0m     \u001b[38;5;28mself\u001b[39m\u001b[38;5;241m.\u001b[39m_extract_member(zipinfo, path, pwd)\n",
      "File \u001b[1;32mC:\\ProgramData\\anaconda3\\Lib\\zipfile\\__init__.py:1801\u001b[0m, in \u001b[0;36mZipFile._extract_member\u001b[1;34m(self, member, targetpath, pwd)\u001b[0m\n\u001b[0;32m   1797\u001b[0m         os\u001b[38;5;241m.\u001b[39mmkdir(targetpath)\n\u001b[0;32m   1798\u001b[0m     \u001b[38;5;28;01mreturn\u001b[39;00m targetpath\n\u001b[0;32m   1800\u001b[0m \u001b[38;5;28;01mwith\u001b[39;00m \u001b[38;5;28mself\u001b[39m\u001b[38;5;241m.\u001b[39mopen(member, pwd\u001b[38;5;241m=\u001b[39mpwd) \u001b[38;5;28;01mas\u001b[39;00m source, \\\n\u001b[1;32m-> 1801\u001b[0m      \u001b[38;5;28mopen\u001b[39m(targetpath, \u001b[38;5;124m\"\u001b[39m\u001b[38;5;124mwb\u001b[39m\u001b[38;5;124m\"\u001b[39m) \u001b[38;5;28;01mas\u001b[39;00m target:\n\u001b[0;32m   1802\u001b[0m     shutil\u001b[38;5;241m.\u001b[39mcopyfileobj(source, target)\n\u001b[0;32m   1804\u001b[0m \u001b[38;5;28;01mreturn\u001b[39;00m targetpath\n",
      "\u001b[1;31mOSError\u001b[0m: [Errno 22] Invalid argument: 'D:\\\\ROOFTOP_PV_ACTUAL_2024_08_onwards1\\\\PUBLIC_ROOFTOP_PV_ACTUAL_SATELLITE_20250330120000_0000000457053653.csv'"
     ]
    }
   ],
   "source": [
    "import os\n",
    "import zipfile\n",
    "\n",
    "# Path to the directory containing the zip files\n",
    "zip_folder = r'D:\\ROOFTOP_PV_ACTUAL_2024_08_onwards'\n",
    "\n",
    "# Path to the destination folder where the extracted files will be saved\n",
    "destination_folder = r'D:\\ROOFTOP_PV_ACTUAL_2024_08_onwards1'\n",
    "\n",
    "# Get a list of all the zip files in the zip folder\n",
    "zip_files = [file_name for file_name in os.listdir(zip_folder) if file_name.endswith('.zip')]\n",
    "\n",
    "# Iterate over each file in the zip folder\n",
    "for file_name in zip_files:\n",
    "    # Construct the full path to the current file\n",
    "    file_path = os.path.join(zip_folder, file_name)\n",
    "    with zipfile.ZipFile(file_path, 'r') as zip_ref:\n",
    "        # Extract all files in the zip to the destination folder\n",
    "        zip_ref.extractall(destination_folder)\n",
    "\n",
    "os.remove(zipped_file)"
   ]
  },
  {
   "cell_type": "code",
   "execution_count": 6,
   "id": "2a7d6d6b-2074-48ff-9c4e-0819d5c17883",
   "metadata": {},
   "outputs": [
    {
     "ename": "TypeError",
     "evalue": "download() got an unexpected keyword argument 'verify'",
     "output_type": "error",
     "traceback": [
      "\u001b[1;31m---------------------------------------------------------------------------\u001b[0m",
      "\u001b[1;31mTypeError\u001b[0m                                 Traceback (most recent call last)",
      "Cell \u001b[1;32mIn[6], line 6\u001b[0m\n\u001b[0;32m      2\u001b[0m url \u001b[38;5;241m=\u001b[39m \u001b[38;5;124m'\u001b[39m\u001b[38;5;124mhttps://nemweb.com.au/Data_Archive/Wholesale_Electricity/NEMDE/2024/NEMDE_2024_10/NEMDE_Market_Data/NEMDE_Files/\u001b[39m\u001b[38;5;124m'\u001b[39m\n\u001b[0;32m      5\u001b[0m file_Path \u001b[38;5;241m=\u001b[39m \u001b[38;5;124m'\u001b[39m\u001b[38;5;124mNemPriceSetter_20241001_xml.zip\u001b[39m\u001b[38;5;124m'\u001b[39m\n\u001b[1;32m----> 6\u001b[0m wget\u001b[38;5;241m.\u001b[39mdownload(url, file_Path, verify\u001b[38;5;241m=\u001b[39m\u001b[38;5;28;01mFalse\u001b[39;00m)\n\u001b[0;32m      7\u001b[0m \u001b[38;5;28mprint\u001b[39m(\u001b[38;5;124m'\u001b[39m\u001b[38;5;124mdownloaded\u001b[39m\u001b[38;5;124m'\u001b[39m)\n",
      "\u001b[1;31mTypeError\u001b[0m: download() got an unexpected keyword argument 'verify'"
     ]
    }
   ],
   "source": [
    "import wget\n",
    "url = 'https://nemweb.com.au/Data_Archive/Wholesale_Electricity/NEMDE/2024/NEMDE_2024_10/NEMDE_Market_Data/NEMDE_Files/'\n",
    "\n",
    "\n",
    "file_Path = 'NemPriceSetter_20241001_xml.zip'\n",
    "wget.download(url, file_Path, verify=False)\n",
    "print('downloaded')"
   ]
  },
  {
   "cell_type": "code",
   "execution_count": 14,
   "id": "1a37d87a-ca66-4dfe-aec7-acfa96f14c63",
   "metadata": {},
   "outputs": [
    {
     "name": "stdout",
     "output_type": "stream",
     "text": [
      "Defaulting to user installation because normal site-packages is not writeable\n",
      "Collecting wget\n",
      "  Downloading wget-3.2.zip (10 kB)\n",
      "  Preparing metadata (setup.py): started\n",
      "  Preparing metadata (setup.py): finished with status 'done'\n",
      "Building wheels for collected packages: wget\n",
      "  Building wheel for wget (setup.py): started\n",
      "  Building wheel for wget (setup.py): finished with status 'done'\n",
      "  Created wheel for wget: filename=wget-3.2-py3-none-any.whl size=9683 sha256=760044093eb8abffaa8e9c59d007ef813e3381c3bf3f5809ae0501dc7c0f8545\n",
      "  Stored in directory: c:\\users\\ygu\\appdata\\local\\pip\\cache\\wheels\\8a\\b8\\04\\0c88fb22489b0c049bee4e977c5689c7fe597d6c4b0e7d0b6a\n",
      "Successfully built wget\n",
      "Installing collected packages: wget\n",
      "Successfully installed wget-3.2\n",
      "Note: you may need to restart the kernel to use updated packages.\n"
     ]
    },
    {
     "name": "stderr",
     "output_type": "stream",
     "text": [
      "  DEPRECATION: Building 'wget' using the legacy setup.py bdist_wheel mechanism, which will be removed in a future version. pip 25.3 will enforce this behaviour change. A possible replacement is to use the standardized build interface by setting the `--use-pep517` option, (possibly combined with `--no-build-isolation`), or adding a `pyproject.toml` file to the source tree of 'wget'. Discussion can be found at https://github.com/pypa/pip/issues/6334\n"
     ]
    }
   ],
   "source": [
    "pip install wget"
   ]
  },
  {
   "cell_type": "code",
   "execution_count": null,
   "id": "c3215a2e-5a25-44e8-a2e9-3f6e742c8e6e",
   "metadata": {},
   "outputs": [],
   "source": []
  }
 ],
 "metadata": {
  "kernelspec": {
   "display_name": "Python 3 (ipykernel)",
   "language": "python",
   "name": "python3"
  },
  "language_info": {
   "codemirror_mode": {
    "name": "ipython",
    "version": 3
   },
   "file_extension": ".py",
   "mimetype": "text/x-python",
   "name": "python",
   "nbconvert_exporter": "python",
   "pygments_lexer": "ipython3",
   "version": "3.13.5"
  }
 },
 "nbformat": 4,
 "nbformat_minor": 5
}
